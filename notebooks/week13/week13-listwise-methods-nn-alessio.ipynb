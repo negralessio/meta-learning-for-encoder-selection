{
 "cells": [
  {
   "cell_type": "code",
   "execution_count": 44,
   "id": "bcb1f69a",
   "metadata": {
    "ExecuteTime": {
     "end_time": "2023-07-17T14:54:59.223333Z",
     "start_time": "2023-07-17T14:54:59.159325Z"
    }
   },
   "outputs": [],
   "source": [
    "import numpy as np\n",
    "import pandas as pd\n",
    "\n",
    "from pathlib import Path\n",
    "from sklearn.pipeline import Pipeline\n",
    "from sklearn.preprocessing import OneHotEncoder\n",
    "from sklearn.tree import DecisionTreeRegressor\n",
    "from sklearn.ensemble import ExtraTreesRegressor\n",
    "\n",
    "import src.evaluate_regression as er\n",
    "import src.load_datasets as ld\n",
    "\n",
    "from src.encoding import ohe_encode_train_data\n",
    "from meta_information import add_dataset_meta_information\n",
    "from feature_engineering import normalize_train_data\n",
    "from data_cleaning import drop_pearson_correlated_features\n"
   ]
  },
  {
   "cell_type": "markdown",
   "source": [
    "# Load Data"
   ],
   "metadata": {
    "collapsed": false
   }
  },
  {
   "cell_type": "code",
   "execution_count": 45,
   "id": "c718e4f4",
   "metadata": {
    "ExecuteTime": {
     "end_time": "2023-07-17T14:54:59.223791Z",
     "start_time": "2023-07-17T14:54:59.188475Z"
    }
   },
   "outputs": [],
   "source": [
    "DATA_DIR = Path(\"./data\")\n",
    "\n",
    "factors = [\"dataset\", \"model\", \"tuning\", \"scoring\"]\n",
    "new_index = \"encoder\"\n",
    "target = \"rank\""
   ]
  },
  {
   "cell_type": "code",
   "execution_count": 46,
   "id": "76ed5449",
   "metadata": {
    "ExecuteTime": {
     "end_time": "2023-07-17T14:54:59.273764Z",
     "start_time": "2023-07-17T14:54:59.204244Z"
    }
   },
   "outputs": [
    {
     "name": "stdout",
     "output_type": "stream",
     "text": [
      "Loading data from '../../data/raw/dataset_rank_train.csv' ...\n"
     ]
    }
   ],
   "source": [
    "df_train = ld.load_dataset(\"../../data/raw/dataset_rank_train.csv\")\n",
    "\n",
    "if \"cv_score\" in df_train.columns:\n",
    "    df_train = df_train.drop(\"cv_score\", axis=1)"
   ]
  },
  {
   "cell_type": "markdown",
   "source": [
    "# Adapt to schema of the current week"
   ],
   "metadata": {
    "collapsed": false
   }
  },
  {
   "cell_type": "code",
   "execution_count": 47,
   "id": "dc7ea7e0",
   "metadata": {
    "ExecuteTime": {
     "end_time": "2023-07-17T14:54:59.336405Z",
     "start_time": "2023-07-17T14:54:59.263027Z"
    }
   },
   "outputs": [
    {
     "data": {
      "text/plain": "encoder  dataset model tuning scoring    BE  BUCV10RGLMME  BUCV10TE  \\\n0              3   DTC   full     ACC   1.0           1.0       1.0   \n1              3   DTC   full     AUC   1.0           1.0       1.0   \n2              3   DTC   full      F1   1.0           1.0       1.0   \n3              3   DTC  model     AUC  12.0          14.0       0.0   \n4              3   DTC  model      F1  12.0          13.0       0.0   \n\nencoder  BUCV2RGLMME  BUCV2TE  BUCV5RGLMME  ...  MHE   OE  OHE  PBTE0001  \\\n0                1.0      1.0          1.0  ...  1.0  1.0  1.0       1.0   \n1                1.0      1.0          1.0  ...  1.0  1.0  1.0       1.0   \n2                1.0      1.0          1.0  ...  1.0  1.0  1.0       1.0   \n3               18.0      6.0         17.0  ...  2.0  9.0  5.0       7.0   \n4               18.0      6.0         16.0  ...  2.0  9.0  5.0       7.0   \n\nencoder  PBTE001  PBTE01  RGLMME   SE   TE  WOEE  \n0            1.0     2.0     1.0  1.0  1.0   1.0  \n1            1.0     2.0     1.0  1.0  1.0   1.0  \n2            1.0     2.0     1.0  1.0  1.0   1.0  \n3           11.0    23.0    19.0  1.0  3.0   3.0  \n4           11.0    23.0    19.0  1.0  3.0   3.0  \n\n[5 rows x 36 columns]",
      "text/html": "<div>\n<style scoped>\n    .dataframe tbody tr th:only-of-type {\n        vertical-align: middle;\n    }\n\n    .dataframe tbody tr th {\n        vertical-align: top;\n    }\n\n    .dataframe thead th {\n        text-align: right;\n    }\n</style>\n<table border=\"1\" class=\"dataframe\">\n  <thead>\n    <tr style=\"text-align: right;\">\n      <th>encoder</th>\n      <th>dataset</th>\n      <th>model</th>\n      <th>tuning</th>\n      <th>scoring</th>\n      <th>BE</th>\n      <th>BUCV10RGLMME</th>\n      <th>BUCV10TE</th>\n      <th>BUCV2RGLMME</th>\n      <th>BUCV2TE</th>\n      <th>BUCV5RGLMME</th>\n      <th>...</th>\n      <th>MHE</th>\n      <th>OE</th>\n      <th>OHE</th>\n      <th>PBTE0001</th>\n      <th>PBTE001</th>\n      <th>PBTE01</th>\n      <th>RGLMME</th>\n      <th>SE</th>\n      <th>TE</th>\n      <th>WOEE</th>\n    </tr>\n  </thead>\n  <tbody>\n    <tr>\n      <th>0</th>\n      <td>3</td>\n      <td>DTC</td>\n      <td>full</td>\n      <td>ACC</td>\n      <td>1.0</td>\n      <td>1.0</td>\n      <td>1.0</td>\n      <td>1.0</td>\n      <td>1.0</td>\n      <td>1.0</td>\n      <td>...</td>\n      <td>1.0</td>\n      <td>1.0</td>\n      <td>1.0</td>\n      <td>1.0</td>\n      <td>1.0</td>\n      <td>2.0</td>\n      <td>1.0</td>\n      <td>1.0</td>\n      <td>1.0</td>\n      <td>1.0</td>\n    </tr>\n    <tr>\n      <th>1</th>\n      <td>3</td>\n      <td>DTC</td>\n      <td>full</td>\n      <td>AUC</td>\n      <td>1.0</td>\n      <td>1.0</td>\n      <td>1.0</td>\n      <td>1.0</td>\n      <td>1.0</td>\n      <td>1.0</td>\n      <td>...</td>\n      <td>1.0</td>\n      <td>1.0</td>\n      <td>1.0</td>\n      <td>1.0</td>\n      <td>1.0</td>\n      <td>2.0</td>\n      <td>1.0</td>\n      <td>1.0</td>\n      <td>1.0</td>\n      <td>1.0</td>\n    </tr>\n    <tr>\n      <th>2</th>\n      <td>3</td>\n      <td>DTC</td>\n      <td>full</td>\n      <td>F1</td>\n      <td>1.0</td>\n      <td>1.0</td>\n      <td>1.0</td>\n      <td>1.0</td>\n      <td>1.0</td>\n      <td>1.0</td>\n      <td>...</td>\n      <td>1.0</td>\n      <td>1.0</td>\n      <td>1.0</td>\n      <td>1.0</td>\n      <td>1.0</td>\n      <td>2.0</td>\n      <td>1.0</td>\n      <td>1.0</td>\n      <td>1.0</td>\n      <td>1.0</td>\n    </tr>\n    <tr>\n      <th>3</th>\n      <td>3</td>\n      <td>DTC</td>\n      <td>model</td>\n      <td>AUC</td>\n      <td>12.0</td>\n      <td>14.0</td>\n      <td>0.0</td>\n      <td>18.0</td>\n      <td>6.0</td>\n      <td>17.0</td>\n      <td>...</td>\n      <td>2.0</td>\n      <td>9.0</td>\n      <td>5.0</td>\n      <td>7.0</td>\n      <td>11.0</td>\n      <td>23.0</td>\n      <td>19.0</td>\n      <td>1.0</td>\n      <td>3.0</td>\n      <td>3.0</td>\n    </tr>\n    <tr>\n      <th>4</th>\n      <td>3</td>\n      <td>DTC</td>\n      <td>model</td>\n      <td>F1</td>\n      <td>12.0</td>\n      <td>13.0</td>\n      <td>0.0</td>\n      <td>18.0</td>\n      <td>6.0</td>\n      <td>16.0</td>\n      <td>...</td>\n      <td>2.0</td>\n      <td>9.0</td>\n      <td>5.0</td>\n      <td>7.0</td>\n      <td>11.0</td>\n      <td>23.0</td>\n      <td>19.0</td>\n      <td>1.0</td>\n      <td>3.0</td>\n      <td>3.0</td>\n    </tr>\n  </tbody>\n</table>\n<p>5 rows × 36 columns</p>\n</div>"
     },
     "execution_count": 47,
     "metadata": {},
     "output_type": "execute_result"
    }
   ],
   "source": [
    "df_train = pd.pivot(df_train, index=factors, columns=\"encoder\", values=\"rank\").reset_index()\n",
    "df_train.head()"
   ]
  },
  {
   "cell_type": "code",
   "execution_count": 48,
   "id": "8c94bc36",
   "metadata": {
    "ExecuteTime": {
     "end_time": "2023-07-17T14:54:59.358263Z",
     "start_time": "2023-07-17T14:54:59.349292Z"
    }
   },
   "outputs": [
    {
     "data": {
      "text/plain": "encoder  dataset model tuning scoring\n0              3   DTC   full     ACC\n1              3   DTC   full     AUC\n2              3   DTC   full      F1\n3              3   DTC  model     AUC\n4              3   DTC  model      F1",
      "text/html": "<div>\n<style scoped>\n    .dataframe tbody tr th:only-of-type {\n        vertical-align: middle;\n    }\n\n    .dataframe tbody tr th {\n        vertical-align: top;\n    }\n\n    .dataframe thead th {\n        text-align: right;\n    }\n</style>\n<table border=\"1\" class=\"dataframe\">\n  <thead>\n    <tr style=\"text-align: right;\">\n      <th>encoder</th>\n      <th>dataset</th>\n      <th>model</th>\n      <th>tuning</th>\n      <th>scoring</th>\n    </tr>\n  </thead>\n  <tbody>\n    <tr>\n      <th>0</th>\n      <td>3</td>\n      <td>DTC</td>\n      <td>full</td>\n      <td>ACC</td>\n    </tr>\n    <tr>\n      <th>1</th>\n      <td>3</td>\n      <td>DTC</td>\n      <td>full</td>\n      <td>AUC</td>\n    </tr>\n    <tr>\n      <th>2</th>\n      <td>3</td>\n      <td>DTC</td>\n      <td>full</td>\n      <td>F1</td>\n    </tr>\n    <tr>\n      <th>3</th>\n      <td>3</td>\n      <td>DTC</td>\n      <td>model</td>\n      <td>AUC</td>\n    </tr>\n    <tr>\n      <th>4</th>\n      <td>3</td>\n      <td>DTC</td>\n      <td>model</td>\n      <td>F1</td>\n    </tr>\n  </tbody>\n</table>\n</div>"
     },
     "execution_count": 48,
     "metadata": {},
     "output_type": "execute_result"
    }
   ],
   "source": [
    "X_train = df_train[factors]\n",
    "X_train_org = X_train.copy()\n",
    "X_train.head()"
   ]
  },
  {
   "cell_type": "code",
   "execution_count": 49,
   "id": "b2d0d1e4",
   "metadata": {
    "ExecuteTime": {
     "end_time": "2023-07-17T14:54:59.450357Z",
     "start_time": "2023-07-17T14:54:59.386762Z"
    }
   },
   "outputs": [
    {
     "name": "stdout",
     "output_type": "stream",
     "text": [
      "(1161, 32)\n",
      "Index(['BE', 'BUCV10RGLMME', 'BUCV10TE', 'BUCV2RGLMME', 'BUCV2TE',\n",
      "       'BUCV5RGLMME', 'BUCV5TE', 'CBE', 'CE', 'CV10RGLMME', 'CV10TE',\n",
      "       'CV2RGLMME', 'CV2TE', 'CV5RGLMME', 'CV5TE', 'DE', 'DTEM10', 'DTEM2',\n",
      "       'DTEM5', 'ME01E', 'ME10E', 'ME1E', 'MHE', 'OE', 'OHE', 'PBTE0001',\n",
      "       'PBTE001', 'PBTE01', 'RGLMME', 'SE', 'TE', 'WOEE'],\n",
      "      dtype='object', name='encoder')\n"
     ]
    },
    {
     "data": {
      "text/plain": "encoder    BE  BUCV10RGLMME  BUCV10TE  BUCV2RGLMME  BUCV2TE  BUCV5RGLMME  \\\n0         1.0           1.0       1.0          1.0      1.0          1.0   \n1         1.0           1.0       1.0          1.0      1.0          1.0   \n2         1.0           1.0       1.0          1.0      1.0          1.0   \n3        12.0          14.0       0.0         18.0      6.0         17.0   \n4        12.0          13.0       0.0         18.0      6.0         16.0   \n\nencoder  BUCV5TE   CBE   CE  CV10RGLMME  ...  MHE   OE  OHE  PBTE0001  \\\n0            1.0   3.0  1.0         1.0  ...  1.0  1.0  1.0       1.0   \n1            1.0   3.0  1.0         1.0  ...  1.0  1.0  1.0       1.0   \n2            1.0   4.0  1.0         1.0  ...  1.0  1.0  1.0       1.0   \n3            4.0  24.0  8.0        16.0  ...  2.0  9.0  5.0       7.0   \n4            4.0  25.0  8.0        15.0  ...  2.0  9.0  5.0       7.0   \n\nencoder  PBTE001  PBTE01  RGLMME   SE   TE  WOEE  \n0            1.0     2.0     1.0  1.0  1.0   1.0  \n1            1.0     2.0     1.0  1.0  1.0   1.0  \n2            1.0     2.0     1.0  1.0  1.0   1.0  \n3           11.0    23.0    19.0  1.0  3.0   3.0  \n4           11.0    23.0    19.0  1.0  3.0   3.0  \n\n[5 rows x 32 columns]",
      "text/html": "<div>\n<style scoped>\n    .dataframe tbody tr th:only-of-type {\n        vertical-align: middle;\n    }\n\n    .dataframe tbody tr th {\n        vertical-align: top;\n    }\n\n    .dataframe thead th {\n        text-align: right;\n    }\n</style>\n<table border=\"1\" class=\"dataframe\">\n  <thead>\n    <tr style=\"text-align: right;\">\n      <th>encoder</th>\n      <th>BE</th>\n      <th>BUCV10RGLMME</th>\n      <th>BUCV10TE</th>\n      <th>BUCV2RGLMME</th>\n      <th>BUCV2TE</th>\n      <th>BUCV5RGLMME</th>\n      <th>BUCV5TE</th>\n      <th>CBE</th>\n      <th>CE</th>\n      <th>CV10RGLMME</th>\n      <th>...</th>\n      <th>MHE</th>\n      <th>OE</th>\n      <th>OHE</th>\n      <th>PBTE0001</th>\n      <th>PBTE001</th>\n      <th>PBTE01</th>\n      <th>RGLMME</th>\n      <th>SE</th>\n      <th>TE</th>\n      <th>WOEE</th>\n    </tr>\n  </thead>\n  <tbody>\n    <tr>\n      <th>0</th>\n      <td>1.0</td>\n      <td>1.0</td>\n      <td>1.0</td>\n      <td>1.0</td>\n      <td>1.0</td>\n      <td>1.0</td>\n      <td>1.0</td>\n      <td>3.0</td>\n      <td>1.0</td>\n      <td>1.0</td>\n      <td>...</td>\n      <td>1.0</td>\n      <td>1.0</td>\n      <td>1.0</td>\n      <td>1.0</td>\n      <td>1.0</td>\n      <td>2.0</td>\n      <td>1.0</td>\n      <td>1.0</td>\n      <td>1.0</td>\n      <td>1.0</td>\n    </tr>\n    <tr>\n      <th>1</th>\n      <td>1.0</td>\n      <td>1.0</td>\n      <td>1.0</td>\n      <td>1.0</td>\n      <td>1.0</td>\n      <td>1.0</td>\n      <td>1.0</td>\n      <td>3.0</td>\n      <td>1.0</td>\n      <td>1.0</td>\n      <td>...</td>\n      <td>1.0</td>\n      <td>1.0</td>\n      <td>1.0</td>\n      <td>1.0</td>\n      <td>1.0</td>\n      <td>2.0</td>\n      <td>1.0</td>\n      <td>1.0</td>\n      <td>1.0</td>\n      <td>1.0</td>\n    </tr>\n    <tr>\n      <th>2</th>\n      <td>1.0</td>\n      <td>1.0</td>\n      <td>1.0</td>\n      <td>1.0</td>\n      <td>1.0</td>\n      <td>1.0</td>\n      <td>1.0</td>\n      <td>4.0</td>\n      <td>1.0</td>\n      <td>1.0</td>\n      <td>...</td>\n      <td>1.0</td>\n      <td>1.0</td>\n      <td>1.0</td>\n      <td>1.0</td>\n      <td>1.0</td>\n      <td>2.0</td>\n      <td>1.0</td>\n      <td>1.0</td>\n      <td>1.0</td>\n      <td>1.0</td>\n    </tr>\n    <tr>\n      <th>3</th>\n      <td>12.0</td>\n      <td>14.0</td>\n      <td>0.0</td>\n      <td>18.0</td>\n      <td>6.0</td>\n      <td>17.0</td>\n      <td>4.0</td>\n      <td>24.0</td>\n      <td>8.0</td>\n      <td>16.0</td>\n      <td>...</td>\n      <td>2.0</td>\n      <td>9.0</td>\n      <td>5.0</td>\n      <td>7.0</td>\n      <td>11.0</td>\n      <td>23.0</td>\n      <td>19.0</td>\n      <td>1.0</td>\n      <td>3.0</td>\n      <td>3.0</td>\n    </tr>\n    <tr>\n      <th>4</th>\n      <td>12.0</td>\n      <td>13.0</td>\n      <td>0.0</td>\n      <td>18.0</td>\n      <td>6.0</td>\n      <td>16.0</td>\n      <td>4.0</td>\n      <td>25.0</td>\n      <td>8.0</td>\n      <td>15.0</td>\n      <td>...</td>\n      <td>2.0</td>\n      <td>9.0</td>\n      <td>5.0</td>\n      <td>7.0</td>\n      <td>11.0</td>\n      <td>23.0</td>\n      <td>19.0</td>\n      <td>1.0</td>\n      <td>3.0</td>\n      <td>3.0</td>\n    </tr>\n  </tbody>\n</table>\n<p>5 rows × 32 columns</p>\n</div>"
     },
     "execution_count": 49,
     "metadata": {},
     "output_type": "execute_result"
    }
   ],
   "source": [
    "y_train = df_train.drop(factors, axis=1)\n",
    "\n",
    "print(y_train.shape)\n",
    "print(y_train.columns)\n",
    "\n",
    "y_train.head()"
   ]
  },
  {
   "cell_type": "code",
   "execution_count": 50,
   "outputs": [],
   "source": [
    "target = list(y_train.columns)\n",
    "cv_indices = er.custom_cross_validated_indices(pd.concat([X_train, y_train], axis=1),\n",
    "                                                                    factors,\n",
    "                                                                    target,\n",
    "                                                                    n_splits=5,\n",
    "                                                                    shuffle=True,\n",
    "                                                                    random_state=1444)"
   ],
   "metadata": {
    "collapsed": false,
    "ExecuteTime": {
     "end_time": "2023-07-17T14:54:59.487878Z",
     "start_time": "2023-07-17T14:54:59.391667Z"
    }
   }
  },
  {
   "cell_type": "markdown",
   "source": [
    "# Preprocess Train Data"
   ],
   "metadata": {
    "collapsed": false
   }
  },
  {
   "cell_type": "code",
   "execution_count": 51,
   "outputs": [
    {
     "name": "stdout",
     "output_type": "stream",
     "text": [
      "One Hot Encoding the features ['model', 'tuning', 'scoring'] of the train data ...\n",
      "Drop pearson correlated features with threshold 0.7...\n",
      "Filter correlated features\n",
      "Normalizing train data using method 'minmax' ...\n"
     ]
    },
    {
     "data": {
      "text/plain": "   dataset  model_DTC  model_KNC  model_LGBMC  model_LR  model_SVC  \\\n0      0.0        1.0        0.0          0.0       0.0        0.0   \n1      0.0        1.0        0.0          0.0       0.0        0.0   \n2      0.0        1.0        0.0          0.0       0.0        0.0   \n3      0.0        1.0        0.0          0.0       0.0        0.0   \n4      0.0        1.0        0.0          0.0       0.0        0.0   \n\n   tuning_full  tuning_model  tuning_no  scoring_ACC  ...  \\\n0          1.0           0.0        0.0          1.0  ...   \n1          1.0           0.0        0.0          0.0  ...   \n2          1.0           0.0        0.0          0.0  ...   \n3          0.0           1.0        0.0          0.0  ...   \n4          0.0           1.0        0.0          0.0  ...   \n\n   NumberOfSymbolicFeatures  MinMutualInformation  \\\n0                  0.270073          4.793819e-08   \n1                  0.270073          4.793819e-08   \n2                  0.270073          4.793819e-08   \n3                  0.270073          4.793819e-08   \n4                  0.270073          4.793819e-08   \n\n   PercentageOfInstancesWithMissingValues  MinNominalAttDistinctValues  \\\n0                                     0.0                          1.0   \n1                                     0.0                          1.0   \n2                                     0.0                          1.0   \n3                                     0.0                          1.0   \n4                                     0.0                          1.0   \n\n   NumberOfNumericFeatures  rows_with_null_values_count  \\\n0                      0.0                          0.0   \n1                      0.0                          0.0   \n2                      0.0                          0.0   \n3                      0.0                          0.0   \n4                      0.0                          0.0   \n\n   categorical_target_variables_count  non_categorical_target_variables_count  \\\n0                                 0.0                                     0.0   \n1                                 0.0                                     0.0   \n2                                 0.0                                     0.0   \n3                                 0.0                                     0.0   \n4                                 0.0                                     0.0   \n\n   categorical_target_values_sum  min_number_of_categories_per_cat_feature  \n0                            0.0                                  0.015152  \n1                            0.0                                  0.015152  \n2                            0.0                                  0.015152  \n3                            0.0                                  0.015152  \n4                            0.0                                  0.015152  \n\n[5 rows x 40 columns]",
      "text/html": "<div>\n<style scoped>\n    .dataframe tbody tr th:only-of-type {\n        vertical-align: middle;\n    }\n\n    .dataframe tbody tr th {\n        vertical-align: top;\n    }\n\n    .dataframe thead th {\n        text-align: right;\n    }\n</style>\n<table border=\"1\" class=\"dataframe\">\n  <thead>\n    <tr style=\"text-align: right;\">\n      <th></th>\n      <th>dataset</th>\n      <th>model_DTC</th>\n      <th>model_KNC</th>\n      <th>model_LGBMC</th>\n      <th>model_LR</th>\n      <th>model_SVC</th>\n      <th>tuning_full</th>\n      <th>tuning_model</th>\n      <th>tuning_no</th>\n      <th>scoring_ACC</th>\n      <th>...</th>\n      <th>NumberOfSymbolicFeatures</th>\n      <th>MinMutualInformation</th>\n      <th>PercentageOfInstancesWithMissingValues</th>\n      <th>MinNominalAttDistinctValues</th>\n      <th>NumberOfNumericFeatures</th>\n      <th>rows_with_null_values_count</th>\n      <th>categorical_target_variables_count</th>\n      <th>non_categorical_target_variables_count</th>\n      <th>categorical_target_values_sum</th>\n      <th>min_number_of_categories_per_cat_feature</th>\n    </tr>\n  </thead>\n  <tbody>\n    <tr>\n      <th>0</th>\n      <td>0.0</td>\n      <td>1.0</td>\n      <td>0.0</td>\n      <td>0.0</td>\n      <td>0.0</td>\n      <td>0.0</td>\n      <td>1.0</td>\n      <td>0.0</td>\n      <td>0.0</td>\n      <td>1.0</td>\n      <td>...</td>\n      <td>0.270073</td>\n      <td>4.793819e-08</td>\n      <td>0.0</td>\n      <td>1.0</td>\n      <td>0.0</td>\n      <td>0.0</td>\n      <td>0.0</td>\n      <td>0.0</td>\n      <td>0.0</td>\n      <td>0.015152</td>\n    </tr>\n    <tr>\n      <th>1</th>\n      <td>0.0</td>\n      <td>1.0</td>\n      <td>0.0</td>\n      <td>0.0</td>\n      <td>0.0</td>\n      <td>0.0</td>\n      <td>1.0</td>\n      <td>0.0</td>\n      <td>0.0</td>\n      <td>0.0</td>\n      <td>...</td>\n      <td>0.270073</td>\n      <td>4.793819e-08</td>\n      <td>0.0</td>\n      <td>1.0</td>\n      <td>0.0</td>\n      <td>0.0</td>\n      <td>0.0</td>\n      <td>0.0</td>\n      <td>0.0</td>\n      <td>0.015152</td>\n    </tr>\n    <tr>\n      <th>2</th>\n      <td>0.0</td>\n      <td>1.0</td>\n      <td>0.0</td>\n      <td>0.0</td>\n      <td>0.0</td>\n      <td>0.0</td>\n      <td>1.0</td>\n      <td>0.0</td>\n      <td>0.0</td>\n      <td>0.0</td>\n      <td>...</td>\n      <td>0.270073</td>\n      <td>4.793819e-08</td>\n      <td>0.0</td>\n      <td>1.0</td>\n      <td>0.0</td>\n      <td>0.0</td>\n      <td>0.0</td>\n      <td>0.0</td>\n      <td>0.0</td>\n      <td>0.015152</td>\n    </tr>\n    <tr>\n      <th>3</th>\n      <td>0.0</td>\n      <td>1.0</td>\n      <td>0.0</td>\n      <td>0.0</td>\n      <td>0.0</td>\n      <td>0.0</td>\n      <td>0.0</td>\n      <td>1.0</td>\n      <td>0.0</td>\n      <td>0.0</td>\n      <td>...</td>\n      <td>0.270073</td>\n      <td>4.793819e-08</td>\n      <td>0.0</td>\n      <td>1.0</td>\n      <td>0.0</td>\n      <td>0.0</td>\n      <td>0.0</td>\n      <td>0.0</td>\n      <td>0.0</td>\n      <td>0.015152</td>\n    </tr>\n    <tr>\n      <th>4</th>\n      <td>0.0</td>\n      <td>1.0</td>\n      <td>0.0</td>\n      <td>0.0</td>\n      <td>0.0</td>\n      <td>0.0</td>\n      <td>0.0</td>\n      <td>1.0</td>\n      <td>0.0</td>\n      <td>0.0</td>\n      <td>...</td>\n      <td>0.270073</td>\n      <td>4.793819e-08</td>\n      <td>0.0</td>\n      <td>1.0</td>\n      <td>0.0</td>\n      <td>0.0</td>\n      <td>0.0</td>\n      <td>0.0</td>\n      <td>0.0</td>\n      <td>0.015152</td>\n    </tr>\n  </tbody>\n</table>\n<p>5 rows × 40 columns</p>\n</div>"
     },
     "execution_count": 51,
     "metadata": {},
     "output_type": "execute_result"
    }
   ],
   "source": [
    "X_train, _ = ohe_encode_train_data(X_train=X_train, cols_to_encode=[\"model\", \"tuning\", \"scoring\"], verbosity=1)\n",
    "\n",
    "X_train = add_dataset_meta_information(df=X_train,\n",
    "                                        path_to_meta_df=\"../../data/preprocessed/dataset_agg.csv\",\n",
    "                                        nan_threshold=0.5,\n",
    "                                        replacing_strategy=\"median\")\n",
    "\n",
    "# Drop correlated features\n",
    "X_train, _ = drop_pearson_correlated_features(train_data=X_train, test_data=None, threshold=0.7, verbosity=1)\n",
    "\n",
    "# Normalize\n",
    "X_train, scaler = normalize_train_data(X_train=X_train, method=\"minmax\", verbosity=1)\n",
    "\n",
    "X_train.head(5)"
   ],
   "metadata": {
    "collapsed": false,
    "ExecuteTime": {
     "end_time": "2023-07-17T14:54:59.889162Z",
     "start_time": "2023-07-17T14:54:59.467001Z"
    }
   }
  },
  {
   "cell_type": "code",
   "execution_count": 52,
   "id": "65520405",
   "metadata": {
    "ExecuteTime": {
     "end_time": "2023-07-17T14:54:59.932895Z",
     "start_time": "2023-07-17T14:54:59.889710Z"
    }
   },
   "outputs": [
    {
     "name": "stderr",
     "output_type": "stream",
     "text": [
      "/Users/alessionegrini/opt/anaconda3/envs/ds_lab/lib/python3.10/site-packages/numpy/core/fromnumeric.py:86: FutureWarning: In a future version, DataFrame.max(axis=None) will return a scalar max over the entire DataFrame. To retain the old behavior, use 'frame.max(axis=0)' or just 'frame.max()'\n",
      "  return reduction(axis=axis, out=out, **passkwargs)\n"
     ]
    }
   ],
   "source": [
    "y_train = y_train.fillna(np.max(y_train))"
   ]
  },
  {
   "cell_type": "markdown",
   "source": [
    "# Evaluate using custom CV"
   ],
   "metadata": {
    "collapsed": false
   }
  },
  {
   "cell_type": "code",
   "execution_count": 53,
   "id": "165864b4",
   "metadata": {
    "ExecuteTime": {
     "end_time": "2023-07-17T14:55:09.689307Z",
     "start_time": "2023-07-17T14:54:59.933265Z"
    }
   },
   "outputs": [
    {
     "name": "stdout",
     "output_type": "stream",
     "text": [
      "Average Spearman: 0.7587 +/- 0.0219\n"
     ]
    }
   ],
   "source": [
    "scores = []\n",
    "dummy_pipe = Pipeline([\n",
    "    (\"model\", ExtraTreesRegressor(random_state=43))\n",
    "])\n",
    "\n",
    "for fold in cv_indices:\n",
    "    #X_train_org_tr = X_train_org.iloc[fold[0]]\n",
    "    X_train_org_te = X_train_org.iloc[fold[1]]\n",
    "\n",
    "    X_tr = X_train.iloc[fold[0]]\n",
    "    X_te = X_train.iloc[fold[1]]\n",
    "    y_tr = y_train.iloc[fold[0]]\n",
    "    y_te = y_train.iloc[fold[1]]\n",
    "\n",
    "    y_pred = pd.DataFrame(dummy_pipe.fit(X_tr, y_tr).predict(X_te), columns=y_tr.columns, index=X_te.index)\n",
    "    \n",
    "    df_pred = pd.merge(pd.concat([X_train_org_te, y_te], axis=1).melt(id_vars=factors, value_name=\"rank\").dropna(axis=0),\n",
    "                       pd.concat([X_train_org_te, y_pred], axis=1).melt(id_vars=factors, value_name=\"rank_pred\"),\n",
    "                       on=factors+[\"encoder\"], how=\"left\")\n",
    "\n",
    "    rankings_test = er.get_rankings(df_pred, factors=factors, new_index=new_index, target=\"rank\")\n",
    "    rankings_pred = er.get_rankings(df_pred, factors=factors, new_index=new_index, target=\"rank_pred\")\n",
    "    scores.append(er.average_spearman(rankings_test, rankings_pred))\n",
    "\n",
    "print(f\"Average Spearman: {round(np.mean(scores), 4)} +/- {round(np.std(scores), 4)}\")"
   ]
  }
 ],
 "metadata": {
  "kernelspec": {
   "display_name": "Python 3 (ipykernel)",
   "language": "python",
   "name": "python3"
  },
  "language_info": {
   "codemirror_mode": {
    "name": "ipython",
    "version": 3
   },
   "file_extension": ".py",
   "mimetype": "text/x-python",
   "name": "python",
   "nbconvert_exporter": "python",
   "pygments_lexer": "ipython3",
   "version": "3.10.6"
  }
 },
 "nbformat": 4,
 "nbformat_minor": 5
}
