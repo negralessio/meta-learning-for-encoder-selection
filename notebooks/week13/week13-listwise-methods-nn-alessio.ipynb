{
 "cells": [
  {
   "cell_type": "code",
   "execution_count": 1,
   "id": "bcb1f69a",
   "metadata": {
    "ExecuteTime": {
     "end_time": "2023-07-23T15:58:43.828268Z",
     "start_time": "2023-07-23T15:58:31.477448Z"
    }
   },
   "outputs": [
    {
     "name": "stderr",
     "output_type": "stream",
     "text": [
      "2023-07-23 17:58:39.278004: I tensorflow/core/platform/cpu_feature_guard.cc:182] This TensorFlow binary is optimized to use available CPU instructions in performance-critical operations.\n",
      "To enable the following instructions: AVX2 FMA, in other operations, rebuild TensorFlow with the appropriate compiler flags.\n"
     ]
    }
   ],
   "source": [
    "import matplotlib.pyplot as plt\n",
    "import numpy as np\n",
    "import pandas as pd\n",
    "import seaborn as sns\n",
    "import datetime\n",
    "\n",
    "from pathlib import Path\n",
    "\n",
    "import src.evaluate_regression as er\n",
    "import src.load_datasets as ld\n",
    "\n",
    "from src.encoding import ohe_encode_train_data\n",
    "from meta_information import add_dataset_meta_information\n",
    "from feature_engineering import normalize_train_data, normalize_test_data\n",
    "from data_cleaning import drop_pearson_correlated_features\n",
    "\n",
    "import tensorflow as tf\n",
    "import tensorflow_ranking as tfr\n",
    "tf.random.set_seed(42)\n"
   ]
  },
  {
   "cell_type": "markdown",
   "source": [
    "# Load Data"
   ],
   "metadata": {
    "collapsed": false
   }
  },
  {
   "cell_type": "code",
   "execution_count": 2,
   "id": "c718e4f4",
   "metadata": {
    "ExecuteTime": {
     "end_time": "2023-07-23T15:58:43.836560Z",
     "start_time": "2023-07-23T15:58:43.830446Z"
    }
   },
   "outputs": [],
   "source": [
    "DATA_DIR = Path(\"./data\")\n",
    "\n",
    "factors = [\"dataset\", \"model\", \"tuning\", \"scoring\"]\n",
    "new_index = \"encoder\"\n",
    "target = \"rank\""
   ]
  },
  {
   "cell_type": "code",
   "execution_count": 3,
   "id": "76ed5449",
   "metadata": {
    "ExecuteTime": {
     "end_time": "2023-07-23T15:58:43.895641Z",
     "start_time": "2023-07-23T15:58:43.842674Z"
    }
   },
   "outputs": [
    {
     "name": "stdout",
     "output_type": "stream",
     "text": [
      "Loading data from '../../data/raw/dataset_rank_train.csv' ...\n",
      "Shape of unprocessed data df_train:  (36054, 7)\n"
     ]
    }
   ],
   "source": [
    "df_train = ld.load_dataset(\"../../data/raw/dataset_rank_train.csv\")\n",
    "print(\"Shape of unprocessed data df_train: \", df_train.shape)\n",
    "\n",
    "if \"cv_score\" in df_train.columns:\n",
    "    df_train = df_train.drop(\"cv_score\", axis=1)"
   ]
  },
  {
   "cell_type": "markdown",
   "source": [
    "# Adapt to schema of the current week"
   ],
   "metadata": {
    "collapsed": false
   }
  },
  {
   "cell_type": "code",
   "execution_count": 4,
   "id": "dc7ea7e0",
   "metadata": {
    "ExecuteTime": {
     "end_time": "2023-07-23T15:58:43.974430Z",
     "start_time": "2023-07-23T15:58:43.898356Z"
    }
   },
   "outputs": [
    {
     "name": "stdout",
     "output_type": "stream",
     "text": [
      "(1161, 36)\n"
     ]
    },
    {
     "data": {
      "text/plain": "encoder  dataset model tuning scoring    BE  BUCV10RGLMME  BUCV10TE  \\\n0              3   DTC   full     ACC   1.0           1.0       1.0   \n1              3   DTC   full     AUC   1.0           1.0       1.0   \n2              3   DTC   full      F1   1.0           1.0       1.0   \n3              3   DTC  model     AUC  12.0          14.0       0.0   \n4              3   DTC  model      F1  12.0          13.0       0.0   \n\nencoder  BUCV2RGLMME  BUCV2TE  BUCV5RGLMME  ...  MHE   OE  OHE  PBTE0001  \\\n0                1.0      1.0          1.0  ...  1.0  1.0  1.0       1.0   \n1                1.0      1.0          1.0  ...  1.0  1.0  1.0       1.0   \n2                1.0      1.0          1.0  ...  1.0  1.0  1.0       1.0   \n3               18.0      6.0         17.0  ...  2.0  9.0  5.0       7.0   \n4               18.0      6.0         16.0  ...  2.0  9.0  5.0       7.0   \n\nencoder  PBTE001  PBTE01  RGLMME   SE   TE  WOEE  \n0            1.0     2.0     1.0  1.0  1.0   1.0  \n1            1.0     2.0     1.0  1.0  1.0   1.0  \n2            1.0     2.0     1.0  1.0  1.0   1.0  \n3           11.0    23.0    19.0  1.0  3.0   3.0  \n4           11.0    23.0    19.0  1.0  3.0   3.0  \n\n[5 rows x 36 columns]",
      "text/html": "<div>\n<style scoped>\n    .dataframe tbody tr th:only-of-type {\n        vertical-align: middle;\n    }\n\n    .dataframe tbody tr th {\n        vertical-align: top;\n    }\n\n    .dataframe thead th {\n        text-align: right;\n    }\n</style>\n<table border=\"1\" class=\"dataframe\">\n  <thead>\n    <tr style=\"text-align: right;\">\n      <th>encoder</th>\n      <th>dataset</th>\n      <th>model</th>\n      <th>tuning</th>\n      <th>scoring</th>\n      <th>BE</th>\n      <th>BUCV10RGLMME</th>\n      <th>BUCV10TE</th>\n      <th>BUCV2RGLMME</th>\n      <th>BUCV2TE</th>\n      <th>BUCV5RGLMME</th>\n      <th>...</th>\n      <th>MHE</th>\n      <th>OE</th>\n      <th>OHE</th>\n      <th>PBTE0001</th>\n      <th>PBTE001</th>\n      <th>PBTE01</th>\n      <th>RGLMME</th>\n      <th>SE</th>\n      <th>TE</th>\n      <th>WOEE</th>\n    </tr>\n  </thead>\n  <tbody>\n    <tr>\n      <th>0</th>\n      <td>3</td>\n      <td>DTC</td>\n      <td>full</td>\n      <td>ACC</td>\n      <td>1.0</td>\n      <td>1.0</td>\n      <td>1.0</td>\n      <td>1.0</td>\n      <td>1.0</td>\n      <td>1.0</td>\n      <td>...</td>\n      <td>1.0</td>\n      <td>1.0</td>\n      <td>1.0</td>\n      <td>1.0</td>\n      <td>1.0</td>\n      <td>2.0</td>\n      <td>1.0</td>\n      <td>1.0</td>\n      <td>1.0</td>\n      <td>1.0</td>\n    </tr>\n    <tr>\n      <th>1</th>\n      <td>3</td>\n      <td>DTC</td>\n      <td>full</td>\n      <td>AUC</td>\n      <td>1.0</td>\n      <td>1.0</td>\n      <td>1.0</td>\n      <td>1.0</td>\n      <td>1.0</td>\n      <td>1.0</td>\n      <td>...</td>\n      <td>1.0</td>\n      <td>1.0</td>\n      <td>1.0</td>\n      <td>1.0</td>\n      <td>1.0</td>\n      <td>2.0</td>\n      <td>1.0</td>\n      <td>1.0</td>\n      <td>1.0</td>\n      <td>1.0</td>\n    </tr>\n    <tr>\n      <th>2</th>\n      <td>3</td>\n      <td>DTC</td>\n      <td>full</td>\n      <td>F1</td>\n      <td>1.0</td>\n      <td>1.0</td>\n      <td>1.0</td>\n      <td>1.0</td>\n      <td>1.0</td>\n      <td>1.0</td>\n      <td>...</td>\n      <td>1.0</td>\n      <td>1.0</td>\n      <td>1.0</td>\n      <td>1.0</td>\n      <td>1.0</td>\n      <td>2.0</td>\n      <td>1.0</td>\n      <td>1.0</td>\n      <td>1.0</td>\n      <td>1.0</td>\n    </tr>\n    <tr>\n      <th>3</th>\n      <td>3</td>\n      <td>DTC</td>\n      <td>model</td>\n      <td>AUC</td>\n      <td>12.0</td>\n      <td>14.0</td>\n      <td>0.0</td>\n      <td>18.0</td>\n      <td>6.0</td>\n      <td>17.0</td>\n      <td>...</td>\n      <td>2.0</td>\n      <td>9.0</td>\n      <td>5.0</td>\n      <td>7.0</td>\n      <td>11.0</td>\n      <td>23.0</td>\n      <td>19.0</td>\n      <td>1.0</td>\n      <td>3.0</td>\n      <td>3.0</td>\n    </tr>\n    <tr>\n      <th>4</th>\n      <td>3</td>\n      <td>DTC</td>\n      <td>model</td>\n      <td>F1</td>\n      <td>12.0</td>\n      <td>13.0</td>\n      <td>0.0</td>\n      <td>18.0</td>\n      <td>6.0</td>\n      <td>16.0</td>\n      <td>...</td>\n      <td>2.0</td>\n      <td>9.0</td>\n      <td>5.0</td>\n      <td>7.0</td>\n      <td>11.0</td>\n      <td>23.0</td>\n      <td>19.0</td>\n      <td>1.0</td>\n      <td>3.0</td>\n      <td>3.0</td>\n    </tr>\n  </tbody>\n</table>\n<p>5 rows × 36 columns</p>\n</div>"
     },
     "execution_count": 4,
     "metadata": {},
     "output_type": "execute_result"
    }
   ],
   "source": [
    "df_train = pd.pivot(df_train, index=factors, columns=\"encoder\", values=\"rank\").reset_index()\n",
    "print(df_train.shape)\n",
    "df_train.head()"
   ]
  },
  {
   "cell_type": "code",
   "execution_count": 5,
   "id": "8c94bc36",
   "metadata": {
    "ExecuteTime": {
     "end_time": "2023-07-23T15:58:43.987641Z",
     "start_time": "2023-07-23T15:58:43.977050Z"
    }
   },
   "outputs": [
    {
     "name": "stdout",
     "output_type": "stream",
     "text": [
      "(1161, 4)\n"
     ]
    },
    {
     "data": {
      "text/plain": "encoder  dataset model tuning scoring\n0              3   DTC   full     ACC\n1              3   DTC   full     AUC\n2              3   DTC   full      F1\n3              3   DTC  model     AUC\n4              3   DTC  model      F1",
      "text/html": "<div>\n<style scoped>\n    .dataframe tbody tr th:only-of-type {\n        vertical-align: middle;\n    }\n\n    .dataframe tbody tr th {\n        vertical-align: top;\n    }\n\n    .dataframe thead th {\n        text-align: right;\n    }\n</style>\n<table border=\"1\" class=\"dataframe\">\n  <thead>\n    <tr style=\"text-align: right;\">\n      <th>encoder</th>\n      <th>dataset</th>\n      <th>model</th>\n      <th>tuning</th>\n      <th>scoring</th>\n    </tr>\n  </thead>\n  <tbody>\n    <tr>\n      <th>0</th>\n      <td>3</td>\n      <td>DTC</td>\n      <td>full</td>\n      <td>ACC</td>\n    </tr>\n    <tr>\n      <th>1</th>\n      <td>3</td>\n      <td>DTC</td>\n      <td>full</td>\n      <td>AUC</td>\n    </tr>\n    <tr>\n      <th>2</th>\n      <td>3</td>\n      <td>DTC</td>\n      <td>full</td>\n      <td>F1</td>\n    </tr>\n    <tr>\n      <th>3</th>\n      <td>3</td>\n      <td>DTC</td>\n      <td>model</td>\n      <td>AUC</td>\n    </tr>\n    <tr>\n      <th>4</th>\n      <td>3</td>\n      <td>DTC</td>\n      <td>model</td>\n      <td>F1</td>\n    </tr>\n  </tbody>\n</table>\n</div>"
     },
     "execution_count": 5,
     "metadata": {},
     "output_type": "execute_result"
    }
   ],
   "source": [
    "X_train = df_train[factors]\n",
    "X_train_org = X_train.copy()\n",
    "print(X_train_org.shape)\n",
    "X_train_org.head()"
   ]
  },
  {
   "cell_type": "code",
   "execution_count": 6,
   "id": "b2d0d1e4",
   "metadata": {
    "ExecuteTime": {
     "end_time": "2023-07-23T15:58:44.151179Z",
     "start_time": "2023-07-23T15:58:43.991551Z"
    }
   },
   "outputs": [
    {
     "name": "stdout",
     "output_type": "stream",
     "text": [
      "(1161, 32)\n",
      "Index(['BE', 'BUCV10RGLMME', 'BUCV10TE', 'BUCV2RGLMME', 'BUCV2TE',\n",
      "       'BUCV5RGLMME', 'BUCV5TE', 'CBE', 'CE', 'CV10RGLMME', 'CV10TE',\n",
      "       'CV2RGLMME', 'CV2TE', 'CV5RGLMME', 'CV5TE', 'DE', 'DTEM10', 'DTEM2',\n",
      "       'DTEM5', 'ME01E', 'ME10E', 'ME1E', 'MHE', 'OE', 'OHE', 'PBTE0001',\n",
      "       'PBTE001', 'PBTE01', 'RGLMME', 'SE', 'TE', 'WOEE'],\n",
      "      dtype='object', name='encoder')\n"
     ]
    },
    {
     "data": {
      "text/plain": "encoder    BE  BUCV10RGLMME  BUCV10TE  BUCV2RGLMME  BUCV2TE  BUCV5RGLMME  \\\n0         1.0           1.0       1.0          1.0      1.0          1.0   \n1         1.0           1.0       1.0          1.0      1.0          1.0   \n2         1.0           1.0       1.0          1.0      1.0          1.0   \n3        12.0          14.0       0.0         18.0      6.0         17.0   \n4        12.0          13.0       0.0         18.0      6.0         16.0   \n\nencoder  BUCV5TE   CBE   CE  CV10RGLMME  ...  MHE   OE  OHE  PBTE0001  \\\n0            1.0   3.0  1.0         1.0  ...  1.0  1.0  1.0       1.0   \n1            1.0   3.0  1.0         1.0  ...  1.0  1.0  1.0       1.0   \n2            1.0   4.0  1.0         1.0  ...  1.0  1.0  1.0       1.0   \n3            4.0  24.0  8.0        16.0  ...  2.0  9.0  5.0       7.0   \n4            4.0  25.0  8.0        15.0  ...  2.0  9.0  5.0       7.0   \n\nencoder  PBTE001  PBTE01  RGLMME   SE   TE  WOEE  \n0            1.0     2.0     1.0  1.0  1.0   1.0  \n1            1.0     2.0     1.0  1.0  1.0   1.0  \n2            1.0     2.0     1.0  1.0  1.0   1.0  \n3           11.0    23.0    19.0  1.0  3.0   3.0  \n4           11.0    23.0    19.0  1.0  3.0   3.0  \n\n[5 rows x 32 columns]",
      "text/html": "<div>\n<style scoped>\n    .dataframe tbody tr th:only-of-type {\n        vertical-align: middle;\n    }\n\n    .dataframe tbody tr th {\n        vertical-align: top;\n    }\n\n    .dataframe thead th {\n        text-align: right;\n    }\n</style>\n<table border=\"1\" class=\"dataframe\">\n  <thead>\n    <tr style=\"text-align: right;\">\n      <th>encoder</th>\n      <th>BE</th>\n      <th>BUCV10RGLMME</th>\n      <th>BUCV10TE</th>\n      <th>BUCV2RGLMME</th>\n      <th>BUCV2TE</th>\n      <th>BUCV5RGLMME</th>\n      <th>BUCV5TE</th>\n      <th>CBE</th>\n      <th>CE</th>\n      <th>CV10RGLMME</th>\n      <th>...</th>\n      <th>MHE</th>\n      <th>OE</th>\n      <th>OHE</th>\n      <th>PBTE0001</th>\n      <th>PBTE001</th>\n      <th>PBTE01</th>\n      <th>RGLMME</th>\n      <th>SE</th>\n      <th>TE</th>\n      <th>WOEE</th>\n    </tr>\n  </thead>\n  <tbody>\n    <tr>\n      <th>0</th>\n      <td>1.0</td>\n      <td>1.0</td>\n      <td>1.0</td>\n      <td>1.0</td>\n      <td>1.0</td>\n      <td>1.0</td>\n      <td>1.0</td>\n      <td>3.0</td>\n      <td>1.0</td>\n      <td>1.0</td>\n      <td>...</td>\n      <td>1.0</td>\n      <td>1.0</td>\n      <td>1.0</td>\n      <td>1.0</td>\n      <td>1.0</td>\n      <td>2.0</td>\n      <td>1.0</td>\n      <td>1.0</td>\n      <td>1.0</td>\n      <td>1.0</td>\n    </tr>\n    <tr>\n      <th>1</th>\n      <td>1.0</td>\n      <td>1.0</td>\n      <td>1.0</td>\n      <td>1.0</td>\n      <td>1.0</td>\n      <td>1.0</td>\n      <td>1.0</td>\n      <td>3.0</td>\n      <td>1.0</td>\n      <td>1.0</td>\n      <td>...</td>\n      <td>1.0</td>\n      <td>1.0</td>\n      <td>1.0</td>\n      <td>1.0</td>\n      <td>1.0</td>\n      <td>2.0</td>\n      <td>1.0</td>\n      <td>1.0</td>\n      <td>1.0</td>\n      <td>1.0</td>\n    </tr>\n    <tr>\n      <th>2</th>\n      <td>1.0</td>\n      <td>1.0</td>\n      <td>1.0</td>\n      <td>1.0</td>\n      <td>1.0</td>\n      <td>1.0</td>\n      <td>1.0</td>\n      <td>4.0</td>\n      <td>1.0</td>\n      <td>1.0</td>\n      <td>...</td>\n      <td>1.0</td>\n      <td>1.0</td>\n      <td>1.0</td>\n      <td>1.0</td>\n      <td>1.0</td>\n      <td>2.0</td>\n      <td>1.0</td>\n      <td>1.0</td>\n      <td>1.0</td>\n      <td>1.0</td>\n    </tr>\n    <tr>\n      <th>3</th>\n      <td>12.0</td>\n      <td>14.0</td>\n      <td>0.0</td>\n      <td>18.0</td>\n      <td>6.0</td>\n      <td>17.0</td>\n      <td>4.0</td>\n      <td>24.0</td>\n      <td>8.0</td>\n      <td>16.0</td>\n      <td>...</td>\n      <td>2.0</td>\n      <td>9.0</td>\n      <td>5.0</td>\n      <td>7.0</td>\n      <td>11.0</td>\n      <td>23.0</td>\n      <td>19.0</td>\n      <td>1.0</td>\n      <td>3.0</td>\n      <td>3.0</td>\n    </tr>\n    <tr>\n      <th>4</th>\n      <td>12.0</td>\n      <td>13.0</td>\n      <td>0.0</td>\n      <td>18.0</td>\n      <td>6.0</td>\n      <td>16.0</td>\n      <td>4.0</td>\n      <td>25.0</td>\n      <td>8.0</td>\n      <td>15.0</td>\n      <td>...</td>\n      <td>2.0</td>\n      <td>9.0</td>\n      <td>5.0</td>\n      <td>7.0</td>\n      <td>11.0</td>\n      <td>23.0</td>\n      <td>19.0</td>\n      <td>1.0</td>\n      <td>3.0</td>\n      <td>3.0</td>\n    </tr>\n  </tbody>\n</table>\n<p>5 rows × 32 columns</p>\n</div>"
     },
     "execution_count": 6,
     "metadata": {},
     "output_type": "execute_result"
    }
   ],
   "source": [
    "y_train = df_train.drop(factors, axis=1)\n",
    "\n",
    "print(y_train.shape)\n",
    "print(y_train.columns)\n",
    "\n",
    "y_train.head()"
   ]
  },
  {
   "cell_type": "code",
   "execution_count": 7,
   "outputs": [],
   "source": [
    "target = list(y_train.columns)\n",
    "cv_indices = er.custom_cross_validated_indices(pd.concat([X_train, y_train], axis=1),\n",
    "                                                                    factors,\n",
    "                                                                    target,\n",
    "                                                                    n_splits=5,\n",
    "                                                                    shuffle=True,\n",
    "                                                                    random_state=1444)"
   ],
   "metadata": {
    "collapsed": false,
    "ExecuteTime": {
     "end_time": "2023-07-23T15:58:44.201285Z",
     "start_time": "2023-07-23T15:58:44.036298Z"
    }
   }
  },
  {
   "cell_type": "markdown",
   "source": [
    "# Preprocess Train Data"
   ],
   "metadata": {
    "collapsed": false
   }
  },
  {
   "cell_type": "code",
   "execution_count": 8,
   "outputs": [
    {
     "name": "stdout",
     "output_type": "stream",
     "text": [
      "One Hot Encoding the features ['model', 'tuning', 'scoring'] of the train data ...\n",
      "Drop pearson correlated features with threshold 0.7...\n",
      "Filter correlated features\n"
     ]
    },
    {
     "data": {
      "text/plain": "   dataset  model_DTC  model_KNC  model_LGBMC  model_LR  model_SVC  \\\n0        3        1.0        0.0          0.0       0.0        0.0   \n1        3        1.0        0.0          0.0       0.0        0.0   \n2        3        1.0        0.0          0.0       0.0        0.0   \n3        3        1.0        0.0          0.0       0.0        0.0   \n4        3        1.0        0.0          0.0       0.0        0.0   \n\n   tuning_full  tuning_model  tuning_no  scoring_ACC  ...  \\\n0          1.0           0.0        0.0          1.0  ...   \n1          1.0           0.0        0.0          0.0  ...   \n2          1.0           0.0        0.0          0.0  ...   \n3          0.0           1.0        0.0          0.0  ...   \n4          0.0           1.0        0.0          0.0  ...   \n\n   NumberOfSymbolicFeatures  MinMutualInformation  \\\n0                      37.0          1.180530e-09   \n1                      37.0          1.180530e-09   \n2                      37.0          1.180530e-09   \n3                      37.0          1.180530e-09   \n4                      37.0          1.180530e-09   \n\n   PercentageOfInstancesWithMissingValues  MinNominalAttDistinctValues  \\\n0                                     0.0                          2.0   \n1                                     0.0                          2.0   \n2                                     0.0                          2.0   \n3                                     0.0                          2.0   \n4                                     0.0                          2.0   \n\n   NumberOfNumericFeatures  rows_with_null_values_count  \\\n0                      0.0                          0.0   \n1                      0.0                          0.0   \n2                      0.0                          0.0   \n3                      0.0                          0.0   \n4                      0.0                          0.0   \n\n   categorical_target_variables_count  non_categorical_target_variables_count  \\\n0                                   1                                       0   \n1                                   1                                       0   \n2                                   1                                       0   \n3                                   1                                       0   \n4                                   1                                       0   \n\n   categorical_target_values_sum  min_number_of_categories_per_cat_feature  \n0                            2.0                                         2  \n1                            2.0                                         2  \n2                            2.0                                         2  \n3                            2.0                                         2  \n4                            2.0                                         2  \n\n[5 rows x 40 columns]",
      "text/html": "<div>\n<style scoped>\n    .dataframe tbody tr th:only-of-type {\n        vertical-align: middle;\n    }\n\n    .dataframe tbody tr th {\n        vertical-align: top;\n    }\n\n    .dataframe thead th {\n        text-align: right;\n    }\n</style>\n<table border=\"1\" class=\"dataframe\">\n  <thead>\n    <tr style=\"text-align: right;\">\n      <th></th>\n      <th>dataset</th>\n      <th>model_DTC</th>\n      <th>model_KNC</th>\n      <th>model_LGBMC</th>\n      <th>model_LR</th>\n      <th>model_SVC</th>\n      <th>tuning_full</th>\n      <th>tuning_model</th>\n      <th>tuning_no</th>\n      <th>scoring_ACC</th>\n      <th>...</th>\n      <th>NumberOfSymbolicFeatures</th>\n      <th>MinMutualInformation</th>\n      <th>PercentageOfInstancesWithMissingValues</th>\n      <th>MinNominalAttDistinctValues</th>\n      <th>NumberOfNumericFeatures</th>\n      <th>rows_with_null_values_count</th>\n      <th>categorical_target_variables_count</th>\n      <th>non_categorical_target_variables_count</th>\n      <th>categorical_target_values_sum</th>\n      <th>min_number_of_categories_per_cat_feature</th>\n    </tr>\n  </thead>\n  <tbody>\n    <tr>\n      <th>0</th>\n      <td>3</td>\n      <td>1.0</td>\n      <td>0.0</td>\n      <td>0.0</td>\n      <td>0.0</td>\n      <td>0.0</td>\n      <td>1.0</td>\n      <td>0.0</td>\n      <td>0.0</td>\n      <td>1.0</td>\n      <td>...</td>\n      <td>37.0</td>\n      <td>1.180530e-09</td>\n      <td>0.0</td>\n      <td>2.0</td>\n      <td>0.0</td>\n      <td>0.0</td>\n      <td>1</td>\n      <td>0</td>\n      <td>2.0</td>\n      <td>2</td>\n    </tr>\n    <tr>\n      <th>1</th>\n      <td>3</td>\n      <td>1.0</td>\n      <td>0.0</td>\n      <td>0.0</td>\n      <td>0.0</td>\n      <td>0.0</td>\n      <td>1.0</td>\n      <td>0.0</td>\n      <td>0.0</td>\n      <td>0.0</td>\n      <td>...</td>\n      <td>37.0</td>\n      <td>1.180530e-09</td>\n      <td>0.0</td>\n      <td>2.0</td>\n      <td>0.0</td>\n      <td>0.0</td>\n      <td>1</td>\n      <td>0</td>\n      <td>2.0</td>\n      <td>2</td>\n    </tr>\n    <tr>\n      <th>2</th>\n      <td>3</td>\n      <td>1.0</td>\n      <td>0.0</td>\n      <td>0.0</td>\n      <td>0.0</td>\n      <td>0.0</td>\n      <td>1.0</td>\n      <td>0.0</td>\n      <td>0.0</td>\n      <td>0.0</td>\n      <td>...</td>\n      <td>37.0</td>\n      <td>1.180530e-09</td>\n      <td>0.0</td>\n      <td>2.0</td>\n      <td>0.0</td>\n      <td>0.0</td>\n      <td>1</td>\n      <td>0</td>\n      <td>2.0</td>\n      <td>2</td>\n    </tr>\n    <tr>\n      <th>3</th>\n      <td>3</td>\n      <td>1.0</td>\n      <td>0.0</td>\n      <td>0.0</td>\n      <td>0.0</td>\n      <td>0.0</td>\n      <td>0.0</td>\n      <td>1.0</td>\n      <td>0.0</td>\n      <td>0.0</td>\n      <td>...</td>\n      <td>37.0</td>\n      <td>1.180530e-09</td>\n      <td>0.0</td>\n      <td>2.0</td>\n      <td>0.0</td>\n      <td>0.0</td>\n      <td>1</td>\n      <td>0</td>\n      <td>2.0</td>\n      <td>2</td>\n    </tr>\n    <tr>\n      <th>4</th>\n      <td>3</td>\n      <td>1.0</td>\n      <td>0.0</td>\n      <td>0.0</td>\n      <td>0.0</td>\n      <td>0.0</td>\n      <td>0.0</td>\n      <td>1.0</td>\n      <td>0.0</td>\n      <td>0.0</td>\n      <td>...</td>\n      <td>37.0</td>\n      <td>1.180530e-09</td>\n      <td>0.0</td>\n      <td>2.0</td>\n      <td>0.0</td>\n      <td>0.0</td>\n      <td>1</td>\n      <td>0</td>\n      <td>2.0</td>\n      <td>2</td>\n    </tr>\n  </tbody>\n</table>\n<p>5 rows × 40 columns</p>\n</div>"
     },
     "execution_count": 8,
     "metadata": {},
     "output_type": "execute_result"
    }
   ],
   "source": [
    "X_train, _ = ohe_encode_train_data(X_train=X_train, cols_to_encode=[\"model\", \"tuning\", \"scoring\"], verbosity=1)\n",
    "\n",
    "X_train = add_dataset_meta_information(df=X_train,\n",
    "                                        path_to_meta_df=\"../../data/preprocessed/dataset_agg.csv\",\n",
    "                                        nan_threshold=0.5,\n",
    "                                        replacing_strategy=\"median\")\n",
    "\n",
    "# Drop correlated features\n",
    "X_train, _ = drop_pearson_correlated_features(train_data=X_train, test_data=None, threshold=0.7, verbosity=1)\n",
    "\n",
    "X_train.head(5)"
   ],
   "metadata": {
    "collapsed": false,
    "ExecuteTime": {
     "end_time": "2023-07-23T15:58:44.616673Z",
     "start_time": "2023-07-23T15:58:44.124572Z"
    }
   }
  },
  {
   "cell_type": "code",
   "execution_count": 9,
   "id": "65520405",
   "metadata": {
    "ExecuteTime": {
     "end_time": "2023-07-23T15:58:44.625829Z",
     "start_time": "2023-07-23T15:58:44.618940Z"
    }
   },
   "outputs": [],
   "source": [
    "y_train = y_train.fillna(np.max(y_train))"
   ]
  },
  {
   "cell_type": "code",
   "execution_count": 10,
   "outputs": [
    {
     "name": "stdout",
     "output_type": "stream",
     "text": [
      "Shape of X_train:  (1161, 40)\n",
      "Shape of y_train:  (1161, 32)\n"
     ]
    }
   ],
   "source": [
    "print(\"Shape of X_train: \", X_train.shape)\n",
    "print(\"Shape of y_train: \", y_train.shape)"
   ],
   "metadata": {
    "collapsed": false,
    "ExecuteTime": {
     "end_time": "2023-07-23T15:58:44.693537Z",
     "start_time": "2023-07-23T15:58:44.627672Z"
    }
   }
  },
  {
   "cell_type": "code",
   "execution_count": 11,
   "outputs": [],
   "source": [
    "assert not np.any(np.isnan(X_train))\n",
    "assert not np.any(np.isnan(y_train))\n",
    "\n",
    "assert np.any(np.isfinite(X_train))\n",
    "assert np.any(np.isfinite(y_train))"
   ],
   "metadata": {
    "collapsed": false,
    "ExecuteTime": {
     "end_time": "2023-07-23T15:58:44.721505Z",
     "start_time": "2023-07-23T15:58:44.642685Z"
    }
   }
  },
  {
   "cell_type": "markdown",
   "source": [
    "# Define Neural Net"
   ],
   "metadata": {
    "collapsed": false
   }
  },
  {
   "cell_type": "code",
   "execution_count": 16,
   "outputs": [],
   "source": [
    "def get_model(input_dim, output_dim, drop_out, lr):\n",
    "    \"\"\" Returns compiled model\n",
    "\n",
    "    :param input_dim: int -- Input Dimension of the Data\n",
    "    :param output_dim: int -- Number of dimensions of the y_train, i.e. # classes\n",
    "    :param drop_out: float -- Drop out rate\n",
    "    :param lr: float -- Learning rate for adam optimizer\n",
    "    :return: model\n",
    "    \"\"\"\n",
    "    model = tf.keras.Sequential([\n",
    "        tf.keras.layers.Dense(units=input_dim),\n",
    "\n",
    "        tf.keras.layers.Dense(units=512, activation=\"relu\"),\n",
    "        tf.keras.layers.Dropout(rate=drop_out, seed=42),\n",
    "\n",
    "        tf.keras.layers.Dense(units=1024, activation=\"relu\"),\n",
    "        tf.keras.layers.BatchNormalization(),\n",
    "\n",
    "        tf.keras.layers.Dense(units=512, activation=\"relu\"),\n",
    "        tf.keras.layers.Dropout(rate=drop_out, seed=42),\n",
    "\n",
    "        tf.keras.layers.Dense(units=output_dim)\n",
    "    ])\n",
    "\n",
    "    optimizer = tf.keras.optimizers.Adam(learning_rate=lr, clipvalue=3.0)\n",
    "    # Compile model with LISTMLELoss and adam optimizer\n",
    "    model.compile(optimizer=optimizer,\n",
    "                  loss=tfr.keras.losses.ListMLELoss())\n",
    "\n",
    "    #loss=tfr.keras.losses.ListMLELoss()\n",
    "    #loss=tfr.keras.losses.PairwiseHingeLoss()\n",
    "\n",
    "    return model\n",
    "\n",
    "\n",
    "# Callbacks for early stopping and reduce LR\n",
    "early_stopping_callback = tf.keras.callbacks.EarlyStopping(\n",
    "    monitor='loss',\n",
    "    patience=20,  # Number of epochs without improvement\n",
    "    restore_best_weights=True\n",
    ")\n",
    "\n",
    "reduce_lr_callback = tf.keras.callbacks.ReduceLROnPlateau(\n",
    "    monitor='loss',\n",
    "    factor=0.5,         # Reduce the learning rate by half when the loss plateaus\n",
    "    patience=15,        # Number of epochs with no improvement after which the learning rate will be reduced\n",
    "    min_lr=1e-6,        # Lower bound on the learning rate\n",
    "    verbose=1\n",
    ")\n"
   ],
   "metadata": {
    "collapsed": false,
    "ExecuteTime": {
     "end_time": "2023-07-23T16:03:11.390998Z",
     "start_time": "2023-07-23T16:03:11.374958Z"
    }
   }
  },
  {
   "cell_type": "markdown",
   "source": [
    "# Evaluate using Custom CV"
   ],
   "metadata": {
    "collapsed": false
   }
  },
  {
   "cell_type": "code",
   "execution_count": null,
   "id": "165864b4",
   "metadata": {},
   "outputs": [],
   "source": [
    "EPOCHS: int = 512\n",
    "BATCH_SIZE: int = 16\n",
    "DROP_OUT: float = 0.1\n",
    "LEARNING_RATE: float = 1e-4\n",
    "\n",
    "scores = []\n",
    "histories = {}\n",
    "\n",
    "for i, fold in enumerate(cv_indices):\n",
    "    # Save original schema to build df_pred for custom scorer\n",
    "    X_train_org_te = X_train_org.iloc[fold[1]]\n",
    "\n",
    "    # Get Data using the custom cv indices\n",
    "    X_tr = X_train.iloc[fold[0]]\n",
    "    X_te = X_train.iloc[fold[1]]\n",
    "    y_tr = y_train.iloc[fold[0]]\n",
    "    y_te = y_train.iloc[fold[1]]\n",
    "\n",
    "    # Normalize\n",
    "    X_tr, scaler = normalize_train_data(X_train=X_tr, method=\"standard\", verbosity=1)\n",
    "    X_te = normalize_test_data(X_test=X_te, scaler=scaler, verbosity=1)\n",
    "    print(f\"Shape of current fold {i}: {X_tr.shape}\")\n",
    "\n",
    "    # Assert no nan values and finite values in each fold\n",
    "    assert not np.any(np.isnan(X_tr))\n",
    "    assert not np.any(np.isnan(y_tr))\n",
    "    assert not np.any(np.isnan(X_te))\n",
    "    assert not np.any(np.isnan(y_te))\n",
    "    assert np.any(np.isfinite(X_tr))\n",
    "    assert np.any(np.isfinite(y_tr))\n",
    "    assert np.any(np.isfinite(X_te))\n",
    "    assert np.any(np.isfinite(y_te))\n",
    "\n",
    "    # Get model and fit using the curren train data\n",
    "    model = get_model(input_dim=X_tr.shape[1], output_dim=y_tr.shape[1], drop_out=DROP_OUT, lr=LEARNING_RATE)\n",
    "    history = model.fit(x=X_tr, y=y_tr, epochs=EPOCHS, batch_size=BATCH_SIZE, verbose=1,\n",
    "                        callbacks=[early_stopping_callback, reduce_lr_callback])\n",
    "    histories[f\"{i}-fold\"] = history\n",
    "\n",
    "    # Make prediction on current test data\n",
    "    y_pred = pd.DataFrame(model.predict(X_te), columns=y_tr.columns, index=X_te.index)\n",
    "    df_pred = pd.merge(pd.concat([X_train_org_te, y_te], axis=1).melt(id_vars=factors, value_name=\"rank\").dropna(axis=0),\n",
    "                       pd.concat([X_train_org_te, y_pred], axis=1).melt(id_vars=factors, value_name=\"rank_pred\"),\n",
    "                       on=factors+[\"encoder\"], how=\"left\")\n",
    "\n",
    "    rankings_test = er.get_rankings(df_pred, factors=factors, new_index=new_index, target=\"rank\")\n",
    "    rankings_pred = er.get_rankings(df_pred, factors=factors, new_index=new_index, target=\"rank_pred\")\n",
    "\n",
    "    # Custom scorer\n",
    "    avg_spearman = er.average_spearman(rankings_test, rankings_pred)\n",
    "    scores.append(avg_spearman)\n",
    "    print(f\"\\n AVG Spearman of Fold {i}: {avg_spearman}\\n\")\n",
    "\n",
    "print(f\"Average Spearman: {np.mean(scores):.4f} +/- {np.std(scores):.4f}\")"
   ]
  },
  {
   "cell_type": "code",
   "execution_count": 29,
   "outputs": [
    {
     "data": {
      "text/plain": "<Figure size 1500x600 with 2 Axes>",
      "image/png": "[encoded data removed]"
     },
     "metadata": {},
     "output_type": "display_data"
    }
   ],
   "source": [
    "fig, axes = plt.subplots(nrows=1, ncols=2, figsize=(15, 6))\n",
    "for key, item in histories.items():\n",
    "    loss = item.history[\"loss\"]\n",
    "    sns.lineplot(x=np.arange(1, len(loss)+1), y=loss, label=key, ax=axes[0])\n",
    "axes[0].legend()\n",
    "axes[0].set_title(\"Loss in each Epoch and Fold\")\n",
    "axes[0].set_xlabel(\"# Epoch\")\n",
    "axes[0].set_ylabel(\"Loss\")\n",
    "# Second plot\n",
    "sns.barplot(x=np.arange(0, len(scores)), y=scores, ax=axes[1], edgecolor=\"black\")\n",
    "axes[1].set_title(f\"Average Spearman in each fold on holdout-set\" +\n",
    "                  f\" ({np.mean(scores):.4f} +/- {np.std(scores):.4f})\")\n",
    "axes[1].set_xlabel(\"k-fold\")\n",
    "axes[1].set_ylabel(\"Average Spearman\")\n",
    "axes[1].axhline(y=np.mean(scores), linestyle=\"--\", color=\"red\")\n",
    "plt.show()"
   ],
   "metadata": {
    "collapsed": false,
    "ExecuteTime": {
     "end_time": "2023-07-23T16:32:04.156135Z",
     "start_time": "2023-07-23T16:32:02.779880Z"
    }
   }
  },
  {
   "cell_type": "code",
   "execution_count": 30,
   "outputs": [
    {
     "name": "stdout",
     "output_type": "stream",
     "text": [
      "Model: \"sequential_7\"\n",
      "_________________________________________________________________\n",
      " Layer (type)                Output Shape              Param #   \n",
      "=================================================================\n",
      " dense_35 (Dense)            (None, 40)                1640      \n",
      "                                                                 \n",
      " dense_36 (Dense)            (None, 512)               20992     \n",
      "                                                                 \n",
      " dropout_14 (Dropout)        (None, 512)               0         \n",
      "                                                                 \n",
      " dense_37 (Dense)            (None, 1024)              525312    \n",
      "                                                                 \n",
      " batch_normalization_7 (Bat  (None, 1024)              4096      \n",
      " chNormalization)                                                \n",
      "                                                                 \n",
      " dense_38 (Dense)            (None, 512)               524800    \n",
      "                                                                 \n",
      " dropout_15 (Dropout)        (None, 512)               0         \n",
      "                                                                 \n",
      " dense_39 (Dense)            (None, 32)                16416     \n",
      "                                                                 \n",
      "=================================================================\n",
      "Total params: 1093256 (4.17 MB)\n",
      "Trainable params: 1091208 (4.16 MB)\n",
      "Non-trainable params: 2048 (8.00 KB)\n",
      "_________________________________________________________________\n"
     ]
    }
   ],
   "source": [
    "model.summary()"
   ],
   "metadata": {
    "collapsed": false,
    "ExecuteTime": {
     "end_time": "2023-07-23T16:32:13.983614Z",
     "start_time": "2023-07-23T16:32:13.893944Z"
    }
   }
  },
  {
   "cell_type": "code",
   "execution_count": 31,
   "outputs": [],
   "source": [
    "pd.DataFrame({\"scores\": scores}).to_csv(f\"results_{str(datetime.datetime.now()).replace('.', '_')}.csv\")"
   ],
   "metadata": {
    "collapsed": false,
    "ExecuteTime": {
     "end_time": "2023-07-23T16:32:14.030306Z",
     "start_time": "2023-07-23T16:32:13.944108Z"
    }
   }
  },
  {
   "cell_type": "code",
   "execution_count": null,
   "outputs": [],
   "source": [],
   "metadata": {
    "collapsed": false,
    "ExecuteTime": {
     "start_time": "2023-07-23T16:32:14.021550Z"
    }
   }
  }
 ],
 "metadata": {
  "kernelspec": {
   "name": "ds_lab_39",
   "language": "python",
   "display_name": "ds_lab_39"
  },
  "language_info": {
   "codemirror_mode": {
    "name": "ipython",
    "version": 3
   },
   "file_extension": ".py",
   "mimetype": "text/x-python",
   "name": "python",
   "nbconvert_exporter": "python",
   "pygments_lexer": "ipython3",
   "version": "3.10.6"
  }
 },
 "nbformat": 4,
 "nbformat_minor": 5
}
