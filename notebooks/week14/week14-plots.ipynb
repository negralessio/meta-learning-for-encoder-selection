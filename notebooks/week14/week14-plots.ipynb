{
 "cells": [
  {
   "cell_type": "code",
   "execution_count": 1,
   "id": "17535c06",
   "metadata": {},
   "outputs": [
    {
     "data": {
      "text/html": [
       "<style>.container { width:95% !important; }</style>"
      ],
      "text/plain": [
       "<IPython.core.display.HTML object>"
      ]
     },
     "metadata": {},
     "output_type": "display_data"
    }
   ],
   "source": [
    "from IPython.display import display, HTML\n",
    "display(HTML(\"<style>.container { width:95% !important; }</style>\"))"
   ]
  },
  {
   "cell_type": "code",
   "execution_count": 2,
   "id": "85fdb596",
   "metadata": {},
   "outputs": [],
   "source": [
    "import pandas as pd\n",
    "import numpy as np\n",
    "import seaborn as sns\n",
    "import matplotlib.pyplot as plt"
   ]
  },
  {
   "cell_type": "code",
   "execution_count": 3,
   "id": "07686657",
   "metadata": {},
   "outputs": [],
   "source": [
    "# figure settings\n",
    "%matplotlib inline\n",
    "%config InlineBackend.figure_format = 'retina'\n",
    "\n",
    "sns.set()\n",
    "sns.set_theme(style=\"whitegrid\")\n",
    "sns.set_palette(palette=\"Paired\")\n",
    "# set seed\n",
    "np.random.seed(7)"
   ]
  },
  {
   "cell_type": "code",
   "execution_count": 4,
   "id": "e07453cb",
   "metadata": {},
   "outputs": [
    {
     "data": {
      "text/html": [
       "<div>\n",
       "<style scoped>\n",
       "    .dataframe tbody tr th:only-of-type {\n",
       "        vertical-align: middle;\n",
       "    }\n",
       "\n",
       "    .dataframe tbody tr th {\n",
       "        vertical-align: top;\n",
       "    }\n",
       "\n",
       "    .dataframe thead th {\n",
       "        text-align: right;\n",
       "    }\n",
       "</style>\n",
       "<table border=\"1\" class=\"dataframe\">\n",
       "  <thead>\n",
       "    <tr style=\"text-align: right;\">\n",
       "      <th></th>\n",
       "      <th>avg_spearman</th>\n",
       "      <th>std_cv</th>\n",
       "      <th>method</th>\n",
       "      <th>evaluation_type</th>\n",
       "    </tr>\n",
       "  </thead>\n",
       "  <tbody>\n",
       "    <tr>\n",
       "      <th>0</th>\n",
       "      <td>0.5800</td>\n",
       "      <td>0.0000</td>\n",
       "      <td>Regression</td>\n",
       "      <td>Supervisors evaluation</td>\n",
       "    </tr>\n",
       "    <tr>\n",
       "      <th>1</th>\n",
       "      <td>0.0000</td>\n",
       "      <td>0.0000</td>\n",
       "      <td>Regression</td>\n",
       "      <td>5 fold CV</td>\n",
       "    </tr>\n",
       "    <tr>\n",
       "      <th>2</th>\n",
       "      <td>0.7185</td>\n",
       "      <td>0.0178</td>\n",
       "      <td>Pointwise\\n(Muli-class)</td>\n",
       "      <td>5 fold CV</td>\n",
       "    </tr>\n",
       "    <tr>\n",
       "      <th>3</th>\n",
       "      <td>0.7502</td>\n",
       "      <td>0.0177</td>\n",
       "      <td>Pairwise</td>\n",
       "      <td>5 fold CV</td>\n",
       "    </tr>\n",
       "    <tr>\n",
       "      <th>4</th>\n",
       "      <td>0.7416</td>\n",
       "      <td>0.0084</td>\n",
       "      <td>Listwise\\n(Multi-output\\npairwise)</td>\n",
       "      <td>5 fold CV</td>\n",
       "    </tr>\n",
       "    <tr>\n",
       "      <th>5</th>\n",
       "      <td>0.6737</td>\n",
       "      <td>0.0205</td>\n",
       "      <td>Listwise\\n(Neural Network)</td>\n",
       "      <td>5 fold CV</td>\n",
       "    </tr>\n",
       "    <tr>\n",
       "      <th>6</th>\n",
       "      <td>0.7700</td>\n",
       "      <td>0.0000</td>\n",
       "      <td>Pointwise\\n(Muli-class)</td>\n",
       "      <td>Supervisors evaluation</td>\n",
       "    </tr>\n",
       "    <tr>\n",
       "      <th>7</th>\n",
       "      <td>0.7870</td>\n",
       "      <td>0.0000</td>\n",
       "      <td>Pairwise</td>\n",
       "      <td>Supervisors evaluation</td>\n",
       "    </tr>\n",
       "    <tr>\n",
       "      <th>8</th>\n",
       "      <td>0.0000</td>\n",
       "      <td>0.0000</td>\n",
       "      <td>Listwise\\n(Multi-output\\npairwise)</td>\n",
       "      <td>Supervisors evaluation</td>\n",
       "    </tr>\n",
       "    <tr>\n",
       "      <th>9</th>\n",
       "      <td>0.0000</td>\n",
       "      <td>0.0000</td>\n",
       "      <td>Listwise\\n(Neural Network)</td>\n",
       "      <td>Supervisors evaluation</td>\n",
       "    </tr>\n",
       "  </tbody>\n",
       "</table>\n",
       "</div>"
      ],
      "text/plain": [
       "   avg_spearman  std_cv                              method  \\\n",
       "0        0.5800  0.0000                          Regression   \n",
       "1        0.0000  0.0000                          Regression   \n",
       "2        0.7185  0.0178             Pointwise\\n(Muli-class)   \n",
       "3        0.7502  0.0177                            Pairwise   \n",
       "4        0.7416  0.0084  Listwise\\n(Multi-output\\npairwise)   \n",
       "5        0.6737  0.0205          Listwise\\n(Neural Network)   \n",
       "6        0.7700  0.0000             Pointwise\\n(Muli-class)   \n",
       "7        0.7870  0.0000                            Pairwise   \n",
       "8        0.0000  0.0000  Listwise\\n(Multi-output\\npairwise)   \n",
       "9        0.0000  0.0000          Listwise\\n(Neural Network)   \n",
       "\n",
       "          evaluation_type  \n",
       "0  Supervisors evaluation  \n",
       "1               5 fold CV  \n",
       "2               5 fold CV  \n",
       "3               5 fold CV  \n",
       "4               5 fold CV  \n",
       "5               5 fold CV  \n",
       "6  Supervisors evaluation  \n",
       "7  Supervisors evaluation  \n",
       "8  Supervisors evaluation  \n",
       "9  Supervisors evaluation  "
      ]
     },
     "execution_count": 4,
     "metadata": {},
     "output_type": "execute_result"
    }
   ],
   "source": [
    "# Look up scores from the tasks and collect them in a dataframe\n",
    "# All are trained with a 5 fold CV\n",
    "data = {\n",
    "    \"avg_spearman\"     : [0.58, 0, 0.7185, 0.7502, 0.7416, 0.6737, 0.77, 0.787, 0     , 0],\n",
    "    \"std_cv\"           : [0, 0, 0.0178, 0.0177, 0.0084, 0.0205, 0   , 0    , 0     , 0],\n",
    "    \"method\"           : [\"Regression\", \"Regression\", \n",
    "                          \"Pointwise\\n(Muli-class)\", \"Pairwise\", \"Listwise\\n(Multi-output\\npairwise)\", \"Listwise\\n(Neural Network)\", \"Pointwise\\n(Muli-class)\", \"Pairwise\", \"Listwise\\n(Multi-output\\npairwise)\", \"Listwise\\n(Neural Network)\"],\n",
    "    \"evaluation_type\"  : [\"Supervisors evaluation\", \"5 fold CV\", \"5 fold CV\", \"5 fold CV\", \"5 fold CV\", \"5 fold CV\", \"Supervisors evaluation\", \"Supervisors evaluation\", \"Supervisors evaluation\", \"Supervisors evaluation\"]\n",
    "}\n",
    "df = pd.DataFrame(data=data)\n",
    "df.head(10)"
   ]
  },
  {
   "cell_type": "code",
   "execution_count": null,
   "id": "41b6ce7d",
   "metadata": {},
   "outputs": [],
   "source": [
    "fig, axes = plt.subplots(figsize=(8, 8), nrows=1, ncols=1)\n",
    "plot = sns.barplot(data=df, x=\"method\", y=\"avg_spearman\", ax=axes, palette=\"mako\", hue=\"evaluation_type\")  # color=\"b\", \n",
    "plot.set(title=\"Comparison of methods\")\n",
    "plot.set_ylim([0.0, 1.0])\n",
    "plot.set_yticks([0.0, 0.1, 0.2, 0.3, 0.4, 0.5, 0.6, 0.7, 0.8, 0.9, 1.0])\n",
    "plot.legend(loc='upper right')\n",
    "plot.set_xlabel(\"Models\")\n",
    "plot.set_ylabel(\"Average Spearman\")\n",
    "\n",
    "df = df.sort_values(['evaluation_type', 'method'], ascending=False)\n",
    "x_coords = [p.get_x() + 0.5*p.get_width() for p in plot.patches]\n",
    "y_coords = [p.get_height() for p in plot.patches]\n",
    "print(x_coords)\n",
    "print(y_coords)\n",
    "plt.errorbar(x=x_coords, y=y_coords, yerr=df[\"std_cv\"], fmt=\"none\", c= \"k\")\n",
    "\n",
    "f = plot.get_figure()\n",
    "f.savefig(\"Comparison_of_methods.svg\")"
   ]
  },
  {
   "cell_type": "code",
   "execution_count": null,
   "id": "4808a9c0",
   "metadata": {},
   "outputs": [],
   "source": []
  },
  {
   "cell_type": "code",
   "execution_count": null,
   "id": "45bc93cf",
   "metadata": {},
   "outputs": [],
   "source": []
  }
 ],
 "metadata": {
  "kernelspec": {
   "display_name": "Python 3 (ipykernel)",
   "language": "python",
   "name": "python3"
  },
  "language_info": {
   "codemirror_mode": {
    "name": "ipython",
    "version": 3
   },
   "file_extension": ".py",
   "mimetype": "text/x-python",
   "name": "python",
   "nbconvert_exporter": "python",
   "pygments_lexer": "ipython3",
   "version": "3.10.6"
  }
 },
 "nbformat": 4,
 "nbformat_minor": 5
}
