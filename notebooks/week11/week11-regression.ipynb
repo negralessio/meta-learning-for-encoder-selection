{
 "cells": [
  {
   "cell_type": "markdown",
   "source": [
    "# Imports"
   ],
   "metadata": {
    "collapsed": false
   }
  },
  {
   "cell_type": "code",
   "execution_count": 28,
   "outputs": [],
   "source": [
    "import os\n",
    "import pandas as pd\n",
    "import numpy as np\n",
    "import matplotlib.pyplot as plt\n",
    "import seaborn as sns\n",
    "from tqdm import tqdm\n",
    "\n",
    "from sklearn.preprocessing import MinMaxScaler\n",
    "\n",
    "from sklearn.tree import DecisionTreeRegressor\n",
    "from sklearn.ensemble import RandomForestRegressor, ExtraTreesRegressor, GradientBoostingRegressor\n",
    "from sklearn.linear_model import ElasticNet, SGDRegressor, BayesianRidge, LinearRegression, Ridge, Lasso\n",
    "from sklearn.svm import SVR\n",
    "from catboost import CatBoostRegressor # not sure to test\n",
    "from sklearn.kernel_ridge import KernelRidge # not sure to test\n",
    "from xgboost.sklearn import XGBRegressor\n",
    "from lightgbm import LGBMRegressor\n",
    "\n",
    "from src.evaluate_regression import get_rankings, average_spearman"
   ],
   "metadata": {
    "collapsed": false,
    "ExecuteTime": {
     "end_time": "2023-07-07T10:36:50.254069300Z",
     "start_time": "2023-07-07T10:36:50.238427900Z"
    }
   }
  },
  {
   "cell_type": "code",
   "execution_count": 29,
   "outputs": [],
   "source": [
    "# settings\n",
    "%matplotlib inline\n",
    "%config InlineBackend.figure_format = 'retina'\n",
    "\n",
    "sns.set_style(\"whitegrid\")\n",
    "sns.set_palette(\"Set2\")\n",
    "\n",
    "np.random.seed(42)"
   ],
   "metadata": {
    "collapsed": false,
    "ExecuteTime": {
     "end_time": "2023-07-07T10:36:50.444004400Z",
     "start_time": "2023-07-07T10:36:50.411759600Z"
    }
   }
  },
  {
   "cell_type": "code",
   "execution_count": 30,
   "outputs": [
    {
     "data": {
      "text/plain": "'C:\\\\Users\\\\merti\\\\PycharmProjects\\\\phase-2\\\\notebooks\\\\week11'"
     },
     "execution_count": 30,
     "metadata": {},
     "output_type": "execute_result"
    }
   ],
   "source": [
    "# get current directory\n",
    "os.getcwd()"
   ],
   "metadata": {
    "collapsed": false,
    "ExecuteTime": {
     "end_time": "2023-07-07T10:36:50.586694100Z",
     "start_time": "2023-07-07T10:36:50.581242Z"
    }
   }
  },
  {
   "cell_type": "markdown",
   "source": [
    "# Load data"
   ],
   "metadata": {
    "collapsed": false
   }
  },
  {
   "cell_type": "code",
   "execution_count": 31,
   "outputs": [],
   "source": [
    "FACTORS = [\"dataset\", \"model\", \"tuning\", \"scoring\"]\n",
    "NEW_INDEX = \"encoder\""
   ],
   "metadata": {
    "collapsed": false,
    "ExecuteTime": {
     "end_time": "2023-07-07T10:36:50.941951300Z",
     "start_time": "2023-07-07T10:36:50.926284100Z"
    }
   }
  },
  {
   "cell_type": "code",
   "execution_count": 32,
   "outputs": [],
   "source": [
    "# Load Train Data\n",
    "X_train = pd.read_csv(\"../../data/preprocessed/X_train.csv\")\n",
    "y_train = pd.read_csv(\"../../data/preprocessed/y_train.csv\")"
   ],
   "metadata": {
    "collapsed": false,
    "ExecuteTime": {
     "end_time": "2023-07-07T10:36:51.375521900Z",
     "start_time": "2023-07-07T10:36:51.120361100Z"
    }
   }
  },
  {
   "cell_type": "code",
   "execution_count": 33,
   "outputs": [
    {
     "name": "stdout",
     "output_type": "stream",
     "text": [
      "Shape of X_train  (26989, 112)\n",
      "Shape of y_train  (26989, 1)\n"
     ]
    }
   ],
   "source": [
    "print(\"Shape of X_train \", X_train.shape)\n",
    "print(\"Shape of y_train \", y_train.shape)"
   ],
   "metadata": {
    "collapsed": false,
    "ExecuteTime": {
     "end_time": "2023-07-07T10:36:51.391142800Z",
     "start_time": "2023-07-07T10:36:51.375521900Z"
    }
   }
  },
  {
   "cell_type": "code",
   "execution_count": 34,
   "outputs": [
    {
     "data": {
      "text/plain": "    dataset  model_DTC  model_KNC  model_LGBMC  model_LR  model_SVC  \\\n0  0.025297        0.0        1.0          0.0       0.0        0.0   \n1  0.025297        0.0        1.0          0.0       0.0        0.0   \n2  0.025297        0.0        1.0          0.0       0.0        0.0   \n3  0.025297        0.0        1.0          0.0       0.0        0.0   \n4  0.025297        0.0        1.0          0.0       0.0        0.0   \n\n   tuning_full  tuning_model  tuning_no  scoring_ACC  ...  \\\n0          0.0           0.0        1.0          0.0  ...   \n1          0.0           0.0        1.0          0.0  ...   \n2          0.0           0.0        1.0          0.0  ...   \n3          0.0           0.0        1.0          0.0  ...   \n4          0.0           0.0        1.0          0.0  ...   \n\n   non_categorical_features_count  ratio_of_categorical_features_to_all  \\\n0                        0.564327                              0.045059   \n1                        0.564327                              0.045059   \n2                        0.564327                              0.045059   \n3                        0.564327                              0.045059   \n4                        0.564327                              0.045059   \n\n   sum_of_all_categories  categorical_target_variables_count  \\\n0                    1.0                                 0.0   \n1                    1.0                                 0.0   \n2                    1.0                                 0.0   \n3                    1.0                                 0.0   \n4                    1.0                                 0.0   \n\n   non_categorical_target_variables_count  categorical_target_values_sum  \\\n0                                     0.0                            0.0   \n1                                     0.0                            0.0   \n2                                     0.0                            0.0   \n3                                     0.0                            0.0   \n4                                     0.0                            0.0   \n\n   total_feature_count  min_number_of_categories_per_cat_feature  \\\n0             0.476695                                       0.0   \n1             0.476695                                       0.0   \n2             0.476695                                       0.0   \n3             0.476695                                       0.0   \n4             0.476695                                       0.0   \n\n   max_number_of_categories_per_cat_feature  \\\n0                                  0.705853   \n1                                  0.705853   \n2                                  0.705853   \n3                                  0.705853   \n4                                  0.705853   \n\n   avg_number_of_categories_per_cat_feature  \n0                                  0.429681  \n1                                  0.429681  \n2                                  0.429681  \n3                                  0.429681  \n4                                  0.429681  \n\n[5 rows x 112 columns]",
      "text/html": "<div>\n<style scoped>\n    .dataframe tbody tr th:only-of-type {\n        vertical-align: middle;\n    }\n\n    .dataframe tbody tr th {\n        vertical-align: top;\n    }\n\n    .dataframe thead th {\n        text-align: right;\n    }\n</style>\n<table border=\"1\" class=\"dataframe\">\n  <thead>\n    <tr style=\"text-align: right;\">\n      <th></th>\n      <th>dataset</th>\n      <th>model_DTC</th>\n      <th>model_KNC</th>\n      <th>model_LGBMC</th>\n      <th>model_LR</th>\n      <th>model_SVC</th>\n      <th>tuning_full</th>\n      <th>tuning_model</th>\n      <th>tuning_no</th>\n      <th>scoring_ACC</th>\n      <th>...</th>\n      <th>non_categorical_features_count</th>\n      <th>ratio_of_categorical_features_to_all</th>\n      <th>sum_of_all_categories</th>\n      <th>categorical_target_variables_count</th>\n      <th>non_categorical_target_variables_count</th>\n      <th>categorical_target_values_sum</th>\n      <th>total_feature_count</th>\n      <th>min_number_of_categories_per_cat_feature</th>\n      <th>max_number_of_categories_per_cat_feature</th>\n      <th>avg_number_of_categories_per_cat_feature</th>\n    </tr>\n  </thead>\n  <tbody>\n    <tr>\n      <th>0</th>\n      <td>0.025297</td>\n      <td>0.0</td>\n      <td>1.0</td>\n      <td>0.0</td>\n      <td>0.0</td>\n      <td>0.0</td>\n      <td>0.0</td>\n      <td>0.0</td>\n      <td>1.0</td>\n      <td>0.0</td>\n      <td>...</td>\n      <td>0.564327</td>\n      <td>0.045059</td>\n      <td>1.0</td>\n      <td>0.0</td>\n      <td>0.0</td>\n      <td>0.0</td>\n      <td>0.476695</td>\n      <td>0.0</td>\n      <td>0.705853</td>\n      <td>0.429681</td>\n    </tr>\n    <tr>\n      <th>1</th>\n      <td>0.025297</td>\n      <td>0.0</td>\n      <td>1.0</td>\n      <td>0.0</td>\n      <td>0.0</td>\n      <td>0.0</td>\n      <td>0.0</td>\n      <td>0.0</td>\n      <td>1.0</td>\n      <td>0.0</td>\n      <td>...</td>\n      <td>0.564327</td>\n      <td>0.045059</td>\n      <td>1.0</td>\n      <td>0.0</td>\n      <td>0.0</td>\n      <td>0.0</td>\n      <td>0.476695</td>\n      <td>0.0</td>\n      <td>0.705853</td>\n      <td>0.429681</td>\n    </tr>\n    <tr>\n      <th>2</th>\n      <td>0.025297</td>\n      <td>0.0</td>\n      <td>1.0</td>\n      <td>0.0</td>\n      <td>0.0</td>\n      <td>0.0</td>\n      <td>0.0</td>\n      <td>0.0</td>\n      <td>1.0</td>\n      <td>0.0</td>\n      <td>...</td>\n      <td>0.564327</td>\n      <td>0.045059</td>\n      <td>1.0</td>\n      <td>0.0</td>\n      <td>0.0</td>\n      <td>0.0</td>\n      <td>0.476695</td>\n      <td>0.0</td>\n      <td>0.705853</td>\n      <td>0.429681</td>\n    </tr>\n    <tr>\n      <th>3</th>\n      <td>0.025297</td>\n      <td>0.0</td>\n      <td>1.0</td>\n      <td>0.0</td>\n      <td>0.0</td>\n      <td>0.0</td>\n      <td>0.0</td>\n      <td>0.0</td>\n      <td>1.0</td>\n      <td>0.0</td>\n      <td>...</td>\n      <td>0.564327</td>\n      <td>0.045059</td>\n      <td>1.0</td>\n      <td>0.0</td>\n      <td>0.0</td>\n      <td>0.0</td>\n      <td>0.476695</td>\n      <td>0.0</td>\n      <td>0.705853</td>\n      <td>0.429681</td>\n    </tr>\n    <tr>\n      <th>4</th>\n      <td>0.025297</td>\n      <td>0.0</td>\n      <td>1.0</td>\n      <td>0.0</td>\n      <td>0.0</td>\n      <td>0.0</td>\n      <td>0.0</td>\n      <td>0.0</td>\n      <td>1.0</td>\n      <td>0.0</td>\n      <td>...</td>\n      <td>0.564327</td>\n      <td>0.045059</td>\n      <td>1.0</td>\n      <td>0.0</td>\n      <td>0.0</td>\n      <td>0.0</td>\n      <td>0.476695</td>\n      <td>0.0</td>\n      <td>0.705853</td>\n      <td>0.429681</td>\n    </tr>\n  </tbody>\n</table>\n<p>5 rows × 112 columns</p>\n</div>"
     },
     "execution_count": 34,
     "metadata": {},
     "output_type": "execute_result"
    }
   ],
   "source": [
    "X_train.head(5)"
   ],
   "metadata": {
    "collapsed": false,
    "ExecuteTime": {
     "end_time": "2023-07-07T10:36:52.149812400Z",
     "start_time": "2023-07-07T10:36:52.134188100Z"
    }
   }
  },
  {
   "cell_type": "code",
   "execution_count": 35,
   "outputs": [],
   "source": [
    "# Load holdout data\n",
    "X_holdout_original = pd.read_csv(\"../../data/preprocessed/X_hold_out_original.csv\")\n",
    "X_holdout = pd.read_csv(\"../../data/preprocessed/X_holdout.csv\")\n",
    "y_holdout = pd.read_csv(\"../../data/preprocessed/y_holdout.csv\")"
   ],
   "metadata": {
    "collapsed": false,
    "ExecuteTime": {
     "end_time": "2023-07-07T10:36:52.510800700Z",
     "start_time": "2023-07-07T10:36:52.385059700Z"
    }
   }
  },
  {
   "cell_type": "code",
   "execution_count": 36,
   "outputs": [
    {
     "name": "stdout",
     "output_type": "stream",
     "text": [
      "Shape of X_holdout_original  (9065, 5)\n",
      "Shape of X_holdout  (9065, 112)\n",
      "Shape of y_holdout  (9065, 1)\n"
     ]
    }
   ],
   "source": [
    "print(\"Shape of X_holdout_original \", X_holdout_original.shape)\n",
    "print(\"Shape of X_holdout \", X_holdout.shape)\n",
    "print(\"Shape of y_holdout \", y_holdout.shape)"
   ],
   "metadata": {
    "collapsed": false,
    "ExecuteTime": {
     "end_time": "2023-07-07T10:36:52.586744600Z",
     "start_time": "2023-07-07T10:36:52.573666600Z"
    }
   }
  },
  {
   "cell_type": "markdown",
   "source": [
    "# Modelling"
   ],
   "metadata": {
    "collapsed": false
   }
  },
  {
   "cell_type": "code",
   "execution_count": 37,
   "outputs": [
    {
     "data": {
      "text/plain": "       rank\n0  0.677419\n1  0.612903\n2  0.838710\n3  0.387097\n4  0.903226",
      "text/html": "<div>\n<style scoped>\n    .dataframe tbody tr th:only-of-type {\n        vertical-align: middle;\n    }\n\n    .dataframe tbody tr th {\n        vertical-align: top;\n    }\n\n    .dataframe thead th {\n        text-align: right;\n    }\n</style>\n<table border=\"1\" class=\"dataframe\">\n  <thead>\n    <tr style=\"text-align: right;\">\n      <th></th>\n      <th>rank</th>\n    </tr>\n  </thead>\n  <tbody>\n    <tr>\n      <th>0</th>\n      <td>0.677419</td>\n    </tr>\n    <tr>\n      <th>1</th>\n      <td>0.612903</td>\n    </tr>\n    <tr>\n      <th>2</th>\n      <td>0.838710</td>\n    </tr>\n    <tr>\n      <th>3</th>\n      <td>0.387097</td>\n    </tr>\n    <tr>\n      <th>4</th>\n      <td>0.903226</td>\n    </tr>\n  </tbody>\n</table>\n</div>"
     },
     "execution_count": 37,
     "metadata": {},
     "output_type": "execute_result"
    }
   ],
   "source": [
    "# minmax scaling for y (target) values [0,1]\n",
    "scaler = MinMaxScaler()\n",
    "y_train_scaled = scaler.fit_transform(y_train)\n",
    "y_train_scaled = pd.DataFrame(y_train_scaled, columns=y_train.columns)\n",
    "y_holdout_scaled = scaler.transform(y_holdout)\n",
    "y_holdout_scaled = pd.DataFrame(y_holdout_scaled, columns=y_holdout.columns)\n",
    "\n",
    "y_train_scaled.head(5)"
   ],
   "metadata": {
    "collapsed": false,
    "ExecuteTime": {
     "end_time": "2023-07-07T10:36:54.251798700Z",
     "start_time": "2023-07-07T10:36:54.242804600Z"
    }
   }
  },
  {
   "cell_type": "code",
   "execution_count": 38,
   "outputs": [],
   "source": [
    "# regression models to be evaluated\n",
    "models = {\n",
    "    # tree\n",
    "    \"DecisionTreeRegressor\": DecisionTreeRegressor(random_state=42),\n",
    "    # ensemble\n",
    "    \"RandomForestRegressor\": RandomForestRegressor(random_state=42, n_jobs=-1),\n",
    "    \"ExtraTreesRegressor\": ExtraTreesRegressor(random_state=42, n_jobs=-1),\n",
    "    \"GradientBoostingRegressor\": GradientBoostingRegressor(random_state=42),\n",
    "    # linear\n",
    "    \"ElasticNet\": ElasticNet(random_state=42),\n",
    "    \"SGDRegressor\": SGDRegressor(random_state=42),\n",
    "    \"SVR\": SVR(),\n",
    "    \"BayesianRidge\": BayesianRidge(),\n",
    "    \"LinearRegression\": LinearRegression(),\n",
    "    \"Ridge\": Ridge(),\n",
    "    \"Lasso\": Lasso(),\n",
    "    # others\n",
    "    \"CatBoostRegressor\": CatBoostRegressor(random_state=42, verbose=False),\n",
    "    \"KernelRidge\": KernelRidge(),\n",
    "    \"XGBRegressor\": XGBRegressor(random_state=42, n_jobs=-1),\n",
    "    \"LGBMRegressor\": LGBMRegressor(random_state=42, n_jobs=-1)\n",
    "}"
   ],
   "metadata": {
    "collapsed": false,
    "ExecuteTime": {
     "end_time": "2023-07-07T10:37:21.804323700Z",
     "start_time": "2023-07-07T10:37:21.790313600Z"
    }
   }
  },
  {
   "cell_type": "code",
   "execution_count": 41,
   "outputs": [],
   "source": [
    "def fit_and_predict(models, X_train, y_train, X_holdout):\n",
    "    \"\"\"\n",
    "    Fit on train data and predict on holdout data.\n",
    "\n",
    "    :param models: Dictionary of models to be evaluated.\n",
    "    :type models: dict\n",
    "    :param X_train: Train data.\n",
    "    :type X_train: pandas.core.frame.DataFrame\n",
    "    :param y_train: Train target.\n",
    "    :type y_train: pandas.core.frame.DataFrame\n",
    "    :param X_holdout: Holdout data.\n",
    "    :type X_holdout: pandas.core.frame.DataFrame\n",
    "\n",
    "    :return: Dictionary of predictions and fitted models.\n",
    "    :rtype: dict\n",
    "    \"\"\"\n",
    "    predictions = {}\n",
    "    fitted_models = {}\n",
    "\n",
    "    # transform y_train to 1D numpy array in order to fit the models if needed\n",
    "    if type(y_train) is not np.ndarray:\n",
    "        y_train = y_train.values.ravel()\n",
    "\n",
    "    # Create a single progress bar for the loop\n",
    "    progress_bar = tqdm(models.items(), total=len(models), desc=\"Models\")\n",
    "\n",
    "    for model_name, model in progress_bar:\n",
    "        print(\"=\"*50)\n",
    "        print(f\"Training {model_name}...\")\n",
    "        model.fit(X_train, y_train)\n",
    "        fitted_models[model_name] = model\n",
    "\n",
    "        print(f\"Predicting {model_name}...\")\n",
    "        predictions[model_name] = model.predict(X_holdout)\n",
    "\n",
    "    return predictions, fitted_models"
   ],
   "metadata": {
    "collapsed": false,
    "ExecuteTime": {
     "end_time": "2023-07-07T10:40:37.255806Z",
     "start_time": "2023-07-07T10:40:37.246292100Z"
    }
   }
  },
  {
   "cell_type": "code",
   "execution_count": 42,
   "outputs": [
    {
     "name": "stderr",
     "output_type": "stream",
     "text": [
      "  0%|          | 0/15 [00:00<?, ?it/s]"
     ]
    },
    {
     "name": "stdout",
     "output_type": "stream",
     "text": [
      "Training DecisionTreeRegressor...\n"
     ]
    },
    {
     "name": "stderr",
     "output_type": "stream",
     "text": [
      "  7%|▋         | 1/15 [00:00<00:06,  2.22it/s]"
     ]
    },
    {
     "name": "stdout",
     "output_type": "stream",
     "text": [
      "Predicting DecisionTreeRegressor...\n",
      "Training RandomForestRegressor...\n"
     ]
    },
    {
     "name": "stderr",
     "output_type": "stream",
     "text": [
      " 13%|█▎        | 2/15 [00:06<00:47,  3.69s/it]"
     ]
    },
    {
     "name": "stdout",
     "output_type": "stream",
     "text": [
      "Predicting RandomForestRegressor...\n",
      "Training ExtraTreesRegressor...\n"
     ]
    },
    {
     "name": "stderr",
     "output_type": "stream",
     "text": [
      " 20%|██        | 3/15 [00:10<00:47,  3.93s/it]"
     ]
    },
    {
     "name": "stdout",
     "output_type": "stream",
     "text": [
      "Predicting ExtraTreesRegressor...\n",
      "Training GradientBoostingRegressor...\n"
     ]
    },
    {
     "name": "stderr",
     "output_type": "stream",
     "text": [
      " 40%|████      | 6/15 [00:23<00:31,  3.54s/it]"
     ]
    },
    {
     "name": "stdout",
     "output_type": "stream",
     "text": [
      "Predicting GradientBoostingRegressor...\n",
      "Training ElasticNet...\n",
      "Predicting ElasticNet...\n",
      "Training SGDRegressor...\n",
      "Predicting SGDRegressor...\n",
      "Training SVR...\n",
      "Predicting SVR...\n"
     ]
    },
    {
     "name": "stderr",
     "output_type": "stream",
     "text": [
      " 47%|████▋     | 7/15 [02:27<04:52, 36.58s/it]"
     ]
    },
    {
     "name": "stdout",
     "output_type": "stream",
     "text": [
      "Training BayesianRidge...\n"
     ]
    },
    {
     "name": "stderr",
     "output_type": "stream",
     "text": [
      " 53%|█████▎    | 8/15 [02:28<03:05, 26.43s/it]"
     ]
    },
    {
     "name": "stdout",
     "output_type": "stream",
     "text": [
      "Predicting BayesianRidge...\n",
      "Training LinearRegression...\n"
     ]
    },
    {
     "name": "stderr",
     "output_type": "stream",
     "text": [
      " 73%|███████▎  | 11/15 [02:28<00:41, 10.48s/it]"
     ]
    },
    {
     "name": "stdout",
     "output_type": "stream",
     "text": [
      "Predicting LinearRegression...\n",
      "Training Ridge...\n",
      "Predicting Ridge...\n",
      "Training Lasso...\n",
      "Predicting Lasso...\n",
      "Training CatBoostRegressor...\n"
     ]
    },
    {
     "name": "stderr",
     "output_type": "stream",
     "text": [
      " 80%|████████  | 12/15 [02:42<00:33, 11.17s/it]"
     ]
    },
    {
     "name": "stdout",
     "output_type": "stream",
     "text": [
      "Predicting CatBoostRegressor...\n",
      "Training KernelRidge...\n",
      "Predicting KernelRidge...\n"
     ]
    },
    {
     "name": "stderr",
     "output_type": "stream",
     "text": [
      " 87%|████████▋ | 13/15 [09:12<03:37, 108.92s/it]"
     ]
    },
    {
     "name": "stdout",
     "output_type": "stream",
     "text": [
      "Training XGBRegressor...\n"
     ]
    },
    {
     "name": "stderr",
     "output_type": "stream",
     "text": [
      " 93%|█████████▎| 14/15 [09:15<01:20, 80.40s/it] "
     ]
    },
    {
     "name": "stdout",
     "output_type": "stream",
     "text": [
      "Predicting XGBRegressor...\n",
      "Training LGBMRegressor...\n"
     ]
    },
    {
     "name": "stderr",
     "output_type": "stream",
     "text": [
      "100%|██████████| 15/15 [09:15<00:00, 37.07s/it]"
     ]
    },
    {
     "name": "stdout",
     "output_type": "stream",
     "text": [
      "Predicting LGBMRegressor...\n"
     ]
    },
    {
     "name": "stderr",
     "output_type": "stream",
     "text": [
      "\n"
     ]
    }
   ],
   "source": [
    "# fit and predict\n",
    "predictions, fitted_models = fit_and_predict(models, X_train, y_train_scaled, X_holdout)"
   ],
   "metadata": {
    "collapsed": false,
    "ExecuteTime": {
     "end_time": "2023-07-07T10:49:56.353536700Z",
     "start_time": "2023-07-07T10:40:40.262372500Z"
    }
   }
  },
  {
   "cell_type": "code",
   "execution_count": null,
   "outputs": [],
   "source": [],
   "metadata": {
    "collapsed": false
   }
  }
 ],
 "metadata": {
  "kernelspec": {
   "display_name": "Python 3",
   "language": "python",
   "name": "python3"
  },
  "language_info": {
   "codemirror_mode": {
    "name": "ipython",
    "version": 2
   },
   "file_extension": ".py",
   "mimetype": "text/x-python",
   "name": "python",
   "nbconvert_exporter": "python",
   "pygments_lexer": "ipython2",
   "version": "2.7.6"
  }
 },
 "nbformat": 4,
 "nbformat_minor": 0
}
