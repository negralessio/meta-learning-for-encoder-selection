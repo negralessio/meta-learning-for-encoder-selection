{
 "cells": [
  {
   "cell_type": "markdown",
   "source": [
    "# Imports"
   ],
   "metadata": {
    "collapsed": false
   }
  },
  {
   "cell_type": "code",
   "execution_count": 62,
   "outputs": [],
   "source": [
    "import os\n",
    "import pandas as pd\n",
    "import numpy as np\n",
    "import matplotlib.pyplot as plt\n",
    "import seaborn as sns\n",
    "import tqdm\n",
    "import time\n",
    "\n",
    "from sklearn.preprocessing import MinMaxScaler\n",
    "\n",
    "from sklearn.tree import DecisionTreeRegressor\n",
    "from sklearn.ensemble import RandomForestRegressor, ExtraTreesRegressor, GradientBoostingRegressor\n",
    "from sklearn.linear_model import ElasticNet, SGDRegressor, BayesianRidge, LinearRegression, Ridge, Lasso\n",
    "from sklearn.svm import SVR\n",
    "from catboost import CatBoostRegressor # not sure to test\n",
    "from sklearn.kernel_ridge import KernelRidge # not sure to test\n",
    "from xgboost.sklearn import XGBRegressor\n",
    "from lightgbm import LGBMRegressor\n",
    "\n",
    "from src.evaluate_regression import get_rankings, average_spearman"
   ],
   "metadata": {
    "collapsed": false,
    "ExecuteTime": {
     "end_time": "2023-07-07T11:24:23.510587500Z",
     "start_time": "2023-07-07T11:24:23.492091700Z"
    }
   }
  },
  {
   "cell_type": "code",
   "execution_count": 29,
   "outputs": [],
   "source": [
    "# settings\n",
    "%matplotlib inline\n",
    "%config InlineBackend.figure_format = 'retina'\n",
    "\n",
    "sns.set_style(\"whitegrid\")\n",
    "sns.set_palette(\"Set2\")\n",
    "\n",
    "np.random.seed(42)"
   ],
   "metadata": {
    "collapsed": false,
    "ExecuteTime": {
     "end_time": "2023-07-07T10:36:50.444004400Z",
     "start_time": "2023-07-07T10:36:50.411759600Z"
    }
   }
  },
  {
   "cell_type": "code",
   "execution_count": 30,
   "outputs": [
    {
     "data": {
      "text/plain": "'C:\\\\Users\\\\merti\\\\PycharmProjects\\\\phase-2\\\\notebooks\\\\week11'"
     },
     "execution_count": 30,
     "metadata": {},
     "output_type": "execute_result"
    }
   ],
   "source": [
    "# get current directory\n",
    "os.getcwd()"
   ],
   "metadata": {
    "collapsed": false,
    "ExecuteTime": {
     "end_time": "2023-07-07T10:36:50.586694100Z",
     "start_time": "2023-07-07T10:36:50.581242Z"
    }
   }
  },
  {
   "cell_type": "markdown",
   "source": [
    "# Load data"
   ],
   "metadata": {
    "collapsed": false
   }
  },
  {
   "cell_type": "code",
   "execution_count": 31,
   "outputs": [],
   "source": [
    "FACTORS = [\"dataset\", \"model\", \"tuning\", \"scoring\"]\n",
    "NEW_INDEX = \"encoder\""
   ],
   "metadata": {
    "collapsed": false,
    "ExecuteTime": {
     "end_time": "2023-07-07T10:36:50.941951300Z",
     "start_time": "2023-07-07T10:36:50.926284100Z"
    }
   }
  },
  {
   "cell_type": "code",
   "execution_count": 32,
   "outputs": [],
   "source": [
    "# Load Train Data\n",
    "X_train = pd.read_csv(\"../../data/preprocessed/X_train.csv\")\n",
    "y_train = pd.read_csv(\"../../data/preprocessed/y_train.csv\")"
   ],
   "metadata": {
    "collapsed": false,
    "ExecuteTime": {
     "end_time": "2023-07-07T10:36:51.375521900Z",
     "start_time": "2023-07-07T10:36:51.120361100Z"
    }
   }
  },
  {
   "cell_type": "code",
   "execution_count": 33,
   "outputs": [
    {
     "name": "stdout",
     "output_type": "stream",
     "text": [
      "Shape of X_train  (26989, 112)\n",
      "Shape of y_train  (26989, 1)\n"
     ]
    }
   ],
   "source": [
    "print(\"Shape of X_train \", X_train.shape)\n",
    "print(\"Shape of y_train \", y_train.shape)"
   ],
   "metadata": {
    "collapsed": false,
    "ExecuteTime": {
     "end_time": "2023-07-07T10:36:51.391142800Z",
     "start_time": "2023-07-07T10:36:51.375521900Z"
    }
   }
  },
  {
   "cell_type": "code",
   "execution_count": 34,
   "outputs": [
    {
     "data": {
      "text/plain": "    dataset  model_DTC  model_KNC  model_LGBMC  model_LR  model_SVC  \\\n0  0.025297        0.0        1.0          0.0       0.0        0.0   \n1  0.025297        0.0        1.0          0.0       0.0        0.0   \n2  0.025297        0.0        1.0          0.0       0.0        0.0   \n3  0.025297        0.0        1.0          0.0       0.0        0.0   \n4  0.025297        0.0        1.0          0.0       0.0        0.0   \n\n   tuning_full  tuning_model  tuning_no  scoring_ACC  ...  \\\n0          0.0           0.0        1.0          0.0  ...   \n1          0.0           0.0        1.0          0.0  ...   \n2          0.0           0.0        1.0          0.0  ...   \n3          0.0           0.0        1.0          0.0  ...   \n4          0.0           0.0        1.0          0.0  ...   \n\n   non_categorical_features_count  ratio_of_categorical_features_to_all  \\\n0                        0.564327                              0.045059   \n1                        0.564327                              0.045059   \n2                        0.564327                              0.045059   \n3                        0.564327                              0.045059   \n4                        0.564327                              0.045059   \n\n   sum_of_all_categories  categorical_target_variables_count  \\\n0                    1.0                                 0.0   \n1                    1.0                                 0.0   \n2                    1.0                                 0.0   \n3                    1.0                                 0.0   \n4                    1.0                                 0.0   \n\n   non_categorical_target_variables_count  categorical_target_values_sum  \\\n0                                     0.0                            0.0   \n1                                     0.0                            0.0   \n2                                     0.0                            0.0   \n3                                     0.0                            0.0   \n4                                     0.0                            0.0   \n\n   total_feature_count  min_number_of_categories_per_cat_feature  \\\n0             0.476695                                       0.0   \n1             0.476695                                       0.0   \n2             0.476695                                       0.0   \n3             0.476695                                       0.0   \n4             0.476695                                       0.0   \n\n   max_number_of_categories_per_cat_feature  \\\n0                                  0.705853   \n1                                  0.705853   \n2                                  0.705853   \n3                                  0.705853   \n4                                  0.705853   \n\n   avg_number_of_categories_per_cat_feature  \n0                                  0.429681  \n1                                  0.429681  \n2                                  0.429681  \n3                                  0.429681  \n4                                  0.429681  \n\n[5 rows x 112 columns]",
      "text/html": "<div>\n<style scoped>\n    .dataframe tbody tr th:only-of-type {\n        vertical-align: middle;\n    }\n\n    .dataframe tbody tr th {\n        vertical-align: top;\n    }\n\n    .dataframe thead th {\n        text-align: right;\n    }\n</style>\n<table border=\"1\" class=\"dataframe\">\n  <thead>\n    <tr style=\"text-align: right;\">\n      <th></th>\n      <th>dataset</th>\n      <th>model_DTC</th>\n      <th>model_KNC</th>\n      <th>model_LGBMC</th>\n      <th>model_LR</th>\n      <th>model_SVC</th>\n      <th>tuning_full</th>\n      <th>tuning_model</th>\n      <th>tuning_no</th>\n      <th>scoring_ACC</th>\n      <th>...</th>\n      <th>non_categorical_features_count</th>\n      <th>ratio_of_categorical_features_to_all</th>\n      <th>sum_of_all_categories</th>\n      <th>categorical_target_variables_count</th>\n      <th>non_categorical_target_variables_count</th>\n      <th>categorical_target_values_sum</th>\n      <th>total_feature_count</th>\n      <th>min_number_of_categories_per_cat_feature</th>\n      <th>max_number_of_categories_per_cat_feature</th>\n      <th>avg_number_of_categories_per_cat_feature</th>\n    </tr>\n  </thead>\n  <tbody>\n    <tr>\n      <th>0</th>\n      <td>0.025297</td>\n      <td>0.0</td>\n      <td>1.0</td>\n      <td>0.0</td>\n      <td>0.0</td>\n      <td>0.0</td>\n      <td>0.0</td>\n      <td>0.0</td>\n      <td>1.0</td>\n      <td>0.0</td>\n      <td>...</td>\n      <td>0.564327</td>\n      <td>0.045059</td>\n      <td>1.0</td>\n      <td>0.0</td>\n      <td>0.0</td>\n      <td>0.0</td>\n      <td>0.476695</td>\n      <td>0.0</td>\n      <td>0.705853</td>\n      <td>0.429681</td>\n    </tr>\n    <tr>\n      <th>1</th>\n      <td>0.025297</td>\n      <td>0.0</td>\n      <td>1.0</td>\n      <td>0.0</td>\n      <td>0.0</td>\n      <td>0.0</td>\n      <td>0.0</td>\n      <td>0.0</td>\n      <td>1.0</td>\n      <td>0.0</td>\n      <td>...</td>\n      <td>0.564327</td>\n      <td>0.045059</td>\n      <td>1.0</td>\n      <td>0.0</td>\n      <td>0.0</td>\n      <td>0.0</td>\n      <td>0.476695</td>\n      <td>0.0</td>\n      <td>0.705853</td>\n      <td>0.429681</td>\n    </tr>\n    <tr>\n      <th>2</th>\n      <td>0.025297</td>\n      <td>0.0</td>\n      <td>1.0</td>\n      <td>0.0</td>\n      <td>0.0</td>\n      <td>0.0</td>\n      <td>0.0</td>\n      <td>0.0</td>\n      <td>1.0</td>\n      <td>0.0</td>\n      <td>...</td>\n      <td>0.564327</td>\n      <td>0.045059</td>\n      <td>1.0</td>\n      <td>0.0</td>\n      <td>0.0</td>\n      <td>0.0</td>\n      <td>0.476695</td>\n      <td>0.0</td>\n      <td>0.705853</td>\n      <td>0.429681</td>\n    </tr>\n    <tr>\n      <th>3</th>\n      <td>0.025297</td>\n      <td>0.0</td>\n      <td>1.0</td>\n      <td>0.0</td>\n      <td>0.0</td>\n      <td>0.0</td>\n      <td>0.0</td>\n      <td>0.0</td>\n      <td>1.0</td>\n      <td>0.0</td>\n      <td>...</td>\n      <td>0.564327</td>\n      <td>0.045059</td>\n      <td>1.0</td>\n      <td>0.0</td>\n      <td>0.0</td>\n      <td>0.0</td>\n      <td>0.476695</td>\n      <td>0.0</td>\n      <td>0.705853</td>\n      <td>0.429681</td>\n    </tr>\n    <tr>\n      <th>4</th>\n      <td>0.025297</td>\n      <td>0.0</td>\n      <td>1.0</td>\n      <td>0.0</td>\n      <td>0.0</td>\n      <td>0.0</td>\n      <td>0.0</td>\n      <td>0.0</td>\n      <td>1.0</td>\n      <td>0.0</td>\n      <td>...</td>\n      <td>0.564327</td>\n      <td>0.045059</td>\n      <td>1.0</td>\n      <td>0.0</td>\n      <td>0.0</td>\n      <td>0.0</td>\n      <td>0.476695</td>\n      <td>0.0</td>\n      <td>0.705853</td>\n      <td>0.429681</td>\n    </tr>\n  </tbody>\n</table>\n<p>5 rows × 112 columns</p>\n</div>"
     },
     "execution_count": 34,
     "metadata": {},
     "output_type": "execute_result"
    }
   ],
   "source": [
    "X_train.head(5)"
   ],
   "metadata": {
    "collapsed": false,
    "ExecuteTime": {
     "end_time": "2023-07-07T10:36:52.149812400Z",
     "start_time": "2023-07-07T10:36:52.134188100Z"
    }
   }
  },
  {
   "cell_type": "code",
   "execution_count": 35,
   "outputs": [],
   "source": [
    "# Load holdout data\n",
    "X_holdout_original = pd.read_csv(\"../../data/preprocessed/X_hold_out_original.csv\")\n",
    "X_holdout = pd.read_csv(\"../../data/preprocessed/X_holdout.csv\")\n",
    "y_holdout = pd.read_csv(\"../../data/preprocessed/y_holdout.csv\")"
   ],
   "metadata": {
    "collapsed": false,
    "ExecuteTime": {
     "end_time": "2023-07-07T10:36:52.510800700Z",
     "start_time": "2023-07-07T10:36:52.385059700Z"
    }
   }
  },
  {
   "cell_type": "code",
   "execution_count": 36,
   "outputs": [
    {
     "name": "stdout",
     "output_type": "stream",
     "text": [
      "Shape of X_holdout_original  (9065, 5)\n",
      "Shape of X_holdout  (9065, 112)\n",
      "Shape of y_holdout  (9065, 1)\n"
     ]
    }
   ],
   "source": [
    "print(\"Shape of X_holdout_original \", X_holdout_original.shape)\n",
    "print(\"Shape of X_holdout \", X_holdout.shape)\n",
    "print(\"Shape of y_holdout \", y_holdout.shape)"
   ],
   "metadata": {
    "collapsed": false,
    "ExecuteTime": {
     "end_time": "2023-07-07T10:36:52.586744600Z",
     "start_time": "2023-07-07T10:36:52.573666600Z"
    }
   }
  },
  {
   "cell_type": "markdown",
   "source": [
    "# Modelling"
   ],
   "metadata": {
    "collapsed": false
   }
  },
  {
   "cell_type": "code",
   "execution_count": 37,
   "outputs": [
    {
     "data": {
      "text/plain": "       rank\n0  0.677419\n1  0.612903\n2  0.838710\n3  0.387097\n4  0.903226",
      "text/html": "<div>\n<style scoped>\n    .dataframe tbody tr th:only-of-type {\n        vertical-align: middle;\n    }\n\n    .dataframe tbody tr th {\n        vertical-align: top;\n    }\n\n    .dataframe thead th {\n        text-align: right;\n    }\n</style>\n<table border=\"1\" class=\"dataframe\">\n  <thead>\n    <tr style=\"text-align: right;\">\n      <th></th>\n      <th>rank</th>\n    </tr>\n  </thead>\n  <tbody>\n    <tr>\n      <th>0</th>\n      <td>0.677419</td>\n    </tr>\n    <tr>\n      <th>1</th>\n      <td>0.612903</td>\n    </tr>\n    <tr>\n      <th>2</th>\n      <td>0.838710</td>\n    </tr>\n    <tr>\n      <th>3</th>\n      <td>0.387097</td>\n    </tr>\n    <tr>\n      <th>4</th>\n      <td>0.903226</td>\n    </tr>\n  </tbody>\n</table>\n</div>"
     },
     "execution_count": 37,
     "metadata": {},
     "output_type": "execute_result"
    }
   ],
   "source": [
    "# minmax scaling for y (target) values [0,1]\n",
    "scaler = MinMaxScaler()\n",
    "y_train_scaled = scaler.fit_transform(y_train)\n",
    "y_train_scaled = pd.DataFrame(y_train_scaled, columns=y_train.columns)\n",
    "y_holdout_scaled = scaler.transform(y_holdout)\n",
    "y_holdout_scaled = pd.DataFrame(y_holdout_scaled, columns=y_holdout.columns)\n",
    "\n",
    "y_train_scaled.head(5)"
   ],
   "metadata": {
    "collapsed": false,
    "ExecuteTime": {
     "end_time": "2023-07-07T10:36:54.251798700Z",
     "start_time": "2023-07-07T10:36:54.242804600Z"
    }
   }
  },
  {
   "cell_type": "code",
   "execution_count": 119,
   "outputs": [],
   "source": [
    "# regression models to be evaluated\n",
    "models = {\n",
    "    # tree\n",
    "    \"DecisionTreeRegressor\": DecisionTreeRegressor(random_state=42),\n",
    "    # ensemble\n",
    "    \"RandomForestRegressor\": RandomForestRegressor(random_state=42, n_jobs=-1),\n",
    "    \"ExtraTreesRegressor\": ExtraTreesRegressor(random_state=42, n_jobs=-1),\n",
    "    \"GradientBoostingRegressor\": GradientBoostingRegressor(random_state=42),\n",
    "    # linear\n",
    "    #\"ElasticNet\": ElasticNet(random_state=42, alpha=1.0, l1_ratio=0.5), # error\n",
    "    \"SGDRegressor\": SGDRegressor(random_state=42),\n",
    "    \"SVR\": SVR(),\n",
    "    \"BayesianRidge\": BayesianRidge(),\n",
    "    \"LinearRegression\": LinearRegression(),\n",
    "    \"Ridge\": Ridge(),\n",
    "    #\"Lasso\": Lasso(alpha=1.0), # error\n",
    "    # others\n",
    "    \"CatBoostRegressor\": CatBoostRegressor(random_state=42, verbose=False),\n",
    "    \"KernelRidge\": KernelRidge(),\n",
    "    \"XGBRegressor\": XGBRegressor(random_state=42, n_jobs=-1),\n",
    "    \"LGBMRegressor\": LGBMRegressor(random_state=42, n_jobs=-1)\n",
    "}"
   ],
   "metadata": {
    "collapsed": false,
    "ExecuteTime": {
     "end_time": "2023-07-07T12:24:42.161943900Z",
     "start_time": "2023-07-07T12:24:42.146278500Z"
    }
   }
  },
  {
   "cell_type": "code",
   "execution_count": 120,
   "outputs": [],
   "source": [
    "def fit_and_predict(models, X_train, y_train, X_holdout, y_holdout):\n",
    "    \"\"\"\n",
    "    Fit on train data and predict on holdout data.\n",
    "\n",
    "    :param models: Dictionary of models to be evaluated.\n",
    "    :type models: dict\n",
    "    :param X_train: Train data.\n",
    "    :type X_train: pandas.core.frame.DataFrame\n",
    "    :param y_train: Train target.\n",
    "    :type y_train: pandas.core.frame.DataFrame\n",
    "    :param X_holdout: Holdout data.\n",
    "    :type X_holdout: pandas.core.frame.DataFrame\n",
    "    :param y_holdout: Holdout target.\n",
    "    :type y_holdout: pandas.core.frame.DataFrame\n",
    "\n",
    "    :return: Dictionary of predictions and fitted models.\n",
    "    :rtype: dict\n",
    "    \"\"\"\n",
    "    predictions = {}\n",
    "    fitted_models = {}\n",
    "    scores = {}\n",
    "\n",
    "    # transform y_train to 1D numpy array in order to fit the models if needed\n",
    "    if type(y_train) is not np.ndarray:\n",
    "        y_train = y_train.values.ravel()\n",
    "\n",
    "    # Create a single progress bar for the loop\n",
    "    progress_bar = tqdm.notebook.tqdm(models.items(), desc=\"Models\", leave=False)\n",
    "\n",
    "    for model_name, model in progress_bar:\n",
    "        print(\"=\"*50)\n",
    "        print(f\"Training {model_name}...\")\n",
    "        # Start the timer\n",
    "        start_time = time.time()\n",
    "        # Fit the model\n",
    "        model.fit(X_train, y_train)\n",
    "        fitted_models[model_name] = model\n",
    "        # End the timer\n",
    "        end_time = time.time()\n",
    "        # Calculate the fit time\n",
    "        fit_time = end_time - start_time\n",
    "        # Print the fit time\n",
    "        print(f\"Fit Time ({model_name}): {fit_time:.2f} seconds\")\n",
    "\n",
    "        print(f\"Predicting {model_name}...\")\n",
    "        predictions[model_name] = model.predict(X_holdout)\n",
    "\n",
    "        print(f\"Scoring {model_name} with average spearman...\")\n",
    "        scores[model_name] = average_spearman(\n",
    "            y_holdout,\n",
    "            pd.DataFrame(predictions[model_name], columns=y_holdout.columns)\n",
    "        )\n",
    "\n",
    "    return predictions, fitted_models, scores"
   ],
   "metadata": {
    "collapsed": false,
    "ExecuteTime": {
     "end_time": "2023-07-07T12:24:47.040751800Z",
     "start_time": "2023-07-07T12:24:47.021579900Z"
    }
   }
  },
  {
   "cell_type": "code",
   "execution_count": null,
   "outputs": [
    {
     "data": {
      "text/plain": "Models:   0%|          | 0/13 [00:00<?, ?it/s]",
      "application/vnd.jupyter.widget-view+json": {
       "version_major": 2,
       "version_minor": 0,
       "model_id": "61f594be4a4b470ca1b0c837cda4b9c3"
      }
     },
     "metadata": {},
     "output_type": "display_data"
    },
    {
     "name": "stdout",
     "output_type": "stream",
     "text": [
      "==================================================\n",
      "Training DecisionTreeRegressor...\n",
      "Fit Time (DecisionTreeRegressor): 0.45 seconds\n",
      "Predicting DecisionTreeRegressor...\n",
      "Scoring DecisionTreeRegressor with average spearman...\n",
      "==================================================\n",
      "Training RandomForestRegressor...\n",
      "Fit Time (RandomForestRegressor): 5.69 seconds\n",
      "Predicting RandomForestRegressor...\n",
      "Scoring RandomForestRegressor with average spearman...\n",
      "==================================================\n",
      "Training ExtraTreesRegressor...\n",
      "Fit Time (ExtraTreesRegressor): 4.04 seconds\n",
      "Predicting ExtraTreesRegressor...\n",
      "Scoring ExtraTreesRegressor with average spearman...\n",
      "==================================================\n",
      "Training GradientBoostingRegressor...\n",
      "Fit Time (GradientBoostingRegressor): 13.01 seconds\n",
      "Predicting GradientBoostingRegressor...\n",
      "Scoring GradientBoostingRegressor with average spearman...\n",
      "==================================================\n",
      "Training SGDRegressor...\n",
      "Fit Time (SGDRegressor): 0.07 seconds\n",
      "Predicting SGDRegressor...\n",
      "Scoring SGDRegressor with average spearman...\n",
      "==================================================\n",
      "Training SVR...\n",
      "Fit Time (SVR): 46.44 seconds\n",
      "Predicting SVR...\n",
      "Scoring SVR with average spearman...\n",
      "==================================================\n",
      "Training BayesianRidge...\n",
      "Fit Time (BayesianRidge): 0.14 seconds\n",
      "Predicting BayesianRidge...\n",
      "Scoring BayesianRidge with average spearman...\n",
      "==================================================\n",
      "Training LinearRegression...\n",
      "Fit Time (LinearRegression): 0.17 seconds\n",
      "Predicting LinearRegression...\n",
      "Scoring LinearRegression with average spearman...\n",
      "==================================================\n",
      "Training Ridge...\n",
      "Fit Time (Ridge): 0.03 seconds\n",
      "Predicting Ridge...\n",
      "Scoring Ridge with average spearman...\n",
      "==================================================\n",
      "Training CatBoostRegressor...\n",
      "Fit Time (CatBoostRegressor): 5.57 seconds\n",
      "Predicting CatBoostRegressor...\n",
      "Scoring CatBoostRegressor with average spearman...\n",
      "==================================================\n",
      "Training KernelRidge...\n"
     ]
    }
   ],
   "source": [
    "%%time\n",
    "# fit and predict\n",
    "predictions, fitted_models, scores = fit_and_predict(models, X_train, y_train_scaled, X_holdout, y_holdout_scaled)"
   ],
   "metadata": {
    "collapsed": false,
    "is_executing": true,
    "ExecuteTime": {
     "start_time": "2023-07-07T12:24:49.483432100Z"
    }
   }
  },
  {
   "cell_type": "markdown",
   "source": [
    "**Check what causes the Warning message** \"RuntimeWarning: Mean of empty slice return np.nanmean(list_spearmen(rf1, rf2))\""
   ],
   "metadata": {
    "collapsed": false
   }
  },
  {
   "cell_type": "code",
   "execution_count": 81,
   "outputs": [
    {
     "data": {
      "text/plain": "{'DecisionTreeRegressor': array([0.77419355, 0.09677419, 0.67741935, ..., 0.        , 0.        ,\n        0.        ]),\n 'RandomForestRegressor': array([0.60451613, 0.38709677, 0.54451613, ..., 0.01129032, 0.00064516,\n        0.00451613]),\n 'ExtraTreesRegressor': array([0.65741935, 0.53096774, 0.59129032, ..., 0.00967742, 0.00322581,\n        0.00258065]),\n 'GradientBoostingRegressor': array([ 0.36070047,  0.39289923,  0.37715687, ..., -0.00766462,\n         0.04040763,  0.01432319]),\n 'ElasticNet': array([0.32571095, 0.32571095, 0.32571095, ..., 0.32571095, 0.32571095,\n        0.32571095]),\n 'SGDRegressor': array([0.44816999, 0.45115269, 0.44633612, ..., 0.25367232, 0.24866223,\n        0.25968699]),\n 'SVR': array([0.49451622, 0.35989947, 0.3670808 , ..., 0.07699006, 0.16777317,\n        0.06621222]),\n 'BayesianRidge': array([0.39064224, 0.39994265, 0.40726138, ..., 0.19126438, 0.16510941,\n        0.1834427 ]),\n 'LinearRegression': array([0.3828125 , 0.4765625 , 0.453125  , ..., 0.14453125, 0.140625  ,\n        0.109375  ]),\n 'Ridge': array([0.43326413, 0.44295113, 0.44940988, ..., 0.22903318, 0.1984929 ,\n        0.22280151]),\n 'Lasso': array([0.32571095, 0.32571095, 0.32571095, ..., 0.32571095, 0.32571095,\n        0.32571095]),\n 'CatBoostRegressor': array([ 0.5666759 ,  0.34929616,  0.39307313, ...,  0.09285471,\n        -0.01390651,  0.05615768]),\n 'KernelRidge': array([0.43342075, 0.44310986, 0.44956589, ..., 0.22900104, 0.19841718,\n        0.22278344]),\n 'XGBRegressor': array([ 0.45823672,  0.3619172 ,  0.3021167 , ...,  0.04763578,\n        -0.02060471,  0.09113523], dtype=float32),\n 'LGBMRegressor': array([0.50793056, 0.34709379, 0.39809474, ..., 0.03113335, 0.03494783,\n        0.04479848])}"
     },
     "execution_count": 81,
     "metadata": {},
     "output_type": "execute_result"
    }
   ],
   "source": [
    "predictions"
   ],
   "metadata": {
    "collapsed": false,
    "ExecuteTime": {
     "end_time": "2023-07-07T11:57:24.465306Z",
     "start_time": "2023-07-07T11:57:24.386926600Z"
    }
   }
  },
  {
   "cell_type": "code",
   "execution_count": 92,
   "outputs": [
    {
     "name": "stderr",
     "output_type": "stream",
     "text": [
      "C:\\Users\\merti\\PycharmProjects\\phase-2\\src\\evaluate_regression.py:225: RuntimeWarning: Mean of empty slice\n",
      "  return np.nanmean(list_spearman(rf1, rf2))\n"
     ]
    },
    {
     "data": {
      "text/plain": "nan"
     },
     "execution_count": 92,
     "metadata": {},
     "output_type": "execute_result"
    }
   ],
   "source": [
    "average_spearman(pd.DataFrame(predictions['ElasticNet'], columns=y_holdout.columns), y_holdout_scaled)"
   ],
   "metadata": {
    "collapsed": false,
    "ExecuteTime": {
     "end_time": "2023-07-07T12:02:29.525274600Z",
     "start_time": "2023-07-07T12:02:29.515088400Z"
    }
   }
  },
  {
   "cell_type": "code",
   "execution_count": 106,
   "outputs": [
    {
     "data": {
      "text/plain": "array([0.32571095, 0.32571095, 0.32571095, ..., 0.32571095, 0.32571095,\n       0.32571095])"
     },
     "execution_count": 106,
     "metadata": {},
     "output_type": "execute_result"
    }
   ],
   "source": [
    "predictions['ElasticNet']"
   ],
   "metadata": {
    "collapsed": false,
    "ExecuteTime": {
     "end_time": "2023-07-07T12:11:12.293216600Z",
     "start_time": "2023-07-07T12:11:12.278524300Z"
    }
   }
  },
  {
   "cell_type": "markdown",
   "source": [
    "**Findings:** Errors only with Lasso and ElasticNet, which are both linear models. The other models work fine. They have all the same values for all rankings that is why the spearmen mertic is nan and also the mean of it. Since it would be to much effort specifically searching for parameters, so that the linear models work, we will just drop them and do not use them in the evaluation. Moreover, we already have more than enough models to evaluate."
   ],
   "metadata": {
    "collapsed": false
   }
  },
  {
   "cell_type": "markdown",
   "source": [
    "# Print the scores in comparison"
   ],
   "metadata": {
    "collapsed": false
   }
  },
  {
   "cell_type": "code",
   "execution_count": null,
   "outputs": [],
   "source": [
    "# get scores\n",
    "scores_df = pd.DataFrame(scores, index=[0])\n",
    "scores_df = scores_df.melt(var_name=\"model\", value_name=\"average_spearman\")\n",
    "scores_df = scores_df.sort_values(by=\"average_spearman\", ascending=False)\n",
    "scores_df"
   ],
   "metadata": {
    "collapsed": false
   }
  },
  {
   "cell_type": "code",
   "execution_count": null,
   "outputs": [],
   "source": [],
   "metadata": {
    "collapsed": false
   }
  }
 ],
 "metadata": {
  "kernelspec": {
   "display_name": "Python 3",
   "language": "python",
   "name": "python3"
  },
  "language_info": {
   "codemirror_mode": {
    "name": "ipython",
    "version": 2
   },
   "file_extension": ".py",
   "mimetype": "text/x-python",
   "name": "python",
   "nbconvert_exporter": "python",
   "pygments_lexer": "ipython2",
   "version": "2.7.6"
  }
 },
 "nbformat": 4,
 "nbformat_minor": 0
}
