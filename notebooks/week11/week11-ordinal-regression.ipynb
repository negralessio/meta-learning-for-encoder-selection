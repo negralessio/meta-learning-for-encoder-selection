{
 "cells": [
  {
   "cell_type": "code",
   "execution_count": 50,
   "metadata": {
    "collapsed": true,
    "ExecuteTime": {
     "end_time": "2023-07-03T15:40:47.802648Z",
     "start_time": "2023-07-03T15:40:47.771907Z"
    }
   },
   "outputs": [],
   "source": [
    "import pandas as pd\n",
    "import numpy as np\n",
    "import matplotlib.pyplot as plt\n",
    "import seaborn as sns\n",
    "\n",
    "from sklearn.tree import DecisionTreeClassifier\n",
    "\n",
    "from src.evaluate_regression import get_rankings, average_spearman"
   ]
  },
  {
   "cell_type": "markdown",
   "source": [
    "# Load Data"
   ],
   "metadata": {
    "collapsed": false
   }
  },
  {
   "cell_type": "code",
   "execution_count": 51,
   "outputs": [],
   "source": [
    "FACTORS = [\"dataset\", \"model\", \"tuning\", \"scoring\"]\n",
    "NEW_INDEX = \"encoder\""
   ],
   "metadata": {
    "collapsed": false,
    "ExecuteTime": {
     "end_time": "2023-07-03T15:40:47.849478Z",
     "start_time": "2023-07-03T15:40:47.782568Z"
    }
   }
  },
  {
   "cell_type": "code",
   "execution_count": 52,
   "outputs": [
    {
     "name": "stdout",
     "output_type": "stream",
     "text": [
      "Shape of X_train  (26989, 112)\n",
      "Shape of y_train  (26989, 1)\n",
      "--------------------------------------------------\n",
      "Shape of X_holdout_original  (9065, 5)\n",
      "Shape of X_holdout  (9065, 112)\n",
      "Shape of y_holdout  (9065, 1)\n"
     ]
    },
    {
     "data": {
      "text/plain": "    dataset  model_DTC  model_KNC  model_LGBMC  model_LR  model_SVC  \\\n0  0.025297        0.0        1.0          0.0       0.0        0.0   \n1  0.025297        0.0        1.0          0.0       0.0        0.0   \n2  0.025297        0.0        1.0          0.0       0.0        0.0   \n3  0.025297        0.0        1.0          0.0       0.0        0.0   \n4  0.025297        0.0        1.0          0.0       0.0        0.0   \n\n   tuning_full  tuning_model  tuning_no  scoring_ACC  ...  \\\n0          0.0           0.0        1.0          0.0  ...   \n1          0.0           0.0        1.0          0.0  ...   \n2          0.0           0.0        1.0          0.0  ...   \n3          0.0           0.0        1.0          0.0  ...   \n4          0.0           0.0        1.0          0.0  ...   \n\n   non_categorical_features_count  ratio_of_categorical_features_to_all  \\\n0                        0.564327                              0.045059   \n1                        0.564327                              0.045059   \n2                        0.564327                              0.045059   \n3                        0.564327                              0.045059   \n4                        0.564327                              0.045059   \n\n   sum_of_all_categories  categorical_target_variables_count  \\\n0                    1.0                                 0.0   \n1                    1.0                                 0.0   \n2                    1.0                                 0.0   \n3                    1.0                                 0.0   \n4                    1.0                                 0.0   \n\n   non_categorical_target_variables_count  categorical_target_values_sum  \\\n0                                     0.0                            0.0   \n1                                     0.0                            0.0   \n2                                     0.0                            0.0   \n3                                     0.0                            0.0   \n4                                     0.0                            0.0   \n\n   total_feature_count  min_number_of_categories_per_cat_feature  \\\n0             0.476695                                       0.0   \n1             0.476695                                       0.0   \n2             0.476695                                       0.0   \n3             0.476695                                       0.0   \n4             0.476695                                       0.0   \n\n   max_number_of_categories_per_cat_feature  \\\n0                                  0.705853   \n1                                  0.705853   \n2                                  0.705853   \n3                                  0.705853   \n4                                  0.705853   \n\n   avg_number_of_categories_per_cat_feature  \n0                                  0.429681  \n1                                  0.429681  \n2                                  0.429681  \n3                                  0.429681  \n4                                  0.429681  \n\n[5 rows x 112 columns]",
      "text/html": "<div>\n<style scoped>\n    .dataframe tbody tr th:only-of-type {\n        vertical-align: middle;\n    }\n\n    .dataframe tbody tr th {\n        vertical-align: top;\n    }\n\n    .dataframe thead th {\n        text-align: right;\n    }\n</style>\n<table border=\"1\" class=\"dataframe\">\n  <thead>\n    <tr style=\"text-align: right;\">\n      <th></th>\n      <th>dataset</th>\n      <th>model_DTC</th>\n      <th>model_KNC</th>\n      <th>model_LGBMC</th>\n      <th>model_LR</th>\n      <th>model_SVC</th>\n      <th>tuning_full</th>\n      <th>tuning_model</th>\n      <th>tuning_no</th>\n      <th>scoring_ACC</th>\n      <th>...</th>\n      <th>non_categorical_features_count</th>\n      <th>ratio_of_categorical_features_to_all</th>\n      <th>sum_of_all_categories</th>\n      <th>categorical_target_variables_count</th>\n      <th>non_categorical_target_variables_count</th>\n      <th>categorical_target_values_sum</th>\n      <th>total_feature_count</th>\n      <th>min_number_of_categories_per_cat_feature</th>\n      <th>max_number_of_categories_per_cat_feature</th>\n      <th>avg_number_of_categories_per_cat_feature</th>\n    </tr>\n  </thead>\n  <tbody>\n    <tr>\n      <th>0</th>\n      <td>0.025297</td>\n      <td>0.0</td>\n      <td>1.0</td>\n      <td>0.0</td>\n      <td>0.0</td>\n      <td>0.0</td>\n      <td>0.0</td>\n      <td>0.0</td>\n      <td>1.0</td>\n      <td>0.0</td>\n      <td>...</td>\n      <td>0.564327</td>\n      <td>0.045059</td>\n      <td>1.0</td>\n      <td>0.0</td>\n      <td>0.0</td>\n      <td>0.0</td>\n      <td>0.476695</td>\n      <td>0.0</td>\n      <td>0.705853</td>\n      <td>0.429681</td>\n    </tr>\n    <tr>\n      <th>1</th>\n      <td>0.025297</td>\n      <td>0.0</td>\n      <td>1.0</td>\n      <td>0.0</td>\n      <td>0.0</td>\n      <td>0.0</td>\n      <td>0.0</td>\n      <td>0.0</td>\n      <td>1.0</td>\n      <td>0.0</td>\n      <td>...</td>\n      <td>0.564327</td>\n      <td>0.045059</td>\n      <td>1.0</td>\n      <td>0.0</td>\n      <td>0.0</td>\n      <td>0.0</td>\n      <td>0.476695</td>\n      <td>0.0</td>\n      <td>0.705853</td>\n      <td>0.429681</td>\n    </tr>\n    <tr>\n      <th>2</th>\n      <td>0.025297</td>\n      <td>0.0</td>\n      <td>1.0</td>\n      <td>0.0</td>\n      <td>0.0</td>\n      <td>0.0</td>\n      <td>0.0</td>\n      <td>0.0</td>\n      <td>1.0</td>\n      <td>0.0</td>\n      <td>...</td>\n      <td>0.564327</td>\n      <td>0.045059</td>\n      <td>1.0</td>\n      <td>0.0</td>\n      <td>0.0</td>\n      <td>0.0</td>\n      <td>0.476695</td>\n      <td>0.0</td>\n      <td>0.705853</td>\n      <td>0.429681</td>\n    </tr>\n    <tr>\n      <th>3</th>\n      <td>0.025297</td>\n      <td>0.0</td>\n      <td>1.0</td>\n      <td>0.0</td>\n      <td>0.0</td>\n      <td>0.0</td>\n      <td>0.0</td>\n      <td>0.0</td>\n      <td>1.0</td>\n      <td>0.0</td>\n      <td>...</td>\n      <td>0.564327</td>\n      <td>0.045059</td>\n      <td>1.0</td>\n      <td>0.0</td>\n      <td>0.0</td>\n      <td>0.0</td>\n      <td>0.476695</td>\n      <td>0.0</td>\n      <td>0.705853</td>\n      <td>0.429681</td>\n    </tr>\n    <tr>\n      <th>4</th>\n      <td>0.025297</td>\n      <td>0.0</td>\n      <td>1.0</td>\n      <td>0.0</td>\n      <td>0.0</td>\n      <td>0.0</td>\n      <td>0.0</td>\n      <td>0.0</td>\n      <td>1.0</td>\n      <td>0.0</td>\n      <td>...</td>\n      <td>0.564327</td>\n      <td>0.045059</td>\n      <td>1.0</td>\n      <td>0.0</td>\n      <td>0.0</td>\n      <td>0.0</td>\n      <td>0.476695</td>\n      <td>0.0</td>\n      <td>0.705853</td>\n      <td>0.429681</td>\n    </tr>\n  </tbody>\n</table>\n<p>5 rows × 112 columns</p>\n</div>"
     },
     "execution_count": 52,
     "metadata": {},
     "output_type": "execute_result"
    }
   ],
   "source": [
    "# Load Train Data\n",
    "X_train = pd.read_csv(\"../../data/preprocessed/X_train.csv\")\n",
    "y_train = pd.read_csv(\"../../data/preprocessed/y_train.csv\")\n",
    "\n",
    "# Load holdout data\n",
    "X_holdout_original = pd.read_csv(\"../../data/preprocessed/X_hold_out_original.csv\")\n",
    "X_holdout = pd.read_csv(\"../../data/preprocessed/X_holdout.csv\")\n",
    "y_holdout = pd.read_csv(\"../../data/preprocessed/y_holdout.csv\")\n",
    "\n",
    "print(\"Shape of X_train \", X_train.shape)\n",
    "print(\"Shape of y_train \", y_train.shape)\n",
    "print(50 * \"-\")\n",
    "print(\"Shape of X_holdout_original \", X_holdout_original.shape)\n",
    "print(\"Shape of X_holdout \", X_holdout.shape)\n",
    "print(\"Shape of y_holdout \", y_holdout.shape)\n",
    "\n",
    "X_train.head(5)"
   ],
   "metadata": {
    "collapsed": false,
    "ExecuteTime": {
     "end_time": "2023-07-03T15:40:49.030401Z",
     "start_time": "2023-07-03T15:40:47.789069Z"
    }
   }
  },
  {
   "cell_type": "markdown",
   "source": [
    "# Prepare for ordinal regression"
   ],
   "metadata": {
    "collapsed": false
   }
  },
  {
   "cell_type": "code",
   "execution_count": 53,
   "outputs": [
    {
     "data": {
      "text/plain": "   rank\n0  21.0\n1  19.0\n2  26.0\n3  12.0\n4  28.0",
      "text/html": "<div>\n<style scoped>\n    .dataframe tbody tr th:only-of-type {\n        vertical-align: middle;\n    }\n\n    .dataframe tbody tr th {\n        vertical-align: top;\n    }\n\n    .dataframe thead th {\n        text-align: right;\n    }\n</style>\n<table border=\"1\" class=\"dataframe\">\n  <thead>\n    <tr style=\"text-align: right;\">\n      <th></th>\n      <th>rank</th>\n    </tr>\n  </thead>\n  <tbody>\n    <tr>\n      <th>0</th>\n      <td>21.0</td>\n    </tr>\n    <tr>\n      <th>1</th>\n      <td>19.0</td>\n    </tr>\n    <tr>\n      <th>2</th>\n      <td>26.0</td>\n    </tr>\n    <tr>\n      <th>3</th>\n      <td>12.0</td>\n    </tr>\n    <tr>\n      <th>4</th>\n      <td>28.0</td>\n    </tr>\n  </tbody>\n</table>\n</div>"
     },
     "execution_count": 53,
     "metadata": {},
     "output_type": "execute_result"
    }
   ],
   "source": [
    "y_train.head(5)"
   ],
   "metadata": {
    "collapsed": false,
    "ExecuteTime": {
     "end_time": "2023-07-03T15:40:49.040259Z",
     "start_time": "2023-07-03T15:40:49.034139Z"
    }
   }
  },
  {
   "cell_type": "code",
   "execution_count": 54,
   "outputs": [
    {
     "data": {
      "text/plain": "   y0  y1  y2  y3  y4  y5  y6  y7  y8  y9  ...  y21  y22  y23  y24  y25  y26  \\\n0   1   1   1   1   1   1   1   1   1   1  ...    0    0    0    0    0    0   \n1   1   1   1   1   1   1   1   1   1   1  ...    0    0    0    0    0    0   \n2   1   1   1   1   1   1   1   1   1   1  ...    1    1    1    1    1    0   \n3   1   1   1   1   1   1   1   1   1   1  ...    0    0    0    0    0    0   \n4   1   1   1   1   1   1   1   1   1   1  ...    1    1    1    1    1    1   \n\n   y27  y28  y29  y30  \n0    0    0    0    0  \n1    0    0    0    0  \n2    0    0    0    0  \n3    0    0    0    0  \n4    1    0    0    0  \n\n[5 rows x 31 columns]",
      "text/html": "<div>\n<style scoped>\n    .dataframe tbody tr th:only-of-type {\n        vertical-align: middle;\n    }\n\n    .dataframe tbody tr th {\n        vertical-align: top;\n    }\n\n    .dataframe thead th {\n        text-align: right;\n    }\n</style>\n<table border=\"1\" class=\"dataframe\">\n  <thead>\n    <tr style=\"text-align: right;\">\n      <th></th>\n      <th>y0</th>\n      <th>y1</th>\n      <th>y2</th>\n      <th>y3</th>\n      <th>y4</th>\n      <th>y5</th>\n      <th>y6</th>\n      <th>y7</th>\n      <th>y8</th>\n      <th>y9</th>\n      <th>...</th>\n      <th>y21</th>\n      <th>y22</th>\n      <th>y23</th>\n      <th>y24</th>\n      <th>y25</th>\n      <th>y26</th>\n      <th>y27</th>\n      <th>y28</th>\n      <th>y29</th>\n      <th>y30</th>\n    </tr>\n  </thead>\n  <tbody>\n    <tr>\n      <th>0</th>\n      <td>1</td>\n      <td>1</td>\n      <td>1</td>\n      <td>1</td>\n      <td>1</td>\n      <td>1</td>\n      <td>1</td>\n      <td>1</td>\n      <td>1</td>\n      <td>1</td>\n      <td>...</td>\n      <td>0</td>\n      <td>0</td>\n      <td>0</td>\n      <td>0</td>\n      <td>0</td>\n      <td>0</td>\n      <td>0</td>\n      <td>0</td>\n      <td>0</td>\n      <td>0</td>\n    </tr>\n    <tr>\n      <th>1</th>\n      <td>1</td>\n      <td>1</td>\n      <td>1</td>\n      <td>1</td>\n      <td>1</td>\n      <td>1</td>\n      <td>1</td>\n      <td>1</td>\n      <td>1</td>\n      <td>1</td>\n      <td>...</td>\n      <td>0</td>\n      <td>0</td>\n      <td>0</td>\n      <td>0</td>\n      <td>0</td>\n      <td>0</td>\n      <td>0</td>\n      <td>0</td>\n      <td>0</td>\n      <td>0</td>\n    </tr>\n    <tr>\n      <th>2</th>\n      <td>1</td>\n      <td>1</td>\n      <td>1</td>\n      <td>1</td>\n      <td>1</td>\n      <td>1</td>\n      <td>1</td>\n      <td>1</td>\n      <td>1</td>\n      <td>1</td>\n      <td>...</td>\n      <td>1</td>\n      <td>1</td>\n      <td>1</td>\n      <td>1</td>\n      <td>1</td>\n      <td>0</td>\n      <td>0</td>\n      <td>0</td>\n      <td>0</td>\n      <td>0</td>\n    </tr>\n    <tr>\n      <th>3</th>\n      <td>1</td>\n      <td>1</td>\n      <td>1</td>\n      <td>1</td>\n      <td>1</td>\n      <td>1</td>\n      <td>1</td>\n      <td>1</td>\n      <td>1</td>\n      <td>1</td>\n      <td>...</td>\n      <td>0</td>\n      <td>0</td>\n      <td>0</td>\n      <td>0</td>\n      <td>0</td>\n      <td>0</td>\n      <td>0</td>\n      <td>0</td>\n      <td>0</td>\n      <td>0</td>\n    </tr>\n    <tr>\n      <th>4</th>\n      <td>1</td>\n      <td>1</td>\n      <td>1</td>\n      <td>1</td>\n      <td>1</td>\n      <td>1</td>\n      <td>1</td>\n      <td>1</td>\n      <td>1</td>\n      <td>1</td>\n      <td>...</td>\n      <td>1</td>\n      <td>1</td>\n      <td>1</td>\n      <td>1</td>\n      <td>1</td>\n      <td>1</td>\n      <td>1</td>\n      <td>0</td>\n      <td>0</td>\n      <td>0</td>\n    </tr>\n  </tbody>\n</table>\n<p>5 rows × 31 columns</p>\n</div>"
     },
     "execution_count": 54,
     "metadata": {},
     "output_type": "execute_result"
    }
   ],
   "source": [
    "def transform_y_train_to_multi_output_binary_classification(y_train: pd.DataFrame, verbosity:int =0) -> pd.DataFrame:\n",
    "    \"\"\"\n",
    "    Transforms y_train to the schema that a multi output binary classification problem expects.\n",
    "    Transform rank into 31 binary targets, y_i’s: y_i = 1 if rank > i, 0 otherwise\n",
    "    Note that y_i = 1 implies y_{i-1} = 1.\n",
    "\n",
    "    :param y_train: pd.DataFrame -- Dataframe of the labels of the train set\n",
    "    :param verbosity: int -- Level of verbosity\n",
    "\n",
    "    :return: y_train: pd.DataFrame -- Transformed dataframe\n",
    "    \"\"\"\n",
    "    y_train = y_train.copy()\n",
    "\n",
    "    if verbosity > 0:\n",
    "        print(\"Transforming y_train to multi output binary classifcation ...\")\n",
    "\n",
    "    # y_i’s: y_i = 1 if rank > i, 0 otherwise\n",
    "    for i in range(int(y_train[\"rank\"].max())):\n",
    "        y_train[f\"y{i}\"] = (y_train[\"rank\"] > i).astype(int)\n",
    "    # Drop original target\n",
    "    y_train.drop(\"rank\", axis=1, inplace=True)\n",
    "\n",
    "    return y_train\n",
    "\n",
    "y_train = transform_y_train_to_multi_output_binary_classification(y_train=y_train)\n",
    "y_train.head(5)"
   ],
   "metadata": {
    "collapsed": false,
    "ExecuteTime": {
     "end_time": "2023-07-03T15:40:49.197186Z",
     "start_time": "2023-07-03T15:40:49.043087Z"
    }
   }
  },
  {
   "cell_type": "markdown",
   "source": [
    "# Modelling"
   ],
   "metadata": {
    "collapsed": false
   }
  },
  {
   "cell_type": "code",
   "execution_count": 55,
   "outputs": [],
   "source": [
    "# Fit model\n",
    "model = DecisionTreeClassifier(random_state=42).fit(X_train, y_train)\n",
    "\n",
    "# Predict on holdout set\n",
    "y_pred = model.predict(X_holdout)"
   ],
   "metadata": {
    "collapsed": false,
    "ExecuteTime": {
     "end_time": "2023-07-03T15:40:52.004693Z",
     "start_time": "2023-07-03T15:40:49.113939Z"
    }
   }
  },
  {
   "cell_type": "code",
   "execution_count": 59,
   "outputs": [
    {
     "data": {
      "text/plain": "array([[1, 1, 1, ..., 0, 0, 0],\n       [1, 1, 1, ..., 0, 0, 0],\n       [1, 1, 1, ..., 0, 0, 0],\n       ...,\n       [0, 0, 0, ..., 0, 0, 0],\n       [0, 0, 0, ..., 0, 0, 0],\n       [0, 0, 0, ..., 0, 0, 0]])"
     },
     "execution_count": 59,
     "metadata": {},
     "output_type": "execute_result"
    }
   ],
   "source": [
    "y_pred"
   ],
   "metadata": {
    "collapsed": false,
    "ExecuteTime": {
     "end_time": "2023-07-03T15:41:02.591545Z",
     "start_time": "2023-07-03T15:41:02.577944Z"
    }
   }
  },
  {
   "cell_type": "markdown",
   "source": [
    "# Scoring"
   ],
   "metadata": {
    "collapsed": false
   }
  },
  {
   "cell_type": "code",
   "execution_count": 63,
   "outputs": [
    {
     "name": "stdout",
     "output_type": "stream",
     "text": [
      "Ordinal regression average spearman:\n",
      " Sum: 0.6350\n",
      " Min: 0.6170\n"
     ]
    }
   ],
   "source": [
    "def score_model(X_holdout_original: pd.DataFrame, y_holdout, y_pred, verbosity = 1):\n",
    "    \"\"\"\n",
    "    Scores the prediction set y_pred using the provided functions from supervisor.\n",
    "\n",
    "    :param X_holdout_original: pd.DataFrame -- Schema of the original holdout set before any processing\n",
    "    :param y_holdout: pd.DataFrame -- Dataframe of the labels of the holdout set\n",
    "    :param y_pred: Vector -- Vector of the predicted labels of the holdout set X_holdout\n",
    "    :param verbosity: int -- Level of verbosity\n",
    "\n",
    "    :return: average_spearman_sum, average_spearman_min\n",
    "    \"\"\"\n",
    "    X_holdout_original[\"rank\"] = y_holdout\n",
    "    X_holdout_original[\"rank_pred_sum\"] = y_pred.sum(axis=1)\n",
    "    X_holdout_original[\"rank_pred_min\"] = np.argmin(y_pred, axis=1) - 1\n",
    "\n",
    "    rankings_test = get_rankings(X_holdout_original, factors=FACTORS, new_index=NEW_INDEX, target=\"rank\")\n",
    "    rankings_pred_sum = get_rankings(X_holdout_original, factors=FACTORS, new_index=NEW_INDEX, target=\"rank_pred_sum\")\n",
    "    rankings_pred_min = get_rankings(X_holdout_original, factors=FACTORS, new_index=NEW_INDEX, target=\"rank_pred_min\")\n",
    "\n",
    "    average_spearman_sum = average_spearman(rankings_test, rankings_pred_sum)\n",
    "    average_spearman_min = average_spearman(rankings_test, rankings_pred_min)\n",
    "\n",
    "    if verbosity > 0:\n",
    "        print(\"Ordinal regression average spearman:\\n\",\n",
    "            f\"Sum: {average_spearman_sum:.4f}\\n\",\n",
    "            f\"Min: {average_spearman_min:.4f}\")\n",
    "\n",
    "    return average_spearman_sum, average_spearman_min\n",
    "\n",
    "\n",
    "average_spearman_sum, average_spearman_min = score_model(X_holdout_original, y_holdout, y_pred, verbosity=1)"
   ],
   "metadata": {
    "collapsed": false,
    "ExecuteTime": {
     "end_time": "2023-07-03T15:46:56.537140Z",
     "start_time": "2023-07-03T15:46:54.284690Z"
    }
   }
  },
  {
   "cell_type": "code",
   "execution_count": 57,
   "outputs": [],
   "source": [],
   "metadata": {
    "collapsed": false,
    "ExecuteTime": {
     "end_time": "2023-07-03T15:40:54.169254Z",
     "start_time": "2023-07-03T15:40:54.165269Z"
    }
   }
  }
 ],
 "metadata": {
  "kernelspec": {
   "name": "ds_lab",
   "language": "python",
   "display_name": "ds_lab"
  },
  "language_info": {
   "codemirror_mode": {
    "name": "ipython",
    "version": 2
   },
   "file_extension": ".py",
   "mimetype": "text/x-python",
   "name": "python",
   "nbconvert_exporter": "python",
   "pygments_lexer": "ipython2",
   "version": "2.7.6"
  }
 },
 "nbformat": 4,
 "nbformat_minor": 0
}
