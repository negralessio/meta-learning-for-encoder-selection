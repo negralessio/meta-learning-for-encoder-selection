{
 "cells": [
  {
   "cell_type": "code",
   "execution_count": 1,
   "id": "dd78f586",
   "metadata": {},
   "outputs": [
    {
     "data": {
      "text/html": [
       "<style>.container { width:95% !important; }</style>"
      ],
      "text/plain": [
       "<IPython.core.display.HTML object>"
      ]
     },
     "metadata": {},
     "output_type": "display_data"
    }
   ],
   "source": [
    "from IPython.display import display, HTML\n",
    "display(HTML(\"<style>.container { width:95% !important; }</style>\"))"
   ]
  },
  {
   "cell_type": "code",
   "execution_count": 2,
   "id": "ae1bd9c2",
   "metadata": {},
   "outputs": [],
   "source": [
    "import os\n",
    "import pandas as pd\n",
    "import math\n",
    "\n",
    "import sys\n",
    "sys.path.append(\"../..\")\n",
    "from src.load_datasets import load_dataset, load_rankings, load_train_data\n",
    "import src.evaluate_regression"
   ]
  },
  {
   "cell_type": "markdown",
   "id": "a74e6b37",
   "metadata": {},
   "source": [
    "# Load data\n",
    "\n",
    "Do not read preprocessed data, because then I cannot generate the indices for the CV. "
   ]
  },
  {
   "cell_type": "code",
   "execution_count": 3,
   "id": "23bc3d7d",
   "metadata": {},
   "outputs": [],
   "source": [
    "# Define variables for ranking\n",
    "factors = [\"dataset\", \"model\", \"tuning\", \"scoring\"]\n",
    "new_index = \"encoder\"\n",
    "target = \"rank\""
   ]
  },
  {
   "cell_type": "code",
   "execution_count": 7,
   "id": "13b0aed5",
   "metadata": {},
   "outputs": [
    {
     "name": "stdout",
     "output_type": "stream",
     "text": [
      "Loading data from '../../data/raw/dataset_rank_train.csv' ...\n",
      "(36054, 5)\n"
     ]
    },
    {
     "data": {
      "text/html": [
       "<div>\n",
       "<style scoped>\n",
       "    .dataframe tbody tr th:only-of-type {\n",
       "        vertical-align: middle;\n",
       "    }\n",
       "\n",
       "    .dataframe tbody tr th {\n",
       "        vertical-align: top;\n",
       "    }\n",
       "\n",
       "    .dataframe thead th {\n",
       "        text-align: right;\n",
       "    }\n",
       "</style>\n",
       "<table border=\"1\" class=\"dataframe\">\n",
       "  <thead>\n",
       "    <tr style=\"text-align: right;\">\n",
       "      <th></th>\n",
       "      <th>dataset</th>\n",
       "      <th>model</th>\n",
       "      <th>tuning</th>\n",
       "      <th>scoring</th>\n",
       "      <th>encoder</th>\n",
       "    </tr>\n",
       "  </thead>\n",
       "  <tbody>\n",
       "    <tr>\n",
       "      <th>0</th>\n",
       "      <td>1169</td>\n",
       "      <td>KNC</td>\n",
       "      <td>model</td>\n",
       "      <td>ACC</td>\n",
       "      <td>BUCV2RGLMME</td>\n",
       "    </tr>\n",
       "    <tr>\n",
       "      <th>1</th>\n",
       "      <td>1169</td>\n",
       "      <td>KNC</td>\n",
       "      <td>model</td>\n",
       "      <td>ACC</td>\n",
       "      <td>BUCV2TE</td>\n",
       "    </tr>\n",
       "    <tr>\n",
       "      <th>2</th>\n",
       "      <td>1169</td>\n",
       "      <td>KNC</td>\n",
       "      <td>model</td>\n",
       "      <td>ACC</td>\n",
       "      <td>CBE</td>\n",
       "    </tr>\n",
       "    <tr>\n",
       "      <th>3</th>\n",
       "      <td>1169</td>\n",
       "      <td>KNC</td>\n",
       "      <td>model</td>\n",
       "      <td>ACC</td>\n",
       "      <td>CE</td>\n",
       "    </tr>\n",
       "    <tr>\n",
       "      <th>4</th>\n",
       "      <td>1169</td>\n",
       "      <td>KNC</td>\n",
       "      <td>model</td>\n",
       "      <td>ACC</td>\n",
       "      <td>CV10RGLMME</td>\n",
       "    </tr>\n",
       "  </tbody>\n",
       "</table>\n",
       "</div>"
      ],
      "text/plain": [
       "   dataset model tuning scoring      encoder\n",
       "0     1169   KNC  model     ACC  BUCV2RGLMME\n",
       "1     1169   KNC  model     ACC      BUCV2TE\n",
       "2     1169   KNC  model     ACC          CBE\n",
       "3     1169   KNC  model     ACC           CE\n",
       "4     1169   KNC  model     ACC   CV10RGLMME"
      ]
     },
     "execution_count": 7,
     "metadata": {},
     "output_type": "execute_result"
    }
   ],
   "source": [
    "df_train = load_dataset(\"../../data/raw/dataset_rank_train.csv\")\n",
    "\n",
    "if \"cv_score\" in df_train.columns:\n",
    "    df_train = df_train.drop(\"cv_score\", axis=1)\n",
    "\n",
    "X_train = df_train.drop(target, axis=1)\n",
    "y_train = df_train[target]\n",
    "\n",
    "print(X_train.shape)\n",
    "X_train.head()"
   ]
  },
  {
   "cell_type": "code",
   "execution_count": 8,
   "id": "872be3e8",
   "metadata": {},
   "outputs": [],
   "source": [
    "cv_indices = src.evaluate_regression.custom_cross_validated_indices(pd.concat([X_train, y_train], axis=1), \n",
    "                                                                    factors, \n",
    "                                                                    target, \n",
    "                                                                    n_splits=5, \n",
    "                                                                    shuffle=True, \n",
    "                                                                    random_state=1444)"
   ]
  },
  {
   "cell_type": "code",
   "execution_count": 9,
   "id": "cf8cc2e9",
   "metadata": {},
   "outputs": [
    {
     "name": "stdout",
     "output_type": "stream",
     "text": [
      "[0        16858\n",
      "1        16859\n",
      "2        16860\n",
      "3        16861\n",
      "4        16862\n",
      "         ...  \n",
      "28871     6434\n",
      "28872     6435\n",
      "28873     6436\n",
      "28874     6437\n",
      "28875     6438\n",
      "Name: index, Length: 28876, dtype: int64, 0        6502\n",
      "1        6503\n",
      "2        6504\n",
      "3        6505\n",
      "4        6506\n",
      "        ...  \n",
      "7173    24563\n",
      "7174    24564\n",
      "7175    24565\n",
      "7176    24566\n",
      "7177    24567\n",
      "Name: index, Length: 7178, dtype: int64]\n"
     ]
    }
   ],
   "source": [
    "print(cv_indices[0])"
   ]
  },
  {
   "cell_type": "markdown",
   "id": "0cdaa7d3",
   "metadata": {},
   "source": [
    "# Preprocess data"
   ]
  },
  {
   "cell_type": "code",
   "execution_count": 10,
   "id": "616a5fe0",
   "metadata": {},
   "outputs": [],
   "source": [
    "import src.encoding\n",
    "from src.feature_engineering import normalize_train_data, normalize_test_data\n",
    "from src.meta_information import add_dataset_meta_information"
   ]
  },
  {
   "cell_type": "code",
   "execution_count": 11,
   "id": "76ad5709",
   "metadata": {},
   "outputs": [
    {
     "name": "stdout",
     "output_type": "stream",
     "text": [
      "One Hot Encoding the features ['model', 'tuning', 'scoring'] of the train data ...\n"
     ]
    }
   ],
   "source": [
    "# OHE encoding \n",
    "X_train, ohe = src.encoding.ohe_encode_train_data(X_train=X_train,\n",
    "                                                  cols_to_encode=[\"model\", \"tuning\", \"scoring\"],\n",
    "                                                  verbosity=2)"
   ]
  },
  {
   "cell_type": "code",
   "execution_count": 12,
   "id": "fe8b868e",
   "metadata": {},
   "outputs": [
    {
     "name": "stdout",
     "output_type": "stream",
     "text": [
      "(Poincare) Embedding the graph ...\n",
      "Saving the embeddings to '../../data/preprocessed/embeddings.csv'...\n",
      "Encoding the data feature 'encoder'...\n"
     ]
    }
   ],
   "source": [
    "# Encoder encoding: Poincare Embeddings for feature \"encoder\"\n",
    "X_train, _ = src.encoding.poincare_encoding(path_to_graph=\"../../data/raw/graph.adjlist\",\n",
    "                                            path_to_embeddings=\"../../data/preprocessed/embeddings.csv\",\n",
    "                                            data=X_train,\n",
    "                                            column_to_encode=\"encoder\",\n",
    "                                            encode_dim=50,\n",
    "                                            explode_dim=True,\n",
    "                                            epochs=5000,\n",
    "                                            dim_reduction=None,\n",
    "                                            verbosity=2)"
   ]
  },
  {
   "cell_type": "code",
   "execution_count": 13,
   "id": "d7531e9a",
   "metadata": {},
   "outputs": [],
   "source": [
    "X_train = add_dataset_meta_information(df=X_train,\n",
    "                                       path_to_meta_df=\"../../data/preprocessed/dataset_agg.csv\",\n",
    "                                       nan_threshold=0.4,\n",
    "                                       replacing_strategy=\"median\")"
   ]
  },
  {
   "cell_type": "code",
   "execution_count": 14,
   "id": "2839abde",
   "metadata": {},
   "outputs": [
    {
     "name": "stdout",
     "output_type": "stream",
     "text": [
      "Normalizing train data using method 'minmax' ...\n"
     ]
    }
   ],
   "source": [
    "X_train, scaler = normalize_train_data(X_train=X_train, \n",
    "                                       method=\"minmax\",\n",
    "                                       verbosity=2)"
   ]
  },
  {
   "cell_type": "code",
   "execution_count": 15,
   "id": "7e8888f5",
   "metadata": {},
   "outputs": [
    {
     "name": "stdout",
     "output_type": "stream",
     "text": [
      "(36054, 112)\n"
     ]
    }
   ],
   "source": [
    "print(X_train.shape)"
   ]
  },
  {
   "cell_type": "markdown",
   "id": "26485eae",
   "metadata": {},
   "source": [
    "# Multiclass classification"
   ]
  },
  {
   "cell_type": "code",
   "execution_count": null,
   "id": "d0108271",
   "metadata": {},
   "outputs": [],
   "source": [
    "from sklearn.metrics import matthews_corrcoef\n",
    "\n",
    "def manual_cv(indices=None, X=None, y=None):\n",
    "    for fold in indices: \n",
    "        X_train = X.loc[fold[0]]\n",
    "        y_train = y.loc[fold[0]]\n",
    "        \n",
    "        X_test = X.loc[fold[1]]\n",
    "        y_test = y.loc[fold[1]]\n",
    "        \n",
    "        model = RandomForestClassifier(random_state=42, n_jobs=-1)\n",
    "        model.fit(X_train, y_train)\n",
    "        \n",
    "        preds = model.predict(X_test)\n",
    "        score = matthews_corrcoef(y_test, preds)\n",
    "        \n",
    "        print(f\"PREDICTIONS : {preds[:10]}\")\n",
    "        print(f\"Ground truth: {list(y_test[:10])}\")\n",
    "        \n",
    "        print(f\"MCC: {round(score, 4)}\")\n",
    "    "
   ]
  },
  {
   "cell_type": "code",
   "execution_count": null,
   "id": "647039e5",
   "metadata": {},
   "outputs": [],
   "source": [
    "%%time\n",
    "\n",
    "# Use the labels as they are\n",
    "from sklearn.ensemble import RandomForestClassifier\n",
    "from sklearn.model_selection import cross_validate\n",
    "\n",
    "model = RandomForestClassifier(random_state=42)\n",
    "\n",
    "cv_results = cross_validate(estimator=model, \n",
    "                            X=X_train, \n",
    "                            y=y_train,\n",
    "                            cv=cv_indices, \n",
    "                            scoring=[\"matthews_corrcoef\", \"accuracy\"],  # , \"f1\"\n",
    "                            n_jobs=-1, \n",
    "                            return_train_score=True)"
   ]
  },
  {
   "cell_type": "code",
   "execution_count": null,
   "id": "9f01d5b2",
   "metadata": {},
   "outputs": [],
   "source": [
    "for scorer in [\"matthews_corrcoef\", \"accuracy\"]:\n",
    "    print(f\"CV Test {scorer}: {round(cv_results[f'test_{scorer}'].mean(), 4)} +/- {round(cv_results[f'test_{scorer}'].std(), 4)}\")"
   ]
  },
  {
   "cell_type": "code",
   "execution_count": null,
   "id": "1f7cbe4b",
   "metadata": {},
   "outputs": [],
   "source": []
  }
 ],
 "metadata": {
  "kernelspec": {
   "display_name": "Python 3 (ipykernel)",
   "language": "python",
   "name": "python3"
  },
  "language_info": {
   "codemirror_mode": {
    "name": "ipython",
    "version": 3
   },
   "file_extension": ".py",
   "mimetype": "text/x-python",
   "name": "python",
   "nbconvert_exporter": "python",
   "pygments_lexer": "ipython3",
   "version": "3.10.0"
  }
 },
 "nbformat": 4,
 "nbformat_minor": 5
}
