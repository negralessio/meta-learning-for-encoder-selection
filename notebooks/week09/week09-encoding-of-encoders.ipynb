{
 "cells": [
  {
   "cell_type": "markdown",
   "source": [
    "# Import"
   ],
   "metadata": {
    "collapsed": false
   }
  },
  {
   "cell_type": "code",
   "execution_count": 8,
   "outputs": [],
   "source": [
    "import pandas as pd\n",
    "import seaborn as sns\n",
    "import numpy as np\n",
    "import matplotlib.pyplot as plt\n",
    "import networkx as nx\n",
    "from pyvis.network import Network\n",
    "\n",
    "from src.load_datasets import load_dataset, load_rankings\n",
    "from src.encoding import load_graph"
   ],
   "metadata": {
    "collapsed": false,
    "ExecuteTime": {
     "end_time": "2023-06-19T13:36:21.519655Z",
     "start_time": "2023-06-19T13:36:21.503737900Z"
    }
   }
  },
  {
   "cell_type": "code",
   "execution_count": 9,
   "outputs": [],
   "source": [
    "# figure settings\n",
    "%matplotlib inline\n",
    "%config InlineBackend.figure_format = 'retina'\n",
    "\n",
    "sns.set()\n",
    "sns.set_theme(style=\"whitegrid\")\n",
    "#sns.set_palette(palette=\"Set2\")\n",
    "sns.set_palette(palette=\"Paired\")\n",
    "\n",
    "# set seed\n",
    "np.random.seed(7)"
   ],
   "metadata": {
    "collapsed": false,
    "ExecuteTime": {
     "end_time": "2023-06-19T13:36:22.182404900Z",
     "start_time": "2023-06-19T13:36:22.151264700Z"
    }
   }
  },
  {
   "cell_type": "markdown",
   "source": [
    "# Get data"
   ],
   "metadata": {
    "collapsed": false
   }
  },
  {
   "cell_type": "code",
   "execution_count": 10,
   "outputs": [
    {
     "name": "stdout",
     "output_type": "stream",
     "text": [
      "Loading data ...\n",
      "Loading rankings ...\n"
     ]
    }
   ],
   "source": [
    "dataset = load_dataset('../../data/raw/dataset.csv')\n",
    "rankings = load_rankings('../../data/raw/rankings.csv')"
   ],
   "metadata": {
    "collapsed": false,
    "ExecuteTime": {
     "end_time": "2023-06-19T13:36:24.157861700Z",
     "start_time": "2023-06-19T13:36:23.951785600Z"
    }
   }
  },
  {
   "cell_type": "markdown",
   "source": [
    "# Get graph"
   ],
   "metadata": {
    "collapsed": false
   }
  },
  {
   "cell_type": "code",
   "execution_count": 12,
   "outputs": [],
   "source": [
    "# get graph\n",
    "graph = load_graph(\"../../data/raw/graph.adjlist\")"
   ],
   "metadata": {
    "collapsed": false,
    "ExecuteTime": {
     "end_time": "2023-06-19T13:36:34.426307900Z",
     "start_time": "2023-06-19T13:36:34.410563500Z"
    }
   }
  },
  {
   "cell_type": "code",
   "execution_count": null,
   "outputs": [],
   "source": [
    "# visualize the graph\n",
    "# nt = Network('1000px', '1000px')\n",
    "# nt.from_nx(G)\n",
    "# nt.show('encoder_graph.html', notebook=False)  # it will store the html file"
   ],
   "metadata": {
    "collapsed": false
   }
  },
  {
   "cell_type": "markdown",
   "source": [
    "# Pointcarè embedding\n",
    "We want to encode the feature encoder using the [Pointcarè Embedding](https://radimrehurek.com/gensim/models/poincare.html). By doing this we encode the hierarchical structure of the feature encoder and preserve it. The graph with the hierarchical structure is given in [data/raw](../../data/raw), the library networkx is used to load the graph.\n",
    "\n"
   ],
   "metadata": {
    "collapsed": false
   }
  },
  {
   "cell_type": "code",
   "execution_count": null,
   "outputs": [],
   "source": [
    "# embed the graph\n",
    "# n2v = Node2Vec(G, dimensions=2, walk_length=20, num_walks=1000, workers=1, quiet=True)\n",
    "# embedding = n2v.fit().wv.vectors\n",
    "# ...  You can then build an encoder with the embedding\n",
    "# ... If you embed in 2d, you can plot an annotatate scatter plot of the embedding to see if it worked as expected"
   ],
   "metadata": {
    "collapsed": false
   }
  }
 ],
 "metadata": {
  "kernelspec": {
   "display_name": "Python 3",
   "language": "python",
   "name": "python3"
  },
  "language_info": {
   "codemirror_mode": {
    "name": "ipython",
    "version": 2
   },
   "file_extension": ".py",
   "mimetype": "text/x-python",
   "name": "python",
   "nbconvert_exporter": "python",
   "pygments_lexer": "ipython2",
   "version": "2.7.6"
  }
 },
 "nbformat": 4,
 "nbformat_minor": 0
}
