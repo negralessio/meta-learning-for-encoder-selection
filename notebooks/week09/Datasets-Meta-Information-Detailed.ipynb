{
 "cells": [
  {
   "cell_type": "code",
   "execution_count": 1,
   "id": "d17a1b34",
   "metadata": {},
   "outputs": [
    {
     "data": {
      "text/html": [
       "<style>.container { width:95% !important; }</style>"
      ],
      "text/plain": [
       "<IPython.core.display.HTML object>"
      ]
     },
     "metadata": {},
     "output_type": "display_data"
    }
   ],
   "source": [
    "from IPython.display import display, HTML\n",
    "display(HTML(\"<style>.container { width:95% !important; }</style>\"))"
   ]
  },
  {
   "cell_type": "code",
   "execution_count": 2,
   "id": "8c8ff7e2",
   "metadata": {},
   "outputs": [],
   "source": [
    "import openml\n",
    "import os\n",
    "import pandas as pd\n",
    "import math\n",
    "\n",
    "## For loading data\n",
    "from pathlib import Path\n",
    "from typing import Union"
   ]
  },
  {
   "cell_type": "code",
   "execution_count": 3,
   "id": "3e802eb0",
   "metadata": {},
   "outputs": [],
   "source": [
    "# Functions to read data\n",
    "def load_dataset(path: Union[Path, str]) -> pd.DataFrame:\n",
    "    return pd.read_csv(path, index_col=0)\n",
    "\n",
    "\n",
    "def load_rankings(path: Union[Path, str]) -> pd.DataFrame:\n",
    "    out = pd.read_csv(path, index_col=0, header=[0, 1, 2, 3])\n",
    "    out.columns.name = (\"dataset\", \"model\", \"tuning\", \"scoring\")\n",
    "    return out"
   ]
  },
  {
   "cell_type": "code",
   "execution_count": 4,
   "id": "085e1e05",
   "metadata": {},
   "outputs": [],
   "source": [
    "dir_data = '../../data/raw/'\n",
    "\n",
    "# File names\n",
    "filename_dataset = 'dataset.csv'\n",
    "\n",
    "# Create paths for given files\n",
    "filepath_dataset = os.path.join(dir_data, filename_dataset)\n",
    "\n",
    "# Load data\n",
    "dataset = load_dataset(filepath_dataset)"
   ]
  },
  {
   "cell_type": "code",
   "execution_count": 5,
   "id": "86469bed",
   "metadata": {},
   "outputs": [],
   "source": [
    "unique_datasets = dataset.dataset.unique()"
   ]
  },
  {
   "cell_type": "markdown",
   "id": "34d37a51",
   "metadata": {},
   "source": [
    "# Idea explained\n",
    "\n",
    "The basic idea is to generate a bunch of features. \n",
    "The best features will later be selected by a feature selection algorithm like RFECV, MRMR or something else.\n",
    "The starting point is the ```dataset``` feature, which indicates the id of the dataset in [openml.org](https://www.openml.org/). \n",
    "Therefore, the [openml API](https://openml.github.io/openml-python/main/api.html#) is used. \n",
    "\n",
    "The first concept for creating the features is: \n",
    "\n",
    "![image](../../data/dataset_FE.svg)\n",
    "\n",
    "### ToDos\n",
    "[ ] Research and test openMLStudy\n",
    "\n",
    "[ ] Research and test openMLTask\n",
    "\n",
    "[ ] Research and test openMLRun\n",
    "\n",
    "[ ] Research and test openml.datasets.list_qualities"
   ]
  },
  {
   "cell_type": "markdown",
   "id": "bbc7d918",
   "metadata": {},
   "source": [
    "## dataset_agg"
   ]
  },
  {
   "cell_type": "code",
   "execution_count": null,
   "id": "1d988f27",
   "metadata": {},
   "outputs": [],
   "source": [
    "# Init empty lists for feature values\n",
    "list_dataset_id = []\n",
    "list_row_count = []\n",
    "list_column_count = []\n",
    "list_null_value_count = []\n",
    "list_rows_with_null_values = []\n",
    "list_columns_with_null_values = []\n",
    "list_ratio_of_null_values_to_all []\n",
    "list_categorical_features_count = []\n",
    "list_non_categorical_features_count = []\n",
    "list_ratio_of_categorical_features_to_all = []\n",
    "list_sum_of_all_categories = []"
   ]
  },
  {
   "cell_type": "code",
   "execution_count": null,
   "id": "95321951",
   "metadata": {},
   "outputs": [],
   "source": [
    "# Define function for row_count"
   ]
  },
  {
   "cell_type": "code",
   "execution_count": null,
   "id": "e5e4a3d3",
   "metadata": {},
   "outputs": [],
   "source": [
    "# Define function for ..."
   ]
  },
  {
   "cell_type": "code",
   "execution_count": null,
   "id": "a94ca835",
   "metadata": {},
   "outputs": [],
   "source": [
    "# Traverse all unique datasets, call the functions and collect the information\n",
    "for dataset_id in unique_datasets:\n",
    "    print(dataset_id)"
   ]
  },
  {
   "cell_type": "code",
   "execution_count": null,
   "id": "094a301a",
   "metadata": {},
   "outputs": [],
   "source": [
    "# Create a pandas dataframe and save it"
   ]
  }
 ],
 "metadata": {
  "kernelspec": {
   "display_name": "Python 3 (ipykernel)",
   "language": "python",
   "name": "python3"
  },
  "language_info": {
   "codemirror_mode": {
    "name": "ipython",
    "version": 3
   },
   "file_extension": ".py",
   "mimetype": "text/x-python",
   "name": "python",
   "nbconvert_exporter": "python",
   "pygments_lexer": "ipython3",
   "version": "3.10.0"
  }
 },
 "nbformat": 4,
 "nbformat_minor": 5
}
