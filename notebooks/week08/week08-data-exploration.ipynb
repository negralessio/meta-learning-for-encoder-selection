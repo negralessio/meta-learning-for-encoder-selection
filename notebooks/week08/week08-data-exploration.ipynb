{
 "cells": [
  {
   "cell_type": "markdown",
   "source": [
    "# Import"
   ],
   "metadata": {
    "collapsed": false
   }
  },
  {
   "cell_type": "code",
   "execution_count": 1,
   "outputs": [],
   "source": [
    "import pandas as pd\n",
    "from src.load_datasets import load_dataset, load_rankings"
   ],
   "metadata": {
    "collapsed": false,
    "ExecuteTime": {
     "end_time": "2023-06-18T09:43:23.162175500Z",
     "start_time": "2023-06-18T09:43:22.826758500Z"
    }
   }
  },
  {
   "cell_type": "markdown",
   "source": [
    "# Get data"
   ],
   "metadata": {
    "collapsed": false
   }
  },
  {
   "cell_type": "code",
   "execution_count": 2,
   "outputs": [
    {
     "name": "stdout",
     "output_type": "stream",
     "text": [
      "Loading data ...\n",
      "Loading rankings ...\n"
     ]
    }
   ],
   "source": [
    "data = load_dataset('../../data/raw/dataset.csv')\n",
    "rankings = load_rankings('../../data/raw/rankings.csv')"
   ],
   "metadata": {
    "collapsed": false,
    "ExecuteTime": {
     "end_time": "2023-06-18T09:43:23.225208900Z",
     "start_time": "2023-06-18T09:43:23.162175500Z"
    }
   }
  },
  {
   "cell_type": "markdown",
   "source": [
    "### Checkout data\n",
    "* Overview\n",
    "* NaN values\n",
    "* Unique values\n",
    "* Distribution"
   ],
   "metadata": {
    "collapsed": false
   }
  },
  {
   "cell_type": "code",
   "execution_count": 3,
   "outputs": [
    {
     "data": {
      "text/plain": "  encoder  dataset model tuning scoring  cv_score\n0      BE        3   DTC   full     ACC  0.908341\n1      BE        3   DTC   full     AUC  0.906854\n2      BE        3   DTC   full      F1  0.916533\n3      BE        3   DTC  model     ACC  0.967145\n4      BE        3   DTC  model     AUC  0.967233\n5      BE        3   DTC  model      F1  0.968161",
      "text/html": "<div>\n<style scoped>\n    .dataframe tbody tr th:only-of-type {\n        vertical-align: middle;\n    }\n\n    .dataframe tbody tr th {\n        vertical-align: top;\n    }\n\n    .dataframe thead th {\n        text-align: right;\n    }\n</style>\n<table border=\"1\" class=\"dataframe\">\n  <thead>\n    <tr style=\"text-align: right;\">\n      <th></th>\n      <th>encoder</th>\n      <th>dataset</th>\n      <th>model</th>\n      <th>tuning</th>\n      <th>scoring</th>\n      <th>cv_score</th>\n    </tr>\n  </thead>\n  <tbody>\n    <tr>\n      <th>0</th>\n      <td>BE</td>\n      <td>3</td>\n      <td>DTC</td>\n      <td>full</td>\n      <td>ACC</td>\n      <td>0.908341</td>\n    </tr>\n    <tr>\n      <th>1</th>\n      <td>BE</td>\n      <td>3</td>\n      <td>DTC</td>\n      <td>full</td>\n      <td>AUC</td>\n      <td>0.906854</td>\n    </tr>\n    <tr>\n      <th>2</th>\n      <td>BE</td>\n      <td>3</td>\n      <td>DTC</td>\n      <td>full</td>\n      <td>F1</td>\n      <td>0.916533</td>\n    </tr>\n    <tr>\n      <th>3</th>\n      <td>BE</td>\n      <td>3</td>\n      <td>DTC</td>\n      <td>model</td>\n      <td>ACC</td>\n      <td>0.967145</td>\n    </tr>\n    <tr>\n      <th>4</th>\n      <td>BE</td>\n      <td>3</td>\n      <td>DTC</td>\n      <td>model</td>\n      <td>AUC</td>\n      <td>0.967233</td>\n    </tr>\n    <tr>\n      <th>5</th>\n      <td>BE</td>\n      <td>3</td>\n      <td>DTC</td>\n      <td>model</td>\n      <td>F1</td>\n      <td>0.968161</td>\n    </tr>\n  </tbody>\n</table>\n</div>"
     },
     "execution_count": 3,
     "metadata": {},
     "output_type": "execute_result"
    }
   ],
   "source": [
    "data.head(6)"
   ],
   "metadata": {
    "collapsed": false,
    "ExecuteTime": {
     "end_time": "2023-06-18T09:43:23.243010100Z",
     "start_time": "2023-06-18T09:43:23.227135600Z"
    }
   }
  },
  {
   "cell_type": "markdown",
   "source": [
    "Findings: Data consists of the columns, where the first 5 are the features used later on for training.\n",
    "* **encoder**: The encoder used for the training.\n",
    "* **dataset**: The dataset on which it is trained on.\n",
    "* **model**: The model used for the training.\n",
    "* **tuning**: Indicator if and how the model was tuned.\n",
    "* **scoring**: The scoring used for the training.\n",
    "* **cv_score**: The cross validation score of the selected model on a dataset, using an encoder, any kind of tuning and a scoring for the training."
   ],
   "metadata": {
    "collapsed": false
   }
  },
  {
   "cell_type": "code",
   "execution_count": 4,
   "outputs": [
    {
     "name": "stdout",
     "output_type": "stream",
     "text": [
      "Sum of Nan values for each feature: \n",
      " ******************** \n",
      " encoder     0\n",
      "dataset     0\n",
      "model       0\n",
      "tuning      0\n",
      "scoring     0\n",
      "cv_score    0\n",
      "dtype: int64\n"
     ]
    }
   ],
   "source": [
    "print(\"Sum of Nan values for each feature:\", \"\\n\", \"*\"*20, \"\\n\", data.isnull().sum())"
   ],
   "metadata": {
    "collapsed": false,
    "ExecuteTime": {
     "end_time": "2023-06-18T09:43:24.740123600Z",
     "start_time": "2023-06-18T09:43:24.708980400Z"
    }
   }
  },
  {
   "cell_type": "markdown",
   "source": [
    "Findings: There are no NaN values regarding the train features."
   ],
   "metadata": {
    "collapsed": false
   }
  },
  {
   "cell_type": "code",
   "execution_count": 10,
   "outputs": [
    {
     "name": "stdout",
     "output_type": "stream",
     "text": [
      "Encoders (32):  ['BE' 'BUCV10RGLMME' 'BUCV10TE' 'BUCV2RGLMME' 'BUCV2TE' 'BUCV5RGLMME'\n",
      " 'BUCV5TE' 'CBE' 'CE' 'CV10RGLMME' 'CV10TE' 'CV2RGLMME' 'CV2TE'\n",
      " 'CV5RGLMME' 'CV5TE' 'DE' 'DTEM10' 'DTEM2' 'DTEM5' 'ME01E' 'ME10E' 'ME1E'\n",
      " 'MHE' 'OE' 'OHE' 'PBTE0001' 'PBTE001' 'PBTE01' 'RGLMME' 'SE' 'TE' 'WOEE'] \n",
      " ********************\n",
      "Datasets Id:  [    3    29    31    38    50    51    56   333   334   451   470   881\n",
      "   956   959   981  1037  1111  1112  1114  1169  1235  1461  1463  1486\n",
      "  1506  1511  1590  6332 23381 40536 40945 40981 40999 41005 41007 41162\n",
      " 41224 42178 42343 42344 42738 42750 43098 43607 43890 43892 43896 43897\n",
      " 43900 43922] \n",
      " ********************\n",
      "Models:  ['DTC' 'KNC' 'LGBMC' 'LR' 'SVC'] \n",
      " ********************\n",
      "Tuning Info:  ['full' 'model' 'no'] \n",
      " ********************\n",
      "Scoring:  ['ACC' 'AUC' 'F1'] \n",
      " ********************\n"
     ]
    }
   ],
   "source": [
    "print(f\"Encoders ({len(data['encoder'].unique())}): \", \"\\n\", data[\"encoder\"].unique(), \"\\n\", \"*\"*20)\n",
    "print(f\"Datasets Id ({len(data['dataset'].unique())}): \", \"\\n\", data[\"dataset\"].unique(), \"\\n\", \"*\"*20)\n",
    "print(f\"Models ({len(data)}): \", \"\\n\", data[\"model\"].unique(), \"\\n\", \"*\"*20)\n",
    "print(f\"Tuning Info: \", \"\\n\", data[\"tuning\"].unique(), \"\\n\", \"*\"*20)\n",
    "print(f\"Scoring: \", \"\\n\", data[\"scoring\"].unique(), \"\\n\", \"*\"*20)"
   ],
   "metadata": {
    "collapsed": false,
    "ExecuteTime": {
     "end_time": "2023-06-18T09:30:44.309647Z",
     "start_time": "2023-06-18T09:30:44.288555Z"
    }
   }
  },
  {
   "cell_type": "markdown",
   "source": [
    "### Checkout rankings\n",
    "* NaN values\n",
    "* Best and Worst Encoder (via mean of all rankings, min of all rankings, max of all rankings)\n",
    "* Best and Worst Encoder for different feature combinations"
   ],
   "metadata": {
    "collapsed": false
   }
  },
  {
   "cell_type": "code",
   "execution_count": 4,
   "outputs": [
    {
     "data": {
      "text/plain": "                3                                       ... 43922              \\\n              DTC                                  KNC  ...    LR               \n             full        model          no        full  ... model  no           \n              ACC AUC F1   ACC AUC  F1 ACC AUC F1  ACC  ...    F1 ACC AUC  F1   \nencoder                                                 ...                     \nBE              1   1  1    12  12  12   1   1  1   21  ...     7   8   8   6   \nBUCV10RGLMME    1   1  1    14  14  13   1   1  1   16  ...    12  10  10  10   \nBUCV10TE        1   1  1     0   0   0   1   1  1    9  ...    11   9   9   9   \nBUCV2RGLMME     1   1  1    18  18  18   1   1  1   15  ...    18  14  14  14   \nBUCV2TE         1   1  1     6   6   6   1   1  1    8  ...    15  13  13  13   \nBUCV5RGLMME     1   1  1    16  17  16   1   1  1   14  ...    14  12  12  11   \nBUCV5TE         1   1  1     4   4   4   1   1  1    7  ...    13  11  11  12   \nCBE             3   3  4    25  24  25   4   3  4   27  ...     4   5   5   5   \nCE              1   1  1     8   8   8   1   1  1   26  ...     5   2   2   4   \nCV10RGLMME      1   1  1    15  16  15   1   1  1   18  ...    21  22  23  24   \nCV10TE          1   1  1    13  13  14   1   1  1   12  ...    17  21  21  21   \nCV2RGLMME       1   1  1    21  21  21   1   1  1   11  ...    23  24  24  23   \nCV2TE           1   1  1    22  22  22   1   1  1    2  ...    27  20  20  20   \nCV5RGLMME       0   0  0    20  20  20   0   0  0   19  ...    20  19  19  19   \nCV5TE           0   0  0    10  10  10   0   0  0    5  ...    26  18  18  18   \nDE              4   4  3    24  25  24   3   4  3   28  ...    31  30  30  30   \nDTEM10          1   1  1     3   3   3   1   1  1   13  ...     9  16  16  16   \nDTEM2           1   1  1    17  15  17   1   1  1    1  ...     3   6   6   7   \nDTEM5           1   1  1     3   3   3   1   1  1   10  ...    10  15  15  15   \nME01E           1   1  1     3   3   3   1   1  1    6  ...    19  23  22  22   \nME10E           1   1  1     3   3   3   1   1  1    4  ...    28  27  27  27   \nME1E            1   1  1     3   3   3   1   1  1    6  ...    25  26  26  26   \nMHE             1   1  1     2   2   2   1   1  1   24  ...     1   1   1   2   \nOE              1   1  1     9   9   9   1   1  1   23  ...     8   7   7   8   \nOHE             1   1  1     5   5   5   1   1  1   22  ...     2   4   4   3   \nPBTE0001        1   1  1     7   7   7   1   1  1    9  ...    22  17  17  17   \nPBTE001         1   1  1    11  11  11   1   1  1    3  ...    29  28  28  28   \nPBTE01          2   2  2    23  23  23   2   2  2   20  ...    30  29  29  29   \nRGLMME          1   1  1    19  19  19   1   1  1   17  ...    24  25  25  25   \nSE              1   1  1     1   1   1   1   1  1   25  ...     6   3   3   1   \nTE              1   1  1     3   3   3   1   1  1    9  ...    16  23  22  22   \nWOEE            1   1  1     3   3   3   1   1  1    0  ...     0   0   0   0   \n\n                                       \n              SVC                      \n             full          no          \n              ACC AUC  F1 ACC AUC  F1  \nencoder                                \nBE              0   0   4   4   4   4  \nBUCV10RGLMME   14  14  10  21  21  21  \nBUCV10TE       14  14  10  12  12  12  \nBUCV2RGLMME    19  19  19   7   7   8  \nBUCV2TE        21  21  21   8   8   7  \nBUCV5RGLMME    13  13   9  14  15  15  \nBUCV5TE        13  13   9   9   9   9  \nCBE             2   2   0   1   1   0  \nCE             25  24  24   0   0   2  \nCV10RGLMME     20  20  20  23  23  23  \nCV10TE         22  22  22  16  16  16  \nCV2RGLMME      17  17  17  22  22  22  \nCV2TE          22  22  22  16  16  16  \nCV5RGLMME      23  23  23  13  13  13  \nCV5TE          15  15  15  13  13  13  \nDE             24  25  25  26  26  26  \nDTEM10          6   5   3  19  19  19  \nDTEM2           4   3   1  15  14  14  \nDTEM5           5   4   2  19  19  19  \nME01E          15  15  15  18  18  18  \nME10E          10  10  13  24  24  24  \nME1E            9   9  12  19  19  19  \nMHE            24  25  25   6   6   6  \nOE             12  12  11  25  25  25  \nOHE             1   1   5   5   5   5  \nPBTE0001       18  18  18  11  11  11  \nPBTE001        16  16  16  10  10  10  \nPBTE01          8   8   8  10  10  10  \nRGLMME         11  11  14  20  20  20  \nSE              3   6   6   2   2   3  \nTE             15  15  15  17  17  17  \nWOEE            7   7   7   3   3   1  \n\n[32 rows x 1548 columns]",
      "text/html": "<div>\n<style scoped>\n    .dataframe tbody tr th:only-of-type {\n        vertical-align: middle;\n    }\n\n    .dataframe tbody tr th {\n        vertical-align: top;\n    }\n\n    .dataframe thead tr th {\n        text-align: left;\n    }\n\n    .dataframe thead tr:last-of-type th {\n        text-align: right;\n    }\n</style>\n<table border=\"1\" class=\"dataframe\">\n  <thead>\n    <tr>\n      <th></th>\n      <th colspan=\"10\" halign=\"left\">3</th>\n      <th>...</th>\n      <th colspan=\"10\" halign=\"left\">43922</th>\n    </tr>\n    <tr>\n      <th></th>\n      <th colspan=\"9\" halign=\"left\">DTC</th>\n      <th>KNC</th>\n      <th>...</th>\n      <th colspan=\"4\" halign=\"left\">LR</th>\n      <th colspan=\"6\" halign=\"left\">SVC</th>\n    </tr>\n    <tr>\n      <th></th>\n      <th colspan=\"3\" halign=\"left\">full</th>\n      <th colspan=\"3\" halign=\"left\">model</th>\n      <th colspan=\"3\" halign=\"left\">no</th>\n      <th>full</th>\n      <th>...</th>\n      <th>model</th>\n      <th colspan=\"3\" halign=\"left\">no</th>\n      <th colspan=\"3\" halign=\"left\">full</th>\n      <th colspan=\"3\" halign=\"left\">no</th>\n    </tr>\n    <tr>\n      <th></th>\n      <th>ACC</th>\n      <th>AUC</th>\n      <th>F1</th>\n      <th>ACC</th>\n      <th>AUC</th>\n      <th>F1</th>\n      <th>ACC</th>\n      <th>AUC</th>\n      <th>F1</th>\n      <th>ACC</th>\n      <th>...</th>\n      <th>F1</th>\n      <th>ACC</th>\n      <th>AUC</th>\n      <th>F1</th>\n      <th>ACC</th>\n      <th>AUC</th>\n      <th>F1</th>\n      <th>ACC</th>\n      <th>AUC</th>\n      <th>F1</th>\n    </tr>\n    <tr>\n      <th>encoder</th>\n      <th></th>\n      <th></th>\n      <th></th>\n      <th></th>\n      <th></th>\n      <th></th>\n      <th></th>\n      <th></th>\n      <th></th>\n      <th></th>\n      <th></th>\n      <th></th>\n      <th></th>\n      <th></th>\n      <th></th>\n      <th></th>\n      <th></th>\n      <th></th>\n      <th></th>\n      <th></th>\n      <th></th>\n    </tr>\n  </thead>\n  <tbody>\n    <tr>\n      <th>BE</th>\n      <td>1</td>\n      <td>1</td>\n      <td>1</td>\n      <td>12</td>\n      <td>12</td>\n      <td>12</td>\n      <td>1</td>\n      <td>1</td>\n      <td>1</td>\n      <td>21</td>\n      <td>...</td>\n      <td>7</td>\n      <td>8</td>\n      <td>8</td>\n      <td>6</td>\n      <td>0</td>\n      <td>0</td>\n      <td>4</td>\n      <td>4</td>\n      <td>4</td>\n      <td>4</td>\n    </tr>\n    <tr>\n      <th>BUCV10RGLMME</th>\n      <td>1</td>\n      <td>1</td>\n      <td>1</td>\n      <td>14</td>\n      <td>14</td>\n      <td>13</td>\n      <td>1</td>\n      <td>1</td>\n      <td>1</td>\n      <td>16</td>\n      <td>...</td>\n      <td>12</td>\n      <td>10</td>\n      <td>10</td>\n      <td>10</td>\n      <td>14</td>\n      <td>14</td>\n      <td>10</td>\n      <td>21</td>\n      <td>21</td>\n      <td>21</td>\n    </tr>\n    <tr>\n      <th>BUCV10TE</th>\n      <td>1</td>\n      <td>1</td>\n      <td>1</td>\n      <td>0</td>\n      <td>0</td>\n      <td>0</td>\n      <td>1</td>\n      <td>1</td>\n      <td>1</td>\n      <td>9</td>\n      <td>...</td>\n      <td>11</td>\n      <td>9</td>\n      <td>9</td>\n      <td>9</td>\n      <td>14</td>\n      <td>14</td>\n      <td>10</td>\n      <td>12</td>\n      <td>12</td>\n      <td>12</td>\n    </tr>\n    <tr>\n      <th>BUCV2RGLMME</th>\n      <td>1</td>\n      <td>1</td>\n      <td>1</td>\n      <td>18</td>\n      <td>18</td>\n      <td>18</td>\n      <td>1</td>\n      <td>1</td>\n      <td>1</td>\n      <td>15</td>\n      <td>...</td>\n      <td>18</td>\n      <td>14</td>\n      <td>14</td>\n      <td>14</td>\n      <td>19</td>\n      <td>19</td>\n      <td>19</td>\n      <td>7</td>\n      <td>7</td>\n      <td>8</td>\n    </tr>\n    <tr>\n      <th>BUCV2TE</th>\n      <td>1</td>\n      <td>1</td>\n      <td>1</td>\n      <td>6</td>\n      <td>6</td>\n      <td>6</td>\n      <td>1</td>\n      <td>1</td>\n      <td>1</td>\n      <td>8</td>\n      <td>...</td>\n      <td>15</td>\n      <td>13</td>\n      <td>13</td>\n      <td>13</td>\n      <td>21</td>\n      <td>21</td>\n      <td>21</td>\n      <td>8</td>\n      <td>8</td>\n      <td>7</td>\n    </tr>\n    <tr>\n      <th>BUCV5RGLMME</th>\n      <td>1</td>\n      <td>1</td>\n      <td>1</td>\n      <td>16</td>\n      <td>17</td>\n      <td>16</td>\n      <td>1</td>\n      <td>1</td>\n      <td>1</td>\n      <td>14</td>\n      <td>...</td>\n      <td>14</td>\n      <td>12</td>\n      <td>12</td>\n      <td>11</td>\n      <td>13</td>\n      <td>13</td>\n      <td>9</td>\n      <td>14</td>\n      <td>15</td>\n      <td>15</td>\n    </tr>\n    <tr>\n      <th>BUCV5TE</th>\n      <td>1</td>\n      <td>1</td>\n      <td>1</td>\n      <td>4</td>\n      <td>4</td>\n      <td>4</td>\n      <td>1</td>\n      <td>1</td>\n      <td>1</td>\n      <td>7</td>\n      <td>...</td>\n      <td>13</td>\n      <td>11</td>\n      <td>11</td>\n      <td>12</td>\n      <td>13</td>\n      <td>13</td>\n      <td>9</td>\n      <td>9</td>\n      <td>9</td>\n      <td>9</td>\n    </tr>\n    <tr>\n      <th>CBE</th>\n      <td>3</td>\n      <td>3</td>\n      <td>4</td>\n      <td>25</td>\n      <td>24</td>\n      <td>25</td>\n      <td>4</td>\n      <td>3</td>\n      <td>4</td>\n      <td>27</td>\n      <td>...</td>\n      <td>4</td>\n      <td>5</td>\n      <td>5</td>\n      <td>5</td>\n      <td>2</td>\n      <td>2</td>\n      <td>0</td>\n      <td>1</td>\n      <td>1</td>\n      <td>0</td>\n    </tr>\n    <tr>\n      <th>CE</th>\n      <td>1</td>\n      <td>1</td>\n      <td>1</td>\n      <td>8</td>\n      <td>8</td>\n      <td>8</td>\n      <td>1</td>\n      <td>1</td>\n      <td>1</td>\n      <td>26</td>\n      <td>...</td>\n      <td>5</td>\n      <td>2</td>\n      <td>2</td>\n      <td>4</td>\n      <td>25</td>\n      <td>24</td>\n      <td>24</td>\n      <td>0</td>\n      <td>0</td>\n      <td>2</td>\n    </tr>\n    <tr>\n      <th>CV10RGLMME</th>\n      <td>1</td>\n      <td>1</td>\n      <td>1</td>\n      <td>15</td>\n      <td>16</td>\n      <td>15</td>\n      <td>1</td>\n      <td>1</td>\n      <td>1</td>\n      <td>18</td>\n      <td>...</td>\n      <td>21</td>\n      <td>22</td>\n      <td>23</td>\n      <td>24</td>\n      <td>20</td>\n      <td>20</td>\n      <td>20</td>\n      <td>23</td>\n      <td>23</td>\n      <td>23</td>\n    </tr>\n    <tr>\n      <th>CV10TE</th>\n      <td>1</td>\n      <td>1</td>\n      <td>1</td>\n      <td>13</td>\n      <td>13</td>\n      <td>14</td>\n      <td>1</td>\n      <td>1</td>\n      <td>1</td>\n      <td>12</td>\n      <td>...</td>\n      <td>17</td>\n      <td>21</td>\n      <td>21</td>\n      <td>21</td>\n      <td>22</td>\n      <td>22</td>\n      <td>22</td>\n      <td>16</td>\n      <td>16</td>\n      <td>16</td>\n    </tr>\n    <tr>\n      <th>CV2RGLMME</th>\n      <td>1</td>\n      <td>1</td>\n      <td>1</td>\n      <td>21</td>\n      <td>21</td>\n      <td>21</td>\n      <td>1</td>\n      <td>1</td>\n      <td>1</td>\n      <td>11</td>\n      <td>...</td>\n      <td>23</td>\n      <td>24</td>\n      <td>24</td>\n      <td>23</td>\n      <td>17</td>\n      <td>17</td>\n      <td>17</td>\n      <td>22</td>\n      <td>22</td>\n      <td>22</td>\n    </tr>\n    <tr>\n      <th>CV2TE</th>\n      <td>1</td>\n      <td>1</td>\n      <td>1</td>\n      <td>22</td>\n      <td>22</td>\n      <td>22</td>\n      <td>1</td>\n      <td>1</td>\n      <td>1</td>\n      <td>2</td>\n      <td>...</td>\n      <td>27</td>\n      <td>20</td>\n      <td>20</td>\n      <td>20</td>\n      <td>22</td>\n      <td>22</td>\n      <td>22</td>\n      <td>16</td>\n      <td>16</td>\n      <td>16</td>\n    </tr>\n    <tr>\n      <th>CV5RGLMME</th>\n      <td>0</td>\n      <td>0</td>\n      <td>0</td>\n      <td>20</td>\n      <td>20</td>\n      <td>20</td>\n      <td>0</td>\n      <td>0</td>\n      <td>0</td>\n      <td>19</td>\n      <td>...</td>\n      <td>20</td>\n      <td>19</td>\n      <td>19</td>\n      <td>19</td>\n      <td>23</td>\n      <td>23</td>\n      <td>23</td>\n      <td>13</td>\n      <td>13</td>\n      <td>13</td>\n    </tr>\n    <tr>\n      <th>CV5TE</th>\n      <td>0</td>\n      <td>0</td>\n      <td>0</td>\n      <td>10</td>\n      <td>10</td>\n      <td>10</td>\n      <td>0</td>\n      <td>0</td>\n      <td>0</td>\n      <td>5</td>\n      <td>...</td>\n      <td>26</td>\n      <td>18</td>\n      <td>18</td>\n      <td>18</td>\n      <td>15</td>\n      <td>15</td>\n      <td>15</td>\n      <td>13</td>\n      <td>13</td>\n      <td>13</td>\n    </tr>\n    <tr>\n      <th>DE</th>\n      <td>4</td>\n      <td>4</td>\n      <td>3</td>\n      <td>24</td>\n      <td>25</td>\n      <td>24</td>\n      <td>3</td>\n      <td>4</td>\n      <td>3</td>\n      <td>28</td>\n      <td>...</td>\n      <td>31</td>\n      <td>30</td>\n      <td>30</td>\n      <td>30</td>\n      <td>24</td>\n      <td>25</td>\n      <td>25</td>\n      <td>26</td>\n      <td>26</td>\n      <td>26</td>\n    </tr>\n    <tr>\n      <th>DTEM10</th>\n      <td>1</td>\n      <td>1</td>\n      <td>1</td>\n      <td>3</td>\n      <td>3</td>\n      <td>3</td>\n      <td>1</td>\n      <td>1</td>\n      <td>1</td>\n      <td>13</td>\n      <td>...</td>\n      <td>9</td>\n      <td>16</td>\n      <td>16</td>\n      <td>16</td>\n      <td>6</td>\n      <td>5</td>\n      <td>3</td>\n      <td>19</td>\n      <td>19</td>\n      <td>19</td>\n    </tr>\n    <tr>\n      <th>DTEM2</th>\n      <td>1</td>\n      <td>1</td>\n      <td>1</td>\n      <td>17</td>\n      <td>15</td>\n      <td>17</td>\n      <td>1</td>\n      <td>1</td>\n      <td>1</td>\n      <td>1</td>\n      <td>...</td>\n      <td>3</td>\n      <td>6</td>\n      <td>6</td>\n      <td>7</td>\n      <td>4</td>\n      <td>3</td>\n      <td>1</td>\n      <td>15</td>\n      <td>14</td>\n      <td>14</td>\n    </tr>\n    <tr>\n      <th>DTEM5</th>\n      <td>1</td>\n      <td>1</td>\n      <td>1</td>\n      <td>3</td>\n      <td>3</td>\n      <td>3</td>\n      <td>1</td>\n      <td>1</td>\n      <td>1</td>\n      <td>10</td>\n      <td>...</td>\n      <td>10</td>\n      <td>15</td>\n      <td>15</td>\n      <td>15</td>\n      <td>5</td>\n      <td>4</td>\n      <td>2</td>\n      <td>19</td>\n      <td>19</td>\n      <td>19</td>\n    </tr>\n    <tr>\n      <th>ME01E</th>\n      <td>1</td>\n      <td>1</td>\n      <td>1</td>\n      <td>3</td>\n      <td>3</td>\n      <td>3</td>\n      <td>1</td>\n      <td>1</td>\n      <td>1</td>\n      <td>6</td>\n      <td>...</td>\n      <td>19</td>\n      <td>23</td>\n      <td>22</td>\n      <td>22</td>\n      <td>15</td>\n      <td>15</td>\n      <td>15</td>\n      <td>18</td>\n      <td>18</td>\n      <td>18</td>\n    </tr>\n    <tr>\n      <th>ME10E</th>\n      <td>1</td>\n      <td>1</td>\n      <td>1</td>\n      <td>3</td>\n      <td>3</td>\n      <td>3</td>\n      <td>1</td>\n      <td>1</td>\n      <td>1</td>\n      <td>4</td>\n      <td>...</td>\n      <td>28</td>\n      <td>27</td>\n      <td>27</td>\n      <td>27</td>\n      <td>10</td>\n      <td>10</td>\n      <td>13</td>\n      <td>24</td>\n      <td>24</td>\n      <td>24</td>\n    </tr>\n    <tr>\n      <th>ME1E</th>\n      <td>1</td>\n      <td>1</td>\n      <td>1</td>\n      <td>3</td>\n      <td>3</td>\n      <td>3</td>\n      <td>1</td>\n      <td>1</td>\n      <td>1</td>\n      <td>6</td>\n      <td>...</td>\n      <td>25</td>\n      <td>26</td>\n      <td>26</td>\n      <td>26</td>\n      <td>9</td>\n      <td>9</td>\n      <td>12</td>\n      <td>19</td>\n      <td>19</td>\n      <td>19</td>\n    </tr>\n    <tr>\n      <th>MHE</th>\n      <td>1</td>\n      <td>1</td>\n      <td>1</td>\n      <td>2</td>\n      <td>2</td>\n      <td>2</td>\n      <td>1</td>\n      <td>1</td>\n      <td>1</td>\n      <td>24</td>\n      <td>...</td>\n      <td>1</td>\n      <td>1</td>\n      <td>1</td>\n      <td>2</td>\n      <td>24</td>\n      <td>25</td>\n      <td>25</td>\n      <td>6</td>\n      <td>6</td>\n      <td>6</td>\n    </tr>\n    <tr>\n      <th>OE</th>\n      <td>1</td>\n      <td>1</td>\n      <td>1</td>\n      <td>9</td>\n      <td>9</td>\n      <td>9</td>\n      <td>1</td>\n      <td>1</td>\n      <td>1</td>\n      <td>23</td>\n      <td>...</td>\n      <td>8</td>\n      <td>7</td>\n      <td>7</td>\n      <td>8</td>\n      <td>12</td>\n      <td>12</td>\n      <td>11</td>\n      <td>25</td>\n      <td>25</td>\n      <td>25</td>\n    </tr>\n    <tr>\n      <th>OHE</th>\n      <td>1</td>\n      <td>1</td>\n      <td>1</td>\n      <td>5</td>\n      <td>5</td>\n      <td>5</td>\n      <td>1</td>\n      <td>1</td>\n      <td>1</td>\n      <td>22</td>\n      <td>...</td>\n      <td>2</td>\n      <td>4</td>\n      <td>4</td>\n      <td>3</td>\n      <td>1</td>\n      <td>1</td>\n      <td>5</td>\n      <td>5</td>\n      <td>5</td>\n      <td>5</td>\n    </tr>\n    <tr>\n      <th>PBTE0001</th>\n      <td>1</td>\n      <td>1</td>\n      <td>1</td>\n      <td>7</td>\n      <td>7</td>\n      <td>7</td>\n      <td>1</td>\n      <td>1</td>\n      <td>1</td>\n      <td>9</td>\n      <td>...</td>\n      <td>22</td>\n      <td>17</td>\n      <td>17</td>\n      <td>17</td>\n      <td>18</td>\n      <td>18</td>\n      <td>18</td>\n      <td>11</td>\n      <td>11</td>\n      <td>11</td>\n    </tr>\n    <tr>\n      <th>PBTE001</th>\n      <td>1</td>\n      <td>1</td>\n      <td>1</td>\n      <td>11</td>\n      <td>11</td>\n      <td>11</td>\n      <td>1</td>\n      <td>1</td>\n      <td>1</td>\n      <td>3</td>\n      <td>...</td>\n      <td>29</td>\n      <td>28</td>\n      <td>28</td>\n      <td>28</td>\n      <td>16</td>\n      <td>16</td>\n      <td>16</td>\n      <td>10</td>\n      <td>10</td>\n      <td>10</td>\n    </tr>\n    <tr>\n      <th>PBTE01</th>\n      <td>2</td>\n      <td>2</td>\n      <td>2</td>\n      <td>23</td>\n      <td>23</td>\n      <td>23</td>\n      <td>2</td>\n      <td>2</td>\n      <td>2</td>\n      <td>20</td>\n      <td>...</td>\n      <td>30</td>\n      <td>29</td>\n      <td>29</td>\n      <td>29</td>\n      <td>8</td>\n      <td>8</td>\n      <td>8</td>\n      <td>10</td>\n      <td>10</td>\n      <td>10</td>\n    </tr>\n    <tr>\n      <th>RGLMME</th>\n      <td>1</td>\n      <td>1</td>\n      <td>1</td>\n      <td>19</td>\n      <td>19</td>\n      <td>19</td>\n      <td>1</td>\n      <td>1</td>\n      <td>1</td>\n      <td>17</td>\n      <td>...</td>\n      <td>24</td>\n      <td>25</td>\n      <td>25</td>\n      <td>25</td>\n      <td>11</td>\n      <td>11</td>\n      <td>14</td>\n      <td>20</td>\n      <td>20</td>\n      <td>20</td>\n    </tr>\n    <tr>\n      <th>SE</th>\n      <td>1</td>\n      <td>1</td>\n      <td>1</td>\n      <td>1</td>\n      <td>1</td>\n      <td>1</td>\n      <td>1</td>\n      <td>1</td>\n      <td>1</td>\n      <td>25</td>\n      <td>...</td>\n      <td>6</td>\n      <td>3</td>\n      <td>3</td>\n      <td>1</td>\n      <td>3</td>\n      <td>6</td>\n      <td>6</td>\n      <td>2</td>\n      <td>2</td>\n      <td>3</td>\n    </tr>\n    <tr>\n      <th>TE</th>\n      <td>1</td>\n      <td>1</td>\n      <td>1</td>\n      <td>3</td>\n      <td>3</td>\n      <td>3</td>\n      <td>1</td>\n      <td>1</td>\n      <td>1</td>\n      <td>9</td>\n      <td>...</td>\n      <td>16</td>\n      <td>23</td>\n      <td>22</td>\n      <td>22</td>\n      <td>15</td>\n      <td>15</td>\n      <td>15</td>\n      <td>17</td>\n      <td>17</td>\n      <td>17</td>\n    </tr>\n    <tr>\n      <th>WOEE</th>\n      <td>1</td>\n      <td>1</td>\n      <td>1</td>\n      <td>3</td>\n      <td>3</td>\n      <td>3</td>\n      <td>1</td>\n      <td>1</td>\n      <td>1</td>\n      <td>0</td>\n      <td>...</td>\n      <td>0</td>\n      <td>0</td>\n      <td>0</td>\n      <td>0</td>\n      <td>7</td>\n      <td>7</td>\n      <td>7</td>\n      <td>3</td>\n      <td>3</td>\n      <td>1</td>\n    </tr>\n  </tbody>\n</table>\n<p>32 rows × 1548 columns</p>\n</div>"
     },
     "execution_count": 4,
     "metadata": {},
     "output_type": "execute_result"
    }
   ],
   "source": [
    "rankings"
   ],
   "metadata": {
    "collapsed": false,
    "ExecuteTime": {
     "end_time": "2023-06-12T13:55:57.214637100Z",
     "start_time": "2023-06-12T13:55:57.198980100Z"
    }
   }
  },
  {
   "cell_type": "code",
   "execution_count": null,
   "outputs": [],
   "source": [],
   "metadata": {
    "collapsed": false
   }
  }
 ],
 "metadata": {
  "kernelspec": {
   "display_name": "Python 3",
   "language": "python",
   "name": "python3"
  },
  "language_info": {
   "codemirror_mode": {
    "name": "ipython",
    "version": 2
   },
   "file_extension": ".py",
   "mimetype": "text/x-python",
   "name": "python",
   "nbconvert_exporter": "python",
   "pygments_lexer": "ipython2",
   "version": "2.7.6"
  }
 },
 "nbformat": 4,
 "nbformat_minor": 0
}
