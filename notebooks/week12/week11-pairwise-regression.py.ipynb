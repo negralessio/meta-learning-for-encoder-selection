{
 "cells": [
  {
   "cell_type": "markdown",
   "source": [
    "# Imports"
   ],
   "metadata": {
    "collapsed": false
   }
  },
  {
   "cell_type": "code",
   "execution_count": 22,
   "outputs": [],
   "source": [
    "import numpy as np\n",
    "import pandas as pd\n",
    "import matplotlib.pyplot as plt\n",
    "import seaborn as sns\n",
    "\n",
    "from sklearn.preprocessing import OneHotEncoder\n",
    "\n",
    "import src.load_datasets as ld\n",
    "import src.pairwise_utils as pu\n",
    "from src.encoding import poincare_encoding, ohe_encode_train_data\n",
    "from src.meta_information import add_dataset_meta_information"
   ],
   "metadata": {
    "collapsed": false,
    "ExecuteTime": {
     "end_time": "2023-07-10T14:27:54.274671700Z",
     "start_time": "2023-07-10T14:27:54.258818100Z"
    }
   }
  },
  {
   "cell_type": "code",
   "execution_count": 23,
   "outputs": [],
   "source": [
    "# settings\n",
    "%matplotlib inline\n",
    "%config InlineBackend.figure_format = 'retina'\n",
    "\n",
    "sns.set_style(\"whitegrid\")\n",
    "sns.set_palette(\"Set2\")\n",
    "\n",
    "np.random.seed(42)"
   ],
   "metadata": {
    "collapsed": false,
    "ExecuteTime": {
     "end_time": "2023-07-10T14:27:55.036986Z",
     "start_time": "2023-07-10T14:27:54.992643600Z"
    }
   }
  },
  {
   "cell_type": "markdown",
   "source": [
    "# Import data"
   ],
   "metadata": {
    "collapsed": false
   }
  },
  {
   "cell_type": "code",
   "execution_count": 39,
   "outputs": [
    {
     "name": "stdout",
     "output_type": "stream",
     "text": [
      "Loading data from '../../data/raw/dataset_rank_train.csv' ...\n"
     ]
    }
   ],
   "source": [
    "DATA_DIR = \"../../data/raw/\"\n",
    "\n",
    "FACTORS = [\"dataset\", \"model\", \"tuning\", \"scoring\"]\n",
    "NEW_INDEX = \"encoder\"\n",
    "\n",
    "df_train = ld.load_dataset(DATA_DIR + \"dataset_rank_train.csv\")\n",
    "#df_test = ld.load_dataset(DATA_DIR + \"dataset_rank_test.csv\")  # as usual, replace it with your own validation set\n",
    "\n",
    "X_train = df_train[FACTORS + [\"encoder\"]].groupby(FACTORS).agg(lambda x: np.nan).reset_index()[FACTORS]\n",
    "#X_test = df_test[FACTORS + [\"encoder\"]].groupby(FACTORS).agg(lambda x: np.nan).reset_index()[FACTORS]\n",
    "\n",
    "# join to ensure X_train and y_train's indices are ordered the same\n",
    "y_train = pd.merge(X_train,\n",
    "                   pu.get_pairwise_target(df_train, features=FACTORS, target=\"rank\", column_to_compare=\"encoder\"),\n",
    "                   on=FACTORS, how=\"left\").drop(FACTORS, axis=1).fillna(0)"
   ],
   "metadata": {
    "collapsed": false,
    "ExecuteTime": {
     "end_time": "2023-07-10T14:35:54.683785400Z",
     "start_time": "2023-07-10T14:35:43.004911200Z"
    }
   }
  },
  {
   "cell_type": "code",
   "execution_count": 46,
   "outputs": [
    {
     "data": {
      "text/plain": "   dataset model tuning scoring\n0        3   DTC   full     ACC\n1        3   DTC   full     AUC\n2        3   DTC   full      F1\n3        3   DTC  model     AUC\n4        3   DTC  model      F1",
      "text/html": "<div>\n<style scoped>\n    .dataframe tbody tr th:only-of-type {\n        vertical-align: middle;\n    }\n\n    .dataframe tbody tr th {\n        vertical-align: top;\n    }\n\n    .dataframe thead th {\n        text-align: right;\n    }\n</style>\n<table border=\"1\" class=\"dataframe\">\n  <thead>\n    <tr style=\"text-align: right;\">\n      <th></th>\n      <th>dataset</th>\n      <th>model</th>\n      <th>tuning</th>\n      <th>scoring</th>\n    </tr>\n  </thead>\n  <tbody>\n    <tr>\n      <th>0</th>\n      <td>3</td>\n      <td>DTC</td>\n      <td>full</td>\n      <td>ACC</td>\n    </tr>\n    <tr>\n      <th>1</th>\n      <td>3</td>\n      <td>DTC</td>\n      <td>full</td>\n      <td>AUC</td>\n    </tr>\n    <tr>\n      <th>2</th>\n      <td>3</td>\n      <td>DTC</td>\n      <td>full</td>\n      <td>F1</td>\n    </tr>\n    <tr>\n      <th>3</th>\n      <td>3</td>\n      <td>DTC</td>\n      <td>model</td>\n      <td>AUC</td>\n    </tr>\n    <tr>\n      <th>4</th>\n      <td>3</td>\n      <td>DTC</td>\n      <td>model</td>\n      <td>F1</td>\n    </tr>\n  </tbody>\n</table>\n</div>"
     },
     "execution_count": 46,
     "metadata": {},
     "output_type": "execute_result"
    }
   ],
   "source": [
    "X_train.head()"
   ],
   "metadata": {
    "collapsed": false,
    "ExecuteTime": {
     "end_time": "2023-07-10T14:44:51.765228300Z",
     "start_time": "2023-07-10T14:44:51.717618Z"
    }
   }
  },
  {
   "cell_type": "code",
   "execution_count": 42,
   "outputs": [
    {
     "name": "stdout",
     "output_type": "stream",
     "text": [
      "<class 'pandas.core.frame.DataFrame'>\n",
      "RangeIndex: 36054 entries, 0 to 36053\n",
      "Data columns (total 7 columns):\n",
      " #   Column    Non-Null Count  Dtype  \n",
      "---  ------    --------------  -----  \n",
      " 0   dataset   36054 non-null  int64  \n",
      " 1   model     36054 non-null  object \n",
      " 2   tuning    36054 non-null  object \n",
      " 3   scoring   36054 non-null  object \n",
      " 4   encoder   36054 non-null  object \n",
      " 5   cv_score  36054 non-null  float64\n",
      " 6   rank      36054 non-null  float64\n",
      "dtypes: float64(2), int64(1), object(4)\n",
      "memory usage: 1.9+ MB\n"
     ]
    }
   ],
   "source": [
    "print(\"Shape of X_train \", X_train.shape)\n",
    "print(\"Shape of y_train \", y_train.shape)"
   ],
   "metadata": {
    "collapsed": false,
    "ExecuteTime": {
     "end_time": "2023-07-10T14:37:06.612897800Z",
     "start_time": "2023-07-10T14:37:06.577120Z"
    }
   }
  },
  {
   "cell_type": "markdown",
   "source": [
    "# Baseline\n",
    "Run model with baseline data (no preprocessing)."
   ],
   "metadata": {
    "collapsed": false
   }
  },
  {
   "cell_type": "code",
   "execution_count": 44,
   "outputs": [],
   "source": [
    "# Preprocess data - baseline (one-hot encoding)\n",
    "scaler = OneHotEncoder()\n",
    "X_train_baseline = scaler.fit_transform(X_train)"
   ],
   "metadata": {
    "collapsed": false,
    "ExecuteTime": {
     "end_time": "2023-07-10T14:37:40.855798600Z",
     "start_time": "2023-07-10T14:37:40.840709900Z"
    }
   }
  },
  {
   "cell_type": "code",
   "execution_count": 26,
   "outputs": [],
   "source": [
    "# Run model"
   ],
   "metadata": {
    "collapsed": false,
    "ExecuteTime": {
     "end_time": "2023-07-10T14:28:11.079721200Z",
     "start_time": "2023-07-10T14:28:11.032801300Z"
    }
   }
  },
  {
   "cell_type": "markdown",
   "source": [
    "# Model with Preprocessed Data\n",
    "Run model with preprocess data (full preprocessed pipeline)."
   ],
   "metadata": {
    "collapsed": false
   }
  },
  {
   "cell_type": "code",
   "execution_count": 27,
   "outputs": [],
   "source": [
    "X_train_preprocessed = X_train.copy()"
   ],
   "metadata": {
    "collapsed": false,
    "ExecuteTime": {
     "end_time": "2023-07-10T14:28:11.079721200Z",
     "start_time": "2023-07-10T14:28:11.064229500Z"
    }
   }
  },
  {
   "cell_type": "code",
   "execution_count": 28,
   "outputs": [
    {
     "name": "stdout",
     "output_type": "stream",
     "text": [
      "<class 'pandas.core.frame.DataFrame'>\n",
      "RangeIndex: 1161 entries, 0 to 1160\n",
      "Data columns (total 4 columns):\n",
      " #   Column   Non-Null Count  Dtype \n",
      "---  ------   --------------  ----- \n",
      " 0   dataset  1161 non-null   int64 \n",
      " 1   model    1161 non-null   object\n",
      " 2   tuning   1161 non-null   object\n",
      " 3   scoring  1161 non-null   object\n",
      "dtypes: int64(1), object(3)\n",
      "memory usage: 36.4+ KB\n"
     ]
    }
   ],
   "source": [
    "X_train.info()"
   ],
   "metadata": {
    "collapsed": false,
    "ExecuteTime": {
     "end_time": "2023-07-10T14:28:28.324233500Z",
     "start_time": "2023-07-10T14:28:28.308070300Z"
    }
   }
  },
  {
   "cell_type": "code",
   "execution_count": 19,
   "outputs": [
    {
     "name": "stdout",
     "output_type": "stream",
     "text": [
      "One Hot Encoding the features ['model', 'tuning', 'scoring'] of the train data ...\n"
     ]
    }
   ],
   "source": [
    "# General encodings: One Hot Encode (OHE) subset of features ([\"model\", \"tuning\", \"scoring\"])\n",
    "X_train_preprocessed, ohe = ohe_encode_train_data(X_train=X_train,\n",
    "                                                  cols_to_encode=[\"model\", \"tuning\", \"scoring\"],\n",
    "                                                  verbosity=2)"
   ],
   "metadata": {
    "collapsed": false,
    "ExecuteTime": {
     "end_time": "2023-07-10T14:19:09.298097300Z",
     "start_time": "2023-07-10T14:19:09.281239200Z"
    }
   }
  },
  {
   "cell_type": "code",
   "execution_count": null,
   "outputs": [],
   "source": [
    "# Add dataset_agg (= csv-file containing meta information about the datasets)\n",
    "# The file can be created with the notebook from week 09\n",
    "X_train = add_dataset_meta_information(df=X_train_preprocessed,\n",
    "                                       path_to_meta_df=\"../../data/preprocessed/dataset_agg.csv\",\n",
    "                                       nan_threshold=0.5,\n",
    "                                       replacing_strategy=\"median\")"
   ],
   "metadata": {
    "collapsed": false
   }
  },
  {
   "cell_type": "code",
   "execution_count": null,
   "outputs": [],
   "source": [
    "# add drop of correlated features"
   ],
   "metadata": {
    "collapsed": false
   }
  },
  {
   "cell_type": "code",
   "execution_count": null,
   "outputs": [],
   "source": [
    "# add feature selection"
   ],
   "metadata": {
    "collapsed": false
   }
  },
  {
   "cell_type": "code",
   "execution_count": null,
   "outputs": [],
   "source": [
    "# normalize"
   ],
   "metadata": {
    "collapsed": false
   }
  }
 ],
 "metadata": {
  "kernelspec": {
   "display_name": "Python 3",
   "language": "python",
   "name": "python3"
  },
  "language_info": {
   "codemirror_mode": {
    "name": "ipython",
    "version": 2
   },
   "file_extension": ".py",
   "mimetype": "text/x-python",
   "name": "python",
   "nbconvert_exporter": "python",
   "pygments_lexer": "ipython2",
   "version": "2.7.6"
  }
 },
 "nbformat": 4,
 "nbformat_minor": 0
}
