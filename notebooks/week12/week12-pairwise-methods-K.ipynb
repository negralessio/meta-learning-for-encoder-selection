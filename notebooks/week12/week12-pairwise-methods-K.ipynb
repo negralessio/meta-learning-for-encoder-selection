{
 "cells": [
  {
   "cell_type": "code",
   "execution_count": 1,
   "id": "dd78f586",
   "metadata": {},
   "outputs": [
    {
     "data": {
      "text/html": [
       "<style>.container { width:95% !important; }</style>"
      ],
      "text/plain": [
       "<IPython.core.display.HTML object>"
      ]
     },
     "metadata": {},
     "output_type": "display_data"
    }
   ],
   "source": [
    "from IPython.display import display, HTML\n",
    "display(HTML(\"<style>.container { width:95% !important; }</style>\"))"
   ]
  },
  {
   "cell_type": "code",
   "execution_count": 2,
   "id": "ae1bd9c2",
   "metadata": {},
   "outputs": [],
   "source": [
    "import os\n",
    "import pandas as pd\n",
    "import numpy as np\n",
    "import math\n",
    "\n",
    "import sys\n",
    "sys.path.append(\"../..\")\n",
    "from src.load_datasets import load_dataset, load_rankings, load_train_data\n",
    "import src.evaluate_regression\n",
    "\n",
    "# From example\n",
    "import src.encoder_utils as eu\n",
    "import src.evaluate_regression as er\n",
    "import src.load_datasets as ld\n",
    "import src.pairwise_utils as pu\n",
    "\n",
    "from category_encoders import OneHotEncoder\n",
    "from pathlib import Path\n",
    "from sklearn.metrics import f1_score\n",
    "from sklearn.tree import DecisionTreeClassifier\n",
    "from sklearn.pipeline import Pipeline\n",
    "from sklearn.preprocessing import MinMaxScaler\n",
    "\n",
    "# Classifiers\n",
    "from sklearn.ensemble import RandomForestClassifier, ExtraTreesClassifier\n",
    "from sklearn.tree import DecisionTreeClassifier, ExtraTreeClassifier"
   ]
  },
  {
   "cell_type": "markdown",
   "id": "a74e6b37",
   "metadata": {},
   "source": [
    "# Example\n",
    "\n",
    "- With CV\n",
    "- Without preprocessing"
   ]
  },
  {
   "cell_type": "code",
   "execution_count": 3,
   "id": "23bc3d7d",
   "metadata": {},
   "outputs": [],
   "source": [
    "# Define variables for ranking\n",
    "factors = [\"dataset\", \"model\", \"tuning\", \"scoring\"]\n",
    "new_index = \"encoder\"\n",
    "target = \"rank\""
   ]
  },
  {
   "cell_type": "code",
   "execution_count": 4,
   "id": "13b0aed5",
   "metadata": {
    "scrolled": true
   },
   "outputs": [
    {
     "name": "stdout",
     "output_type": "stream",
     "text": [
      "Loading data from '../../data/raw/dataset_rank_train.csv' ...\n"
     ]
    }
   ],
   "source": [
    "df_train = load_dataset(\"../../data/raw/dataset_rank_train.csv\")\n",
    "\n",
    "if \"cv_score\" in df_train.columns:\n",
    "    df_train = df_train.drop(\"cv_score\", axis=1)\n",
    "\n",
    "X_train = df_train.drop(target, axis=1)\n",
    "y_train = df_train[target]"
   ]
  },
  {
   "cell_type": "code",
   "execution_count": 5,
   "id": "0861d1f9",
   "metadata": {},
   "outputs": [
    {
     "name": "stdout",
     "output_type": "stream",
     "text": [
      "(1161, 4)\n"
     ]
    },
    {
     "data": {
      "text/html": [
       "<div>\n",
       "<style scoped>\n",
       "    .dataframe tbody tr th:only-of-type {\n",
       "        vertical-align: middle;\n",
       "    }\n",
       "\n",
       "    .dataframe tbody tr th {\n",
       "        vertical-align: top;\n",
       "    }\n",
       "\n",
       "    .dataframe thead th {\n",
       "        text-align: right;\n",
       "    }\n",
       "</style>\n",
       "<table border=\"1\" class=\"dataframe\">\n",
       "  <thead>\n",
       "    <tr style=\"text-align: right;\">\n",
       "      <th></th>\n",
       "      <th>dataset</th>\n",
       "      <th>model</th>\n",
       "      <th>tuning</th>\n",
       "      <th>scoring</th>\n",
       "    </tr>\n",
       "  </thead>\n",
       "  <tbody>\n",
       "    <tr>\n",
       "      <th>0</th>\n",
       "      <td>3</td>\n",
       "      <td>DTC</td>\n",
       "      <td>full</td>\n",
       "      <td>ACC</td>\n",
       "    </tr>\n",
       "    <tr>\n",
       "      <th>1</th>\n",
       "      <td>3</td>\n",
       "      <td>DTC</td>\n",
       "      <td>full</td>\n",
       "      <td>AUC</td>\n",
       "    </tr>\n",
       "    <tr>\n",
       "      <th>2</th>\n",
       "      <td>3</td>\n",
       "      <td>DTC</td>\n",
       "      <td>full</td>\n",
       "      <td>F1</td>\n",
       "    </tr>\n",
       "    <tr>\n",
       "      <th>3</th>\n",
       "      <td>3</td>\n",
       "      <td>DTC</td>\n",
       "      <td>model</td>\n",
       "      <td>AUC</td>\n",
       "    </tr>\n",
       "    <tr>\n",
       "      <th>4</th>\n",
       "      <td>3</td>\n",
       "      <td>DTC</td>\n",
       "      <td>model</td>\n",
       "      <td>F1</td>\n",
       "    </tr>\n",
       "  </tbody>\n",
       "</table>\n",
       "</div>"
      ],
      "text/plain": [
       "   dataset model tuning scoring\n",
       "0        3   DTC   full     ACC\n",
       "1        3   DTC   full     AUC\n",
       "2        3   DTC   full      F1\n",
       "3        3   DTC  model     AUC\n",
       "4        3   DTC  model      F1"
      ]
     },
     "execution_count": 5,
     "metadata": {},
     "output_type": "execute_result"
    }
   ],
   "source": [
    "# For pairwise methods: \n",
    "X_train = df_train[factors + [\"encoder\"]].groupby(factors).agg(lambda x: np.nan).reset_index()[factors]\n",
    "print(X_train.shape)\n",
    "X_train.head()"
   ]
  },
  {
   "cell_type": "code",
   "execution_count": 6,
   "id": "43022e04",
   "metadata": {},
   "outputs": [
    {
     "name": "stdout",
     "output_type": "stream",
     "text": [
      "(1161, 992)\n"
     ]
    },
    {
     "data": {
      "text/html": [
       "<div>\n",
       "<style scoped>\n",
       "    .dataframe tbody tr th:only-of-type {\n",
       "        vertical-align: middle;\n",
       "    }\n",
       "\n",
       "    .dataframe tbody tr th {\n",
       "        vertical-align: top;\n",
       "    }\n",
       "\n",
       "    .dataframe thead th {\n",
       "        text-align: right;\n",
       "    }\n",
       "</style>\n",
       "<table border=\"1\" class=\"dataframe\">\n",
       "  <thead>\n",
       "    <tr style=\"text-align: right;\">\n",
       "      <th></th>\n",
       "      <th>(BUCV2RGLMME, BUCV2TE)</th>\n",
       "      <th>(BUCV2TE, BUCV2RGLMME)</th>\n",
       "      <th>(BUCV2RGLMME, CBE)</th>\n",
       "      <th>(CBE, BUCV2RGLMME)</th>\n",
       "      <th>(BUCV2RGLMME, CE)</th>\n",
       "      <th>(CE, BUCV2RGLMME)</th>\n",
       "      <th>(BUCV2RGLMME, CV10RGLMME)</th>\n",
       "      <th>(CV10RGLMME, BUCV2RGLMME)</th>\n",
       "      <th>(BUCV2RGLMME, CV10TE)</th>\n",
       "      <th>(CV10TE, BUCV2RGLMME)</th>\n",
       "      <th>...</th>\n",
       "      <th>(OHE, TE)</th>\n",
       "      <th>(TE, OHE)</th>\n",
       "      <th>(OHE, WOEE)</th>\n",
       "      <th>(WOEE, OHE)</th>\n",
       "      <th>(OHE, SE)</th>\n",
       "      <th>(SE, OHE)</th>\n",
       "      <th>(SE, TE)</th>\n",
       "      <th>(TE, SE)</th>\n",
       "      <th>(SE, WOEE)</th>\n",
       "      <th>(WOEE, SE)</th>\n",
       "    </tr>\n",
       "  </thead>\n",
       "  <tbody>\n",
       "    <tr>\n",
       "      <th>0</th>\n",
       "      <td>0.0</td>\n",
       "      <td>0.0</td>\n",
       "      <td>1.0</td>\n",
       "      <td>0.0</td>\n",
       "      <td>0.0</td>\n",
       "      <td>0.0</td>\n",
       "      <td>0.0</td>\n",
       "      <td>0.0</td>\n",
       "      <td>0.0</td>\n",
       "      <td>0.0</td>\n",
       "      <td>...</td>\n",
       "      <td>0.0</td>\n",
       "      <td>0.0</td>\n",
       "      <td>0.0</td>\n",
       "      <td>0.0</td>\n",
       "      <td>0.0</td>\n",
       "      <td>0.0</td>\n",
       "      <td>0.0</td>\n",
       "      <td>0.0</td>\n",
       "      <td>0.0</td>\n",
       "      <td>0.0</td>\n",
       "    </tr>\n",
       "    <tr>\n",
       "      <th>1</th>\n",
       "      <td>0.0</td>\n",
       "      <td>0.0</td>\n",
       "      <td>1.0</td>\n",
       "      <td>0.0</td>\n",
       "      <td>0.0</td>\n",
       "      <td>0.0</td>\n",
       "      <td>0.0</td>\n",
       "      <td>0.0</td>\n",
       "      <td>0.0</td>\n",
       "      <td>0.0</td>\n",
       "      <td>...</td>\n",
       "      <td>0.0</td>\n",
       "      <td>0.0</td>\n",
       "      <td>0.0</td>\n",
       "      <td>0.0</td>\n",
       "      <td>0.0</td>\n",
       "      <td>0.0</td>\n",
       "      <td>0.0</td>\n",
       "      <td>0.0</td>\n",
       "      <td>0.0</td>\n",
       "      <td>0.0</td>\n",
       "    </tr>\n",
       "    <tr>\n",
       "      <th>2</th>\n",
       "      <td>0.0</td>\n",
       "      <td>0.0</td>\n",
       "      <td>1.0</td>\n",
       "      <td>0.0</td>\n",
       "      <td>0.0</td>\n",
       "      <td>0.0</td>\n",
       "      <td>0.0</td>\n",
       "      <td>0.0</td>\n",
       "      <td>0.0</td>\n",
       "      <td>0.0</td>\n",
       "      <td>...</td>\n",
       "      <td>0.0</td>\n",
       "      <td>0.0</td>\n",
       "      <td>0.0</td>\n",
       "      <td>0.0</td>\n",
       "      <td>0.0</td>\n",
       "      <td>0.0</td>\n",
       "      <td>0.0</td>\n",
       "      <td>0.0</td>\n",
       "      <td>0.0</td>\n",
       "      <td>0.0</td>\n",
       "    </tr>\n",
       "    <tr>\n",
       "      <th>3</th>\n",
       "      <td>0.0</td>\n",
       "      <td>1.0</td>\n",
       "      <td>1.0</td>\n",
       "      <td>0.0</td>\n",
       "      <td>0.0</td>\n",
       "      <td>1.0</td>\n",
       "      <td>0.0</td>\n",
       "      <td>1.0</td>\n",
       "      <td>0.0</td>\n",
       "      <td>1.0</td>\n",
       "      <td>...</td>\n",
       "      <td>0.0</td>\n",
       "      <td>1.0</td>\n",
       "      <td>0.0</td>\n",
       "      <td>1.0</td>\n",
       "      <td>0.0</td>\n",
       "      <td>1.0</td>\n",
       "      <td>1.0</td>\n",
       "      <td>0.0</td>\n",
       "      <td>1.0</td>\n",
       "      <td>0.0</td>\n",
       "    </tr>\n",
       "    <tr>\n",
       "      <th>4</th>\n",
       "      <td>0.0</td>\n",
       "      <td>1.0</td>\n",
       "      <td>1.0</td>\n",
       "      <td>0.0</td>\n",
       "      <td>0.0</td>\n",
       "      <td>1.0</td>\n",
       "      <td>0.0</td>\n",
       "      <td>1.0</td>\n",
       "      <td>0.0</td>\n",
       "      <td>1.0</td>\n",
       "      <td>...</td>\n",
       "      <td>0.0</td>\n",
       "      <td>1.0</td>\n",
       "      <td>0.0</td>\n",
       "      <td>1.0</td>\n",
       "      <td>0.0</td>\n",
       "      <td>1.0</td>\n",
       "      <td>1.0</td>\n",
       "      <td>0.0</td>\n",
       "      <td>1.0</td>\n",
       "      <td>0.0</td>\n",
       "    </tr>\n",
       "  </tbody>\n",
       "</table>\n",
       "<p>5 rows × 992 columns</p>\n",
       "</div>"
      ],
      "text/plain": [
       "   (BUCV2RGLMME, BUCV2TE)  (BUCV2TE, BUCV2RGLMME)  (BUCV2RGLMME, CBE)  \\\n",
       "0                     0.0                     0.0                 1.0   \n",
       "1                     0.0                     0.0                 1.0   \n",
       "2                     0.0                     0.0                 1.0   \n",
       "3                     0.0                     1.0                 1.0   \n",
       "4                     0.0                     1.0                 1.0   \n",
       "\n",
       "   (CBE, BUCV2RGLMME)  (BUCV2RGLMME, CE)  (CE, BUCV2RGLMME)  \\\n",
       "0                 0.0                0.0                0.0   \n",
       "1                 0.0                0.0                0.0   \n",
       "2                 0.0                0.0                0.0   \n",
       "3                 0.0                0.0                1.0   \n",
       "4                 0.0                0.0                1.0   \n",
       "\n",
       "   (BUCV2RGLMME, CV10RGLMME)  (CV10RGLMME, BUCV2RGLMME)  \\\n",
       "0                        0.0                        0.0   \n",
       "1                        0.0                        0.0   \n",
       "2                        0.0                        0.0   \n",
       "3                        0.0                        1.0   \n",
       "4                        0.0                        1.0   \n",
       "\n",
       "   (BUCV2RGLMME, CV10TE)  (CV10TE, BUCV2RGLMME)  ...  (OHE, TE)  (TE, OHE)  \\\n",
       "0                    0.0                    0.0  ...        0.0        0.0   \n",
       "1                    0.0                    0.0  ...        0.0        0.0   \n",
       "2                    0.0                    0.0  ...        0.0        0.0   \n",
       "3                    0.0                    1.0  ...        0.0        1.0   \n",
       "4                    0.0                    1.0  ...        0.0        1.0   \n",
       "\n",
       "   (OHE, WOEE)  (WOEE, OHE)  (OHE, SE)  (SE, OHE)  (SE, TE)  (TE, SE)  \\\n",
       "0          0.0          0.0        0.0        0.0       0.0       0.0   \n",
       "1          0.0          0.0        0.0        0.0       0.0       0.0   \n",
       "2          0.0          0.0        0.0        0.0       0.0       0.0   \n",
       "3          0.0          1.0        0.0        1.0       1.0       0.0   \n",
       "4          0.0          1.0        0.0        1.0       1.0       0.0   \n",
       "\n",
       "   (SE, WOEE)  (WOEE, SE)  \n",
       "0         0.0         0.0  \n",
       "1         0.0         0.0  \n",
       "2         0.0         0.0  \n",
       "3         1.0         0.0  \n",
       "4         1.0         0.0  \n",
       "\n",
       "[5 rows x 992 columns]"
      ]
     },
     "execution_count": 6,
     "metadata": {},
     "output_type": "execute_result"
    }
   ],
   "source": [
    "y_train = pd.merge(X_train,\n",
    "                   pu.get_pairwise_target(df_train, features=factors, target=\"rank\", column_to_compare=\"encoder\"),\n",
    "                   on=factors, how=\"left\").drop(factors, axis=1).fillna(0)\n",
    "print(y_train.shape)\n",
    "y_train.head()"
   ]
  },
  {
   "cell_type": "code",
   "execution_count": 7,
   "id": "bc5beaa8",
   "metadata": {},
   "outputs": [],
   "source": [
    "target = list(y_train.columns)\n",
    "cv_indices = src.evaluate_regression.custom_cross_validated_indices(pd.concat([X_train, y_train], axis=1), \n",
    "                                                                    factors, \n",
    "                                                                    target,  #target \n",
    "                                                                    n_splits=5, \n",
    "                                                                    shuffle=True, \n",
    "                                                                    random_state=1444)"
   ]
  },
  {
   "cell_type": "code",
   "execution_count": 8,
   "id": "d4c2d592",
   "metadata": {},
   "outputs": [
    {
     "name": "stdout",
     "output_type": "stream",
     "text": [
      "0.7303527078715193\n",
      "0.764568338388426\n",
      "0.7072889052019953\n",
      "0.7655881493418606\n",
      "0.7204404002609067\n"
     ]
    }
   ],
   "source": [
    "for fold in cv_indices:\n",
    "    X_tr = X_train.iloc[fold[0]]\n",
    "    X_te = X_train.iloc[fold[1]]\n",
    "    y_tr = y_train.iloc[fold[0]]\n",
    "    y_te = y_train.iloc[fold[1]]\n",
    "    \n",
    "    dummy_pipe = Pipeline([(\"encoder\", eu.NoY(OneHotEncoder())), (\"model\", DecisionTreeClassifier())])\n",
    "    y_pred = pd.DataFrame(dummy_pipe.fit(X_tr, y_tr).predict(X_te), columns=y_tr.columns, index=X_te.index)\n",
    "    # In contrast to the example use df_train\n",
    "    # It should do the same, since a inner join is used and the other part consists of X_te\n",
    "    tmp = pu.join_pairwise2rankings(X_te, y_pred, factors)\n",
    "    df_pred = pd.merge(df_train,\n",
    "                       tmp,\n",
    "                       on=factors + [\"encoder\"], how=\"inner\")\n",
    "    \n",
    "    rankings_test = er.get_rankings(df_pred, factors=factors, new_index=new_index, target=\"rank\")\n",
    "    rankings_pred = er.get_rankings(df_pred, factors=factors, new_index=new_index, target=\"rank_pred\")\n",
    "    print(er.average_spearman(rankings_test, rankings_pred))"
   ]
  },
  {
   "cell_type": "markdown",
   "id": "78e29671",
   "metadata": {},
   "source": [
    "# Example\n",
    " \n",
    "- With CV\n",
    "- With preprocessing"
   ]
  },
  {
   "cell_type": "code",
   "execution_count": 9,
   "id": "66e1ba04",
   "metadata": {},
   "outputs": [],
   "source": [
    "# Define variables for ranking\n",
    "factors = [\"dataset\", \"model\", \"tuning\", \"scoring\"]\n",
    "new_index = \"encoder\"\n",
    "target = \"rank\""
   ]
  },
  {
   "cell_type": "code",
   "execution_count": 10,
   "id": "b269e0c9",
   "metadata": {},
   "outputs": [
    {
     "name": "stdout",
     "output_type": "stream",
     "text": [
      "Loading data from '../../data/raw/dataset_rank_train.csv' ...\n"
     ]
    }
   ],
   "source": [
    "df_train = load_dataset(\"../../data/raw/dataset_rank_train.csv\")\n",
    "\n",
    "if \"cv_score\" in df_train.columns:\n",
    "    df_train = df_train.drop(\"cv_score\", axis=1)\n",
    "\n",
    "X_train = df_train.drop(target, axis=1)\n",
    "y_train = df_train[target]"
   ]
  },
  {
   "cell_type": "code",
   "execution_count": 11,
   "id": "18eb399b",
   "metadata": {},
   "outputs": [
    {
     "name": "stdout",
     "output_type": "stream",
     "text": [
      "(1161, 4)\n"
     ]
    },
    {
     "data": {
      "text/html": [
       "<div>\n",
       "<style scoped>\n",
       "    .dataframe tbody tr th:only-of-type {\n",
       "        vertical-align: middle;\n",
       "    }\n",
       "\n",
       "    .dataframe tbody tr th {\n",
       "        vertical-align: top;\n",
       "    }\n",
       "\n",
       "    .dataframe thead th {\n",
       "        text-align: right;\n",
       "    }\n",
       "</style>\n",
       "<table border=\"1\" class=\"dataframe\">\n",
       "  <thead>\n",
       "    <tr style=\"text-align: right;\">\n",
       "      <th></th>\n",
       "      <th>dataset</th>\n",
       "      <th>model</th>\n",
       "      <th>tuning</th>\n",
       "      <th>scoring</th>\n",
       "    </tr>\n",
       "  </thead>\n",
       "  <tbody>\n",
       "    <tr>\n",
       "      <th>0</th>\n",
       "      <td>3</td>\n",
       "      <td>DTC</td>\n",
       "      <td>full</td>\n",
       "      <td>ACC</td>\n",
       "    </tr>\n",
       "    <tr>\n",
       "      <th>1</th>\n",
       "      <td>3</td>\n",
       "      <td>DTC</td>\n",
       "      <td>full</td>\n",
       "      <td>AUC</td>\n",
       "    </tr>\n",
       "    <tr>\n",
       "      <th>2</th>\n",
       "      <td>3</td>\n",
       "      <td>DTC</td>\n",
       "      <td>full</td>\n",
       "      <td>F1</td>\n",
       "    </tr>\n",
       "    <tr>\n",
       "      <th>3</th>\n",
       "      <td>3</td>\n",
       "      <td>DTC</td>\n",
       "      <td>model</td>\n",
       "      <td>AUC</td>\n",
       "    </tr>\n",
       "    <tr>\n",
       "      <th>4</th>\n",
       "      <td>3</td>\n",
       "      <td>DTC</td>\n",
       "      <td>model</td>\n",
       "      <td>F1</td>\n",
       "    </tr>\n",
       "  </tbody>\n",
       "</table>\n",
       "</div>"
      ],
      "text/plain": [
       "   dataset model tuning scoring\n",
       "0        3   DTC   full     ACC\n",
       "1        3   DTC   full     AUC\n",
       "2        3   DTC   full      F1\n",
       "3        3   DTC  model     AUC\n",
       "4        3   DTC  model      F1"
      ]
     },
     "execution_count": 11,
     "metadata": {},
     "output_type": "execute_result"
    }
   ],
   "source": [
    "# For pairwise methods: \n",
    "X_train = df_train[factors + [\"encoder\"]].groupby(factors).agg(lambda x: np.nan).reset_index()[factors]\n",
    "print(X_train.shape)\n",
    "X_train.head()"
   ]
  },
  {
   "cell_type": "code",
   "execution_count": 12,
   "id": "851ab308",
   "metadata": {},
   "outputs": [
    {
     "name": "stdout",
     "output_type": "stream",
     "text": [
      "(1161, 992)\n"
     ]
    },
    {
     "data": {
      "text/html": [
       "<div>\n",
       "<style scoped>\n",
       "    .dataframe tbody tr th:only-of-type {\n",
       "        vertical-align: middle;\n",
       "    }\n",
       "\n",
       "    .dataframe tbody tr th {\n",
       "        vertical-align: top;\n",
       "    }\n",
       "\n",
       "    .dataframe thead th {\n",
       "        text-align: right;\n",
       "    }\n",
       "</style>\n",
       "<table border=\"1\" class=\"dataframe\">\n",
       "  <thead>\n",
       "    <tr style=\"text-align: right;\">\n",
       "      <th></th>\n",
       "      <th>(BUCV2RGLMME, BUCV2TE)</th>\n",
       "      <th>(BUCV2TE, BUCV2RGLMME)</th>\n",
       "      <th>(BUCV2RGLMME, CBE)</th>\n",
       "      <th>(CBE, BUCV2RGLMME)</th>\n",
       "      <th>(BUCV2RGLMME, CE)</th>\n",
       "      <th>(CE, BUCV2RGLMME)</th>\n",
       "      <th>(BUCV2RGLMME, CV10RGLMME)</th>\n",
       "      <th>(CV10RGLMME, BUCV2RGLMME)</th>\n",
       "      <th>(BUCV2RGLMME, CV10TE)</th>\n",
       "      <th>(CV10TE, BUCV2RGLMME)</th>\n",
       "      <th>...</th>\n",
       "      <th>(OHE, TE)</th>\n",
       "      <th>(TE, OHE)</th>\n",
       "      <th>(OHE, WOEE)</th>\n",
       "      <th>(WOEE, OHE)</th>\n",
       "      <th>(OHE, SE)</th>\n",
       "      <th>(SE, OHE)</th>\n",
       "      <th>(SE, TE)</th>\n",
       "      <th>(TE, SE)</th>\n",
       "      <th>(SE, WOEE)</th>\n",
       "      <th>(WOEE, SE)</th>\n",
       "    </tr>\n",
       "  </thead>\n",
       "  <tbody>\n",
       "    <tr>\n",
       "      <th>0</th>\n",
       "      <td>0.0</td>\n",
       "      <td>0.0</td>\n",
       "      <td>1.0</td>\n",
       "      <td>0.0</td>\n",
       "      <td>0.0</td>\n",
       "      <td>0.0</td>\n",
       "      <td>0.0</td>\n",
       "      <td>0.0</td>\n",
       "      <td>0.0</td>\n",
       "      <td>0.0</td>\n",
       "      <td>...</td>\n",
       "      <td>0.0</td>\n",
       "      <td>0.0</td>\n",
       "      <td>0.0</td>\n",
       "      <td>0.0</td>\n",
       "      <td>0.0</td>\n",
       "      <td>0.0</td>\n",
       "      <td>0.0</td>\n",
       "      <td>0.0</td>\n",
       "      <td>0.0</td>\n",
       "      <td>0.0</td>\n",
       "    </tr>\n",
       "    <tr>\n",
       "      <th>1</th>\n",
       "      <td>0.0</td>\n",
       "      <td>0.0</td>\n",
       "      <td>1.0</td>\n",
       "      <td>0.0</td>\n",
       "      <td>0.0</td>\n",
       "      <td>0.0</td>\n",
       "      <td>0.0</td>\n",
       "      <td>0.0</td>\n",
       "      <td>0.0</td>\n",
       "      <td>0.0</td>\n",
       "      <td>...</td>\n",
       "      <td>0.0</td>\n",
       "      <td>0.0</td>\n",
       "      <td>0.0</td>\n",
       "      <td>0.0</td>\n",
       "      <td>0.0</td>\n",
       "      <td>0.0</td>\n",
       "      <td>0.0</td>\n",
       "      <td>0.0</td>\n",
       "      <td>0.0</td>\n",
       "      <td>0.0</td>\n",
       "    </tr>\n",
       "    <tr>\n",
       "      <th>2</th>\n",
       "      <td>0.0</td>\n",
       "      <td>0.0</td>\n",
       "      <td>1.0</td>\n",
       "      <td>0.0</td>\n",
       "      <td>0.0</td>\n",
       "      <td>0.0</td>\n",
       "      <td>0.0</td>\n",
       "      <td>0.0</td>\n",
       "      <td>0.0</td>\n",
       "      <td>0.0</td>\n",
       "      <td>...</td>\n",
       "      <td>0.0</td>\n",
       "      <td>0.0</td>\n",
       "      <td>0.0</td>\n",
       "      <td>0.0</td>\n",
       "      <td>0.0</td>\n",
       "      <td>0.0</td>\n",
       "      <td>0.0</td>\n",
       "      <td>0.0</td>\n",
       "      <td>0.0</td>\n",
       "      <td>0.0</td>\n",
       "    </tr>\n",
       "    <tr>\n",
       "      <th>3</th>\n",
       "      <td>0.0</td>\n",
       "      <td>1.0</td>\n",
       "      <td>1.0</td>\n",
       "      <td>0.0</td>\n",
       "      <td>0.0</td>\n",
       "      <td>1.0</td>\n",
       "      <td>0.0</td>\n",
       "      <td>1.0</td>\n",
       "      <td>0.0</td>\n",
       "      <td>1.0</td>\n",
       "      <td>...</td>\n",
       "      <td>0.0</td>\n",
       "      <td>1.0</td>\n",
       "      <td>0.0</td>\n",
       "      <td>1.0</td>\n",
       "      <td>0.0</td>\n",
       "      <td>1.0</td>\n",
       "      <td>1.0</td>\n",
       "      <td>0.0</td>\n",
       "      <td>1.0</td>\n",
       "      <td>0.0</td>\n",
       "    </tr>\n",
       "    <tr>\n",
       "      <th>4</th>\n",
       "      <td>0.0</td>\n",
       "      <td>1.0</td>\n",
       "      <td>1.0</td>\n",
       "      <td>0.0</td>\n",
       "      <td>0.0</td>\n",
       "      <td>1.0</td>\n",
       "      <td>0.0</td>\n",
       "      <td>1.0</td>\n",
       "      <td>0.0</td>\n",
       "      <td>1.0</td>\n",
       "      <td>...</td>\n",
       "      <td>0.0</td>\n",
       "      <td>1.0</td>\n",
       "      <td>0.0</td>\n",
       "      <td>1.0</td>\n",
       "      <td>0.0</td>\n",
       "      <td>1.0</td>\n",
       "      <td>1.0</td>\n",
       "      <td>0.0</td>\n",
       "      <td>1.0</td>\n",
       "      <td>0.0</td>\n",
       "    </tr>\n",
       "  </tbody>\n",
       "</table>\n",
       "<p>5 rows × 992 columns</p>\n",
       "</div>"
      ],
      "text/plain": [
       "   (BUCV2RGLMME, BUCV2TE)  (BUCV2TE, BUCV2RGLMME)  (BUCV2RGLMME, CBE)  \\\n",
       "0                     0.0                     0.0                 1.0   \n",
       "1                     0.0                     0.0                 1.0   \n",
       "2                     0.0                     0.0                 1.0   \n",
       "3                     0.0                     1.0                 1.0   \n",
       "4                     0.0                     1.0                 1.0   \n",
       "\n",
       "   (CBE, BUCV2RGLMME)  (BUCV2RGLMME, CE)  (CE, BUCV2RGLMME)  \\\n",
       "0                 0.0                0.0                0.0   \n",
       "1                 0.0                0.0                0.0   \n",
       "2                 0.0                0.0                0.0   \n",
       "3                 0.0                0.0                1.0   \n",
       "4                 0.0                0.0                1.0   \n",
       "\n",
       "   (BUCV2RGLMME, CV10RGLMME)  (CV10RGLMME, BUCV2RGLMME)  \\\n",
       "0                        0.0                        0.0   \n",
       "1                        0.0                        0.0   \n",
       "2                        0.0                        0.0   \n",
       "3                        0.0                        1.0   \n",
       "4                        0.0                        1.0   \n",
       "\n",
       "   (BUCV2RGLMME, CV10TE)  (CV10TE, BUCV2RGLMME)  ...  (OHE, TE)  (TE, OHE)  \\\n",
       "0                    0.0                    0.0  ...        0.0        0.0   \n",
       "1                    0.0                    0.0  ...        0.0        0.0   \n",
       "2                    0.0                    0.0  ...        0.0        0.0   \n",
       "3                    0.0                    1.0  ...        0.0        1.0   \n",
       "4                    0.0                    1.0  ...        0.0        1.0   \n",
       "\n",
       "   (OHE, WOEE)  (WOEE, OHE)  (OHE, SE)  (SE, OHE)  (SE, TE)  (TE, SE)  \\\n",
       "0          0.0          0.0        0.0        0.0       0.0       0.0   \n",
       "1          0.0          0.0        0.0        0.0       0.0       0.0   \n",
       "2          0.0          0.0        0.0        0.0       0.0       0.0   \n",
       "3          0.0          1.0        0.0        1.0       1.0       0.0   \n",
       "4          0.0          1.0        0.0        1.0       1.0       0.0   \n",
       "\n",
       "   (SE, WOEE)  (WOEE, SE)  \n",
       "0         0.0         0.0  \n",
       "1         0.0         0.0  \n",
       "2         0.0         0.0  \n",
       "3         1.0         0.0  \n",
       "4         1.0         0.0  \n",
       "\n",
       "[5 rows x 992 columns]"
      ]
     },
     "execution_count": 12,
     "metadata": {},
     "output_type": "execute_result"
    }
   ],
   "source": [
    "y_train = pd.merge(X_train,\n",
    "                   pu.get_pairwise_target(df_train, features=factors, target=\"rank\", column_to_compare=\"encoder\"),\n",
    "                   on=factors, how=\"left\").drop(factors, axis=1).fillna(0)\n",
    "print(y_train.shape)\n",
    "y_train.head()"
   ]
  },
  {
   "cell_type": "markdown",
   "id": "0b99bf26",
   "metadata": {},
   "source": [
    "### Preprocessing\n",
    "\n",
    "- Do not preprocess (embed) the encoder features (because it is not present in this task)"
   ]
  },
  {
   "cell_type": "code",
   "execution_count": 13,
   "id": "fd53324e",
   "metadata": {},
   "outputs": [],
   "source": [
    "import src.encoding\n",
    "from src.feature_engineering import normalize_train_data, normalize_test_data\n",
    "from src.meta_information import add_dataset_meta_information\n",
    "from src.data_cleaning import drop_pearson_correlated_features"
   ]
  },
  {
   "cell_type": "code",
   "execution_count": 14,
   "id": "df008d29",
   "metadata": {},
   "outputs": [
    {
     "name": "stdout",
     "output_type": "stream",
     "text": [
      "Index(['dataset', 'model', 'tuning', 'scoring', 'encoder', 'rank'], dtype='object')\n"
     ]
    }
   ],
   "source": [
    "base_df = df_train.copy()\n",
    "print(base_df.columns)"
   ]
  },
  {
   "cell_type": "code",
   "execution_count": 15,
   "id": "704dc071",
   "metadata": {},
   "outputs": [
    {
     "name": "stdout",
     "output_type": "stream",
     "text": [
      "One Hot Encoding the features ['model', 'tuning', 'scoring'] of the train data ...\n"
     ]
    }
   ],
   "source": [
    "# OHE encoding \n",
    "X_train, ohe = src.encoding.ohe_encode_train_data(X_train=X_train,\n",
    "                                                  cols_to_encode=[\"model\", \"tuning\", \"scoring\"],\n",
    "                                                  verbosity=2)"
   ]
  },
  {
   "cell_type": "code",
   "execution_count": 16,
   "id": "2aab03ea",
   "metadata": {},
   "outputs": [
    {
     "name": "stdout",
     "output_type": "stream",
     "text": [
      "One Hot Encoding the features ['model', 'tuning', 'scoring'] of the test data ...\n"
     ]
    }
   ],
   "source": [
    "base_df_mod = src.encoding.ohe_encode_test_data(X_test=base_df,\n",
    "                                                cols_to_encode=[\"model\", \"tuning\", \"scoring\"],\n",
    "                                                ohe=ohe, \n",
    "                                                verbosity=2)"
   ]
  },
  {
   "cell_type": "code",
   "execution_count": 17,
   "id": "a7308a99",
   "metadata": {},
   "outputs": [],
   "source": [
    "X_train = add_dataset_meta_information(df=X_train,\n",
    "                                       path_to_meta_df=\"../../data/preprocessed/dataset_agg.csv\",\n",
    "                                       nan_threshold=0.5,\n",
    "                                       replacing_strategy=\"median\")"
   ]
  },
  {
   "cell_type": "code",
   "execution_count": 18,
   "id": "e6ca0341",
   "metadata": {},
   "outputs": [],
   "source": [
    "#cols = list(base_df_mod.columns)\n",
    "#X_train, scaler = normalize_train_data(X_train=X_train[cols], \n",
    "#                                       method=\"minmax\",\n",
    "#                                       verbosity=2)"
   ]
  },
  {
   "cell_type": "code",
   "execution_count": 19,
   "id": "6e035799",
   "metadata": {},
   "outputs": [],
   "source": [
    "#x_test_scaled = scaler.transform(base_df_mod)\n",
    "## Transform back to pandas DataFrame\n",
    "#base_df_mod_scaled = pd.DataFrame(x_test_scaled, columns=base_df_mod.columns, index=base_df_mod.index)\n",
    "#base_df_mod_scaled.head()"
   ]
  },
  {
   "cell_type": "code",
   "execution_count": 20,
   "id": "92df816c",
   "metadata": {},
   "outputs": [],
   "source": [
    "#base_df_mod_scaled.head()"
   ]
  },
  {
   "cell_type": "code",
   "execution_count": 21,
   "id": "f41b417f",
   "metadata": {},
   "outputs": [
    {
     "name": "stdout",
     "output_type": "stream",
     "text": [
      "Drop pearson correlated features with threshold 0.7...\n",
      "Filter correlated features\n"
     ]
    }
   ],
   "source": [
    "X_train, _ = drop_pearson_correlated_features(train_data=X_train, \n",
    "                                              test_data=X_train, \n",
    "                                              threshold=0.7, \n",
    "                                              verbosity=2)"
   ]
  },
  {
   "cell_type": "code",
   "execution_count": 22,
   "id": "f9c68d78",
   "metadata": {},
   "outputs": [
    {
     "name": "stdout",
     "output_type": "stream",
     "text": [
      "['dataset', 'model_DTC', 'model_KNC', 'model_LGBMC', 'model_LR', 'model_SVC', 'tuning_full', 'tuning_model', 'tuning_no', 'scoring_ACC', 'scoring_AUC', 'scoring_F1', 'Quartile1KurtosisOfNumericAtts', 'J48.001.ErrRate', 'Dimensionality', 'Quartile2MutualInformation', 'MinSkewnessOfNumericAtts', 'Quartile2AttributeEntropy', 'MinorityClassSize', 'MajorityClassPercentage', 'Quartile2StdDevOfNumericAtts', 'NumberOfBinaryFeatures', 'Quartile1MutualInformation', 'Quartile1MeansOfNumericAtts', 'MaxMutualInformation', 'AutoCorrelation', 'PercentageOfBinaryFeatures', 'MinKurtosisOfNumericAtts', 'DecisionStumpErrRate', 'PercentageOfNumericFeatures', 'NumberOfSymbolicFeatures', 'MinMutualInformation', 'PercentageOfInstancesWithMissingValues', 'MinNominalAttDistinctValues', 'NumberOfNumericFeatures', 'rows_with_null_values_count', 'categorical_target_variables_count', 'non_categorical_target_variables_count', 'categorical_target_values_sum', 'min_number_of_categories_per_cat_feature']\n"
     ]
    }
   ],
   "source": [
    "print(list(X_train.columns))"
   ]
  },
  {
   "cell_type": "code",
   "execution_count": 23,
   "id": "c576d50c",
   "metadata": {},
   "outputs": [
    {
     "name": "stdout",
     "output_type": "stream",
     "text": [
      "['dataset', 'encoder', 'rank', 'model_DTC', 'model_KNC', 'model_LGBMC', 'model_LR', 'model_SVC', 'tuning_full', 'tuning_model', 'tuning_no', 'scoring_ACC', 'scoring_AUC', 'scoring_F1']\n"
     ]
    }
   ],
   "source": [
    "print(list(base_df_mod.columns))"
   ]
  },
  {
   "cell_type": "code",
   "execution_count": 24,
   "id": "4b3b1ee4",
   "metadata": {},
   "outputs": [],
   "source": [
    "new_factors = ['dataset', \n",
    "               'model_DTC', \n",
    "               'model_KNC', \n",
    "               'model_LGBMC', \n",
    "               'model_LR', \n",
    "               'model_SVC', \n",
    "               'tuning_full', \n",
    "               'tuning_model', \n",
    "               'tuning_no', \n",
    "               'scoring_ACC', \n",
    "               'scoring_AUC', \n",
    "               'scoring_F1']\n",
    "new_factors = list(base_df_mod.columns)\n",
    "new_factors.remove(\"rank\")\n",
    "new_factors.remove(\"encoder\")"
   ]
  },
  {
   "cell_type": "markdown",
   "id": "9bc6ff3f",
   "metadata": {},
   "source": [
    "### Predict with CV"
   ]
  },
  {
   "cell_type": "code",
   "execution_count": 25,
   "id": "0bfc5a1d",
   "metadata": {},
   "outputs": [],
   "source": [
    "target = list(y_train.columns)\n",
    "factors = list(X_train.columns)\n",
    "cv_indices = src.evaluate_regression.custom_cross_validated_indices(pd.concat([X_train, y_train], axis=1), \n",
    "                                                                    factors, \n",
    "                                                                    target,  #target \n",
    "                                                                    n_splits=5, \n",
    "                                                                    shuffle=True, \n",
    "                                                                    random_state=1444)"
   ]
  },
  {
   "cell_type": "code",
   "execution_count": null,
   "id": "23ed8b19",
   "metadata": {
    "scrolled": true
   },
   "outputs": [
    {
     "name": "stdout",
     "output_type": "stream",
     "text": [
      "DecisionTreeClassifier(random_state=42)\n",
      "Avg Spearman: 0.7425 +/- 0.0065\n",
      "RandomForestClassifier(n_jobs=-1, random_state=42)\n",
      "Avg Spearman: 0.7113 +/- 0.0195\n",
      "ExtraTreeClassifier(random_state=42)\n",
      "Avg Spearman: 0.5618 +/- 0.0156\n"
     ]
    }
   ],
   "source": [
    "models = [\n",
    "    DecisionTreeClassifier(random_state=42),\n",
    "    RandomForestClassifier(random_state=42, n_jobs=-1),\n",
    "    ExtraTreeClassifier(random_state=42), \n",
    "    ExtraTreesClassifier(random_state=42, n_jobs=-1)\n",
    "]\n",
    "for model in models:\n",
    "    scores = []\n",
    "    for fold in cv_indices:\n",
    "        X_tr = X_train.iloc[fold[0]].copy()\n",
    "        X_te = X_train.iloc[fold[1]].copy()\n",
    "        y_tr = y_train.iloc[fold[0]].copy()\n",
    "        y_te = y_train.iloc[fold[1]].copy()\n",
    "\n",
    "        pipeline = Pipeline([(\"scaler\", MinMaxScaler()), (\"model\", model)])\n",
    "        y_pred = pd.DataFrame(pipeline.fit(X_tr, y_tr).predict(X_te), columns=y_tr.columns, index=X_te.index)\n",
    "        # In contrast to the example use df_train\n",
    "        # It should do the same, since a inner join is used and the other part consists of X_te\n",
    "        tmp = pu.join_pairwise2rankings(X_te, y_pred, factors)\n",
    "        df_pred = pd.merge(base_df_mod,\n",
    "                           tmp,\n",
    "                           on=new_factors + [\"encoder\"], how=\"inner\")\n",
    "\n",
    "        rankings_test = er.get_rankings(df_pred, factors=new_factors, new_index=new_index, target=\"rank\")\n",
    "        rankings_pred = er.get_rankings(df_pred, factors=new_factors, new_index=new_index, target=\"rank_pred\")\n",
    "        scores.append(er.average_spearman(rankings_test, rankings_pred))\n",
    "    \n",
    "    # Print scores\n",
    "    print(f\"{model}\")\n",
    "    print(f\"Avg Spearman: {round(np.mean(scores), 4)} +/- {round(np.std(scores), 4)}\")"
   ]
  },
  {
   "cell_type": "code",
   "execution_count": null,
   "id": "1f7cbe4b",
   "metadata": {},
   "outputs": [],
   "source": []
  },
  {
   "cell_type": "code",
   "execution_count": null,
   "id": "3de762c6",
   "metadata": {},
   "outputs": [],
   "source": []
  }
 ],
 "metadata": {
  "kernelspec": {
   "display_name": "Python 3 (ipykernel)",
   "language": "python",
   "name": "python3"
  },
  "language_info": {
   "codemirror_mode": {
    "name": "ipython",
    "version": 3
   },
   "file_extension": ".py",
   "mimetype": "text/x-python",
   "name": "python",
   "nbconvert_exporter": "python",
   "pygments_lexer": "ipython3",
   "version": "3.10.6"
  }
 },
 "nbformat": 4,
 "nbformat_minor": 5
}
