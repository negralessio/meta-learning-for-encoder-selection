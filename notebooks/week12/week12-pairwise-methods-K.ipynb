{
 "cells": [
  {
   "cell_type": "code",
   "execution_count": 1,
   "id": "dd78f586",
   "metadata": {},
   "outputs": [
    {
     "data": {
      "text/html": [
       "<style>.container { width:95% !important; }</style>"
      ],
      "text/plain": [
       "<IPython.core.display.HTML object>"
      ]
     },
     "metadata": {},
     "output_type": "display_data"
    }
   ],
   "source": [
    "from IPython.display import display, HTML\n",
    "display(HTML(\"<style>.container { width:95% !important; }</style>\"))"
   ]
  },
  {
   "cell_type": "code",
   "execution_count": 2,
   "id": "ae1bd9c2",
   "metadata": {},
   "outputs": [],
   "source": [
    "import os\n",
    "import pandas as pd\n",
    "import numpy as np\n",
    "import math\n",
    "\n",
    "import sys\n",
    "sys.path.append(\"../..\")\n",
    "from src.load_datasets import load_dataset, load_rankings, load_train_data\n",
    "import src.evaluate_regression\n",
    "\n",
    "# From example\n",
    "import src.encoder_utils as eu\n",
    "import src.evaluate_regression as er\n",
    "import src.load_datasets as ld\n",
    "import src.pairwise_utils as pu\n",
    "\n",
    "from category_encoders import OneHotEncoder\n",
    "from pathlib import Path\n",
    "from sklearn.metrics import f1_score\n",
    "from sklearn.tree import DecisionTreeClassifier\n",
    "from sklearn.pipeline import Pipeline\n",
    "\n",
    "# Classifiers\n",
    "from sklearn.ensemble import RandomForestClassifier, ExtraTreesClassifier\n",
    "from sklearn.tree import DecisionTreeClassifier, ExtraTreeClassifier"
   ]
  },
  {
   "cell_type": "markdown",
   "id": "a74e6b37",
   "metadata": {},
   "source": [
    "# Example\n",
    "\n",
    "- With CV\n",
    "- Without preprocessing"
   ]
  },
  {
   "cell_type": "code",
   "execution_count": 3,
   "id": "23bc3d7d",
   "metadata": {},
   "outputs": [],
   "source": [
    "# Define variables for ranking\n",
    "factors = [\"dataset\", \"model\", \"tuning\", \"scoring\"]\n",
    "new_index = \"encoder\"\n",
    "target = \"rank\""
   ]
  },
  {
   "cell_type": "code",
   "execution_count": 4,
   "id": "13b0aed5",
   "metadata": {
    "scrolled": true
   },
   "outputs": [
    {
     "name": "stdout",
     "output_type": "stream",
     "text": [
      "Loading data from '../../data/raw/dataset_rank_train.csv' ...\n"
     ]
    }
   ],
   "source": [
    "df_train = load_dataset(\"../../data/raw/dataset_rank_train.csv\")\n",
    "\n",
    "if \"cv_score\" in df_train.columns:\n",
    "    df_train = df_train.drop(\"cv_score\", axis=1)\n",
    "\n",
    "X_train = df_train.drop(target, axis=1)\n",
    "y_train = df_train[target]"
   ]
  },
  {
   "cell_type": "code",
   "execution_count": 5,
   "id": "0861d1f9",
   "metadata": {},
   "outputs": [
    {
     "name": "stdout",
     "output_type": "stream",
     "text": [
      "(1161, 4)\n"
     ]
    },
    {
     "data": {
      "text/html": [
       "<div>\n",
       "<style scoped>\n",
       "    .dataframe tbody tr th:only-of-type {\n",
       "        vertical-align: middle;\n",
       "    }\n",
       "\n",
       "    .dataframe tbody tr th {\n",
       "        vertical-align: top;\n",
       "    }\n",
       "\n",
       "    .dataframe thead th {\n",
       "        text-align: right;\n",
       "    }\n",
       "</style>\n",
       "<table border=\"1\" class=\"dataframe\">\n",
       "  <thead>\n",
       "    <tr style=\"text-align: right;\">\n",
       "      <th></th>\n",
       "      <th>dataset</th>\n",
       "      <th>model</th>\n",
       "      <th>tuning</th>\n",
       "      <th>scoring</th>\n",
       "    </tr>\n",
       "  </thead>\n",
       "  <tbody>\n",
       "    <tr>\n",
       "      <th>0</th>\n",
       "      <td>3</td>\n",
       "      <td>DTC</td>\n",
       "      <td>full</td>\n",
       "      <td>ACC</td>\n",
       "    </tr>\n",
       "    <tr>\n",
       "      <th>1</th>\n",
       "      <td>3</td>\n",
       "      <td>DTC</td>\n",
       "      <td>full</td>\n",
       "      <td>AUC</td>\n",
       "    </tr>\n",
       "    <tr>\n",
       "      <th>2</th>\n",
       "      <td>3</td>\n",
       "      <td>DTC</td>\n",
       "      <td>full</td>\n",
       "      <td>F1</td>\n",
       "    </tr>\n",
       "    <tr>\n",
       "      <th>3</th>\n",
       "      <td>3</td>\n",
       "      <td>DTC</td>\n",
       "      <td>model</td>\n",
       "      <td>AUC</td>\n",
       "    </tr>\n",
       "    <tr>\n",
       "      <th>4</th>\n",
       "      <td>3</td>\n",
       "      <td>DTC</td>\n",
       "      <td>model</td>\n",
       "      <td>F1</td>\n",
       "    </tr>\n",
       "  </tbody>\n",
       "</table>\n",
       "</div>"
      ],
      "text/plain": [
       "   dataset model tuning scoring\n",
       "0        3   DTC   full     ACC\n",
       "1        3   DTC   full     AUC\n",
       "2        3   DTC   full      F1\n",
       "3        3   DTC  model     AUC\n",
       "4        3   DTC  model      F1"
      ]
     },
     "execution_count": 5,
     "metadata": {},
     "output_type": "execute_result"
    }
   ],
   "source": [
    "# For pairwise methods: \n",
    "X_train = df_train[factors + [\"encoder\"]].groupby(factors).agg(lambda x: np.nan).reset_index()[factors]\n",
    "print(X_train.shape)\n",
    "X_train.head()"
   ]
  },
  {
   "cell_type": "code",
   "execution_count": 6,
   "id": "43022e04",
   "metadata": {},
   "outputs": [
    {
     "name": "stdout",
     "output_type": "stream",
     "text": [
      "(1161, 992)\n"
     ]
    },
    {
     "data": {
      "text/html": [
       "<div>\n",
       "<style scoped>\n",
       "    .dataframe tbody tr th:only-of-type {\n",
       "        vertical-align: middle;\n",
       "    }\n",
       "\n",
       "    .dataframe tbody tr th {\n",
       "        vertical-align: top;\n",
       "    }\n",
       "\n",
       "    .dataframe thead th {\n",
       "        text-align: right;\n",
       "    }\n",
       "</style>\n",
       "<table border=\"1\" class=\"dataframe\">\n",
       "  <thead>\n",
       "    <tr style=\"text-align: right;\">\n",
       "      <th></th>\n",
       "      <th>(BUCV2RGLMME, BUCV2TE)</th>\n",
       "      <th>(BUCV2TE, BUCV2RGLMME)</th>\n",
       "      <th>(BUCV2RGLMME, CBE)</th>\n",
       "      <th>(CBE, BUCV2RGLMME)</th>\n",
       "      <th>(BUCV2RGLMME, CE)</th>\n",
       "      <th>(CE, BUCV2RGLMME)</th>\n",
       "      <th>(BUCV2RGLMME, CV10RGLMME)</th>\n",
       "      <th>(CV10RGLMME, BUCV2RGLMME)</th>\n",
       "      <th>(BUCV2RGLMME, CV10TE)</th>\n",
       "      <th>(CV10TE, BUCV2RGLMME)</th>\n",
       "      <th>...</th>\n",
       "      <th>(OHE, TE)</th>\n",
       "      <th>(TE, OHE)</th>\n",
       "      <th>(OHE, WOEE)</th>\n",
       "      <th>(WOEE, OHE)</th>\n",
       "      <th>(OHE, SE)</th>\n",
       "      <th>(SE, OHE)</th>\n",
       "      <th>(SE, TE)</th>\n",
       "      <th>(TE, SE)</th>\n",
       "      <th>(SE, WOEE)</th>\n",
       "      <th>(WOEE, SE)</th>\n",
       "    </tr>\n",
       "  </thead>\n",
       "  <tbody>\n",
       "    <tr>\n",
       "      <th>0</th>\n",
       "      <td>0.0</td>\n",
       "      <td>0.0</td>\n",
       "      <td>1.0</td>\n",
       "      <td>0.0</td>\n",
       "      <td>0.0</td>\n",
       "      <td>0.0</td>\n",
       "      <td>0.0</td>\n",
       "      <td>0.0</td>\n",
       "      <td>0.0</td>\n",
       "      <td>0.0</td>\n",
       "      <td>...</td>\n",
       "      <td>0.0</td>\n",
       "      <td>0.0</td>\n",
       "      <td>0.0</td>\n",
       "      <td>0.0</td>\n",
       "      <td>0.0</td>\n",
       "      <td>0.0</td>\n",
       "      <td>0.0</td>\n",
       "      <td>0.0</td>\n",
       "      <td>0.0</td>\n",
       "      <td>0.0</td>\n",
       "    </tr>\n",
       "    <tr>\n",
       "      <th>1</th>\n",
       "      <td>0.0</td>\n",
       "      <td>0.0</td>\n",
       "      <td>1.0</td>\n",
       "      <td>0.0</td>\n",
       "      <td>0.0</td>\n",
       "      <td>0.0</td>\n",
       "      <td>0.0</td>\n",
       "      <td>0.0</td>\n",
       "      <td>0.0</td>\n",
       "      <td>0.0</td>\n",
       "      <td>...</td>\n",
       "      <td>0.0</td>\n",
       "      <td>0.0</td>\n",
       "      <td>0.0</td>\n",
       "      <td>0.0</td>\n",
       "      <td>0.0</td>\n",
       "      <td>0.0</td>\n",
       "      <td>0.0</td>\n",
       "      <td>0.0</td>\n",
       "      <td>0.0</td>\n",
       "      <td>0.0</td>\n",
       "    </tr>\n",
       "    <tr>\n",
       "      <th>2</th>\n",
       "      <td>0.0</td>\n",
       "      <td>0.0</td>\n",
       "      <td>1.0</td>\n",
       "      <td>0.0</td>\n",
       "      <td>0.0</td>\n",
       "      <td>0.0</td>\n",
       "      <td>0.0</td>\n",
       "      <td>0.0</td>\n",
       "      <td>0.0</td>\n",
       "      <td>0.0</td>\n",
       "      <td>...</td>\n",
       "      <td>0.0</td>\n",
       "      <td>0.0</td>\n",
       "      <td>0.0</td>\n",
       "      <td>0.0</td>\n",
       "      <td>0.0</td>\n",
       "      <td>0.0</td>\n",
       "      <td>0.0</td>\n",
       "      <td>0.0</td>\n",
       "      <td>0.0</td>\n",
       "      <td>0.0</td>\n",
       "    </tr>\n",
       "    <tr>\n",
       "      <th>3</th>\n",
       "      <td>0.0</td>\n",
       "      <td>1.0</td>\n",
       "      <td>1.0</td>\n",
       "      <td>0.0</td>\n",
       "      <td>0.0</td>\n",
       "      <td>1.0</td>\n",
       "      <td>0.0</td>\n",
       "      <td>1.0</td>\n",
       "      <td>0.0</td>\n",
       "      <td>1.0</td>\n",
       "      <td>...</td>\n",
       "      <td>0.0</td>\n",
       "      <td>1.0</td>\n",
       "      <td>0.0</td>\n",
       "      <td>1.0</td>\n",
       "      <td>0.0</td>\n",
       "      <td>1.0</td>\n",
       "      <td>1.0</td>\n",
       "      <td>0.0</td>\n",
       "      <td>1.0</td>\n",
       "      <td>0.0</td>\n",
       "    </tr>\n",
       "    <tr>\n",
       "      <th>4</th>\n",
       "      <td>0.0</td>\n",
       "      <td>1.0</td>\n",
       "      <td>1.0</td>\n",
       "      <td>0.0</td>\n",
       "      <td>0.0</td>\n",
       "      <td>1.0</td>\n",
       "      <td>0.0</td>\n",
       "      <td>1.0</td>\n",
       "      <td>0.0</td>\n",
       "      <td>1.0</td>\n",
       "      <td>...</td>\n",
       "      <td>0.0</td>\n",
       "      <td>1.0</td>\n",
       "      <td>0.0</td>\n",
       "      <td>1.0</td>\n",
       "      <td>0.0</td>\n",
       "      <td>1.0</td>\n",
       "      <td>1.0</td>\n",
       "      <td>0.0</td>\n",
       "      <td>1.0</td>\n",
       "      <td>0.0</td>\n",
       "    </tr>\n",
       "  </tbody>\n",
       "</table>\n",
       "<p>5 rows × 992 columns</p>\n",
       "</div>"
      ],
      "text/plain": [
       "   (BUCV2RGLMME, BUCV2TE)  (BUCV2TE, BUCV2RGLMME)  (BUCV2RGLMME, CBE)  \\\n",
       "0                     0.0                     0.0                 1.0   \n",
       "1                     0.0                     0.0                 1.0   \n",
       "2                     0.0                     0.0                 1.0   \n",
       "3                     0.0                     1.0                 1.0   \n",
       "4                     0.0                     1.0                 1.0   \n",
       "\n",
       "   (CBE, BUCV2RGLMME)  (BUCV2RGLMME, CE)  (CE, BUCV2RGLMME)  \\\n",
       "0                 0.0                0.0                0.0   \n",
       "1                 0.0                0.0                0.0   \n",
       "2                 0.0                0.0                0.0   \n",
       "3                 0.0                0.0                1.0   \n",
       "4                 0.0                0.0                1.0   \n",
       "\n",
       "   (BUCV2RGLMME, CV10RGLMME)  (CV10RGLMME, BUCV2RGLMME)  \\\n",
       "0                        0.0                        0.0   \n",
       "1                        0.0                        0.0   \n",
       "2                        0.0                        0.0   \n",
       "3                        0.0                        1.0   \n",
       "4                        0.0                        1.0   \n",
       "\n",
       "   (BUCV2RGLMME, CV10TE)  (CV10TE, BUCV2RGLMME)  ...  (OHE, TE)  (TE, OHE)  \\\n",
       "0                    0.0                    0.0  ...        0.0        0.0   \n",
       "1                    0.0                    0.0  ...        0.0        0.0   \n",
       "2                    0.0                    0.0  ...        0.0        0.0   \n",
       "3                    0.0                    1.0  ...        0.0        1.0   \n",
       "4                    0.0                    1.0  ...        0.0        1.0   \n",
       "\n",
       "   (OHE, WOEE)  (WOEE, OHE)  (OHE, SE)  (SE, OHE)  (SE, TE)  (TE, SE)  \\\n",
       "0          0.0          0.0        0.0        0.0       0.0       0.0   \n",
       "1          0.0          0.0        0.0        0.0       0.0       0.0   \n",
       "2          0.0          0.0        0.0        0.0       0.0       0.0   \n",
       "3          0.0          1.0        0.0        1.0       1.0       0.0   \n",
       "4          0.0          1.0        0.0        1.0       1.0       0.0   \n",
       "\n",
       "   (SE, WOEE)  (WOEE, SE)  \n",
       "0         0.0         0.0  \n",
       "1         0.0         0.0  \n",
       "2         0.0         0.0  \n",
       "3         1.0         0.0  \n",
       "4         1.0         0.0  \n",
       "\n",
       "[5 rows x 992 columns]"
      ]
     },
     "execution_count": 6,
     "metadata": {},
     "output_type": "execute_result"
    }
   ],
   "source": [
    "y_train = pd.merge(X_train,\n",
    "                   pu.get_pairwise_target(df_train, features=factors, target=\"rank\", column_to_compare=\"encoder\"),\n",
    "                   on=factors, how=\"left\").drop(factors, axis=1).fillna(0)\n",
    "print(y_train.shape)\n",
    "y_train.head()"
   ]
  },
  {
   "cell_type": "code",
   "execution_count": 7,
   "id": "bc5beaa8",
   "metadata": {},
   "outputs": [],
   "source": [
    "target = list(y_train.columns)\n",
    "cv_indices = src.evaluate_regression.custom_cross_validated_indices(pd.concat([X_train, y_train], axis=1), \n",
    "                                                                    factors, \n",
    "                                                                    target,  #target \n",
    "                                                                    n_splits=5, \n",
    "                                                                    shuffle=True, \n",
    "                                                                    random_state=1444)"
   ]
  },
  {
   "cell_type": "code",
   "execution_count": 8,
   "id": "d4c2d592",
   "metadata": {},
   "outputs": [
    {
     "name": "stdout",
     "output_type": "stream",
     "text": [
      "0.7415857771215636\n",
      "0.7796569492579183\n",
      "0.7113952897343752\n",
      "0.746254071640334\n",
      "0.7178096169242445\n"
     ]
    }
   ],
   "source": [
    "for fold in cv_indices:\n",
    "    X_tr = X_train.iloc[fold[0]]\n",
    "    X_te = X_train.iloc[fold[1]]\n",
    "    y_tr = y_train.iloc[fold[0]]\n",
    "    y_te = y_train.iloc[fold[1]]\n",
    "    \n",
    "    dummy_pipe = Pipeline([(\"encoder\", eu.NoY(OneHotEncoder())), (\"model\", DecisionTreeClassifier())])\n",
    "    y_pred = pd.DataFrame(dummy_pipe.fit(X_tr, y_tr).predict(X_te), columns=y_tr.columns, index=X_te.index)\n",
    "    # In contrast to the example use df_train\n",
    "    # It should do the same, since a inner join is used and the other part consists of X_te\n",
    "    tmp = pu.join_pairwise2rankings(X_te, y_pred, factors)\n",
    "    df_pred = pd.merge(df_train,\n",
    "                       tmp,\n",
    "                       on=factors + [\"encoder\"], how=\"inner\")\n",
    "    \n",
    "    rankings_test = er.get_rankings(df_pred, factors=factors, new_index=new_index, target=\"rank\")\n",
    "    rankings_pred = er.get_rankings(df_pred, factors=factors, new_index=new_index, target=\"rank_pred\")\n",
    "    print(er.average_spearman(rankings_test, rankings_pred))"
   ]
  },
  {
   "cell_type": "markdown",
   "id": "78e29671",
   "metadata": {},
   "source": [
    "# Example\n",
    " \n",
    "- With CV\n",
    "- With preprocessing"
   ]
  },
  {
   "cell_type": "code",
   "execution_count": 9,
   "id": "8394a48c",
   "metadata": {},
   "outputs": [],
   "source": [
    "# Define variables for ranking\n",
    "factors = [\"dataset\", \"model\", \"tuning\", \"scoring\"]\n",
    "new_index = \"encoder\"\n",
    "target = \"rank\""
   ]
  },
  {
   "cell_type": "code",
   "execution_count": 10,
   "id": "8fd74574",
   "metadata": {},
   "outputs": [
    {
     "name": "stdout",
     "output_type": "stream",
     "text": [
      "Loading data from '../../data/raw/dataset_rank_train.csv' ...\n"
     ]
    }
   ],
   "source": [
    "df_train = load_dataset(\"../../data/raw/dataset_rank_train.csv\")\n",
    "\n",
    "if \"cv_score\" in df_train.columns:\n",
    "    df_train = df_train.drop(\"cv_score\", axis=1)\n",
    "\n",
    "X_train = df_train.drop(target, axis=1)\n",
    "y_train = df_train[target]"
   ]
  },
  {
   "cell_type": "code",
   "execution_count": 11,
   "id": "65223881",
   "metadata": {},
   "outputs": [
    {
     "name": "stdout",
     "output_type": "stream",
     "text": [
      "(1161, 4)\n"
     ]
    },
    {
     "data": {
      "text/html": [
       "<div>\n",
       "<style scoped>\n",
       "    .dataframe tbody tr th:only-of-type {\n",
       "        vertical-align: middle;\n",
       "    }\n",
       "\n",
       "    .dataframe tbody tr th {\n",
       "        vertical-align: top;\n",
       "    }\n",
       "\n",
       "    .dataframe thead th {\n",
       "        text-align: right;\n",
       "    }\n",
       "</style>\n",
       "<table border=\"1\" class=\"dataframe\">\n",
       "  <thead>\n",
       "    <tr style=\"text-align: right;\">\n",
       "      <th></th>\n",
       "      <th>dataset</th>\n",
       "      <th>model</th>\n",
       "      <th>tuning</th>\n",
       "      <th>scoring</th>\n",
       "    </tr>\n",
       "  </thead>\n",
       "  <tbody>\n",
       "    <tr>\n",
       "      <th>0</th>\n",
       "      <td>3</td>\n",
       "      <td>DTC</td>\n",
       "      <td>full</td>\n",
       "      <td>ACC</td>\n",
       "    </tr>\n",
       "    <tr>\n",
       "      <th>1</th>\n",
       "      <td>3</td>\n",
       "      <td>DTC</td>\n",
       "      <td>full</td>\n",
       "      <td>AUC</td>\n",
       "    </tr>\n",
       "    <tr>\n",
       "      <th>2</th>\n",
       "      <td>3</td>\n",
       "      <td>DTC</td>\n",
       "      <td>full</td>\n",
       "      <td>F1</td>\n",
       "    </tr>\n",
       "    <tr>\n",
       "      <th>3</th>\n",
       "      <td>3</td>\n",
       "      <td>DTC</td>\n",
       "      <td>model</td>\n",
       "      <td>AUC</td>\n",
       "    </tr>\n",
       "    <tr>\n",
       "      <th>4</th>\n",
       "      <td>3</td>\n",
       "      <td>DTC</td>\n",
       "      <td>model</td>\n",
       "      <td>F1</td>\n",
       "    </tr>\n",
       "  </tbody>\n",
       "</table>\n",
       "</div>"
      ],
      "text/plain": [
       "   dataset model tuning scoring\n",
       "0        3   DTC   full     ACC\n",
       "1        3   DTC   full     AUC\n",
       "2        3   DTC   full      F1\n",
       "3        3   DTC  model     AUC\n",
       "4        3   DTC  model      F1"
      ]
     },
     "execution_count": 11,
     "metadata": {},
     "output_type": "execute_result"
    }
   ],
   "source": [
    "# For pairwise methods: \n",
    "X_train = df_train[factors + [\"encoder\"]].groupby(factors).agg(lambda x: np.nan).reset_index()[factors]\n",
    "print(X_train.shape)\n",
    "X_train.head()"
   ]
  },
  {
   "cell_type": "code",
   "execution_count": 12,
   "id": "814c11fa",
   "metadata": {},
   "outputs": [
    {
     "name": "stdout",
     "output_type": "stream",
     "text": [
      "(1161, 992)\n"
     ]
    },
    {
     "data": {
      "text/html": [
       "<div>\n",
       "<style scoped>\n",
       "    .dataframe tbody tr th:only-of-type {\n",
       "        vertical-align: middle;\n",
       "    }\n",
       "\n",
       "    .dataframe tbody tr th {\n",
       "        vertical-align: top;\n",
       "    }\n",
       "\n",
       "    .dataframe thead th {\n",
       "        text-align: right;\n",
       "    }\n",
       "</style>\n",
       "<table border=\"1\" class=\"dataframe\">\n",
       "  <thead>\n",
       "    <tr style=\"text-align: right;\">\n",
       "      <th></th>\n",
       "      <th>(BUCV2RGLMME, BUCV2TE)</th>\n",
       "      <th>(BUCV2TE, BUCV2RGLMME)</th>\n",
       "      <th>(BUCV2RGLMME, CBE)</th>\n",
       "      <th>(CBE, BUCV2RGLMME)</th>\n",
       "      <th>(BUCV2RGLMME, CE)</th>\n",
       "      <th>(CE, BUCV2RGLMME)</th>\n",
       "      <th>(BUCV2RGLMME, CV10RGLMME)</th>\n",
       "      <th>(CV10RGLMME, BUCV2RGLMME)</th>\n",
       "      <th>(BUCV2RGLMME, CV10TE)</th>\n",
       "      <th>(CV10TE, BUCV2RGLMME)</th>\n",
       "      <th>...</th>\n",
       "      <th>(OHE, TE)</th>\n",
       "      <th>(TE, OHE)</th>\n",
       "      <th>(OHE, WOEE)</th>\n",
       "      <th>(WOEE, OHE)</th>\n",
       "      <th>(OHE, SE)</th>\n",
       "      <th>(SE, OHE)</th>\n",
       "      <th>(SE, TE)</th>\n",
       "      <th>(TE, SE)</th>\n",
       "      <th>(SE, WOEE)</th>\n",
       "      <th>(WOEE, SE)</th>\n",
       "    </tr>\n",
       "  </thead>\n",
       "  <tbody>\n",
       "    <tr>\n",
       "      <th>0</th>\n",
       "      <td>0.0</td>\n",
       "      <td>0.0</td>\n",
       "      <td>1.0</td>\n",
       "      <td>0.0</td>\n",
       "      <td>0.0</td>\n",
       "      <td>0.0</td>\n",
       "      <td>0.0</td>\n",
       "      <td>0.0</td>\n",
       "      <td>0.0</td>\n",
       "      <td>0.0</td>\n",
       "      <td>...</td>\n",
       "      <td>0.0</td>\n",
       "      <td>0.0</td>\n",
       "      <td>0.0</td>\n",
       "      <td>0.0</td>\n",
       "      <td>0.0</td>\n",
       "      <td>0.0</td>\n",
       "      <td>0.0</td>\n",
       "      <td>0.0</td>\n",
       "      <td>0.0</td>\n",
       "      <td>0.0</td>\n",
       "    </tr>\n",
       "    <tr>\n",
       "      <th>1</th>\n",
       "      <td>0.0</td>\n",
       "      <td>0.0</td>\n",
       "      <td>1.0</td>\n",
       "      <td>0.0</td>\n",
       "      <td>0.0</td>\n",
       "      <td>0.0</td>\n",
       "      <td>0.0</td>\n",
       "      <td>0.0</td>\n",
       "      <td>0.0</td>\n",
       "      <td>0.0</td>\n",
       "      <td>...</td>\n",
       "      <td>0.0</td>\n",
       "      <td>0.0</td>\n",
       "      <td>0.0</td>\n",
       "      <td>0.0</td>\n",
       "      <td>0.0</td>\n",
       "      <td>0.0</td>\n",
       "      <td>0.0</td>\n",
       "      <td>0.0</td>\n",
       "      <td>0.0</td>\n",
       "      <td>0.0</td>\n",
       "    </tr>\n",
       "    <tr>\n",
       "      <th>2</th>\n",
       "      <td>0.0</td>\n",
       "      <td>0.0</td>\n",
       "      <td>1.0</td>\n",
       "      <td>0.0</td>\n",
       "      <td>0.0</td>\n",
       "      <td>0.0</td>\n",
       "      <td>0.0</td>\n",
       "      <td>0.0</td>\n",
       "      <td>0.0</td>\n",
       "      <td>0.0</td>\n",
       "      <td>...</td>\n",
       "      <td>0.0</td>\n",
       "      <td>0.0</td>\n",
       "      <td>0.0</td>\n",
       "      <td>0.0</td>\n",
       "      <td>0.0</td>\n",
       "      <td>0.0</td>\n",
       "      <td>0.0</td>\n",
       "      <td>0.0</td>\n",
       "      <td>0.0</td>\n",
       "      <td>0.0</td>\n",
       "    </tr>\n",
       "    <tr>\n",
       "      <th>3</th>\n",
       "      <td>0.0</td>\n",
       "      <td>1.0</td>\n",
       "      <td>1.0</td>\n",
       "      <td>0.0</td>\n",
       "      <td>0.0</td>\n",
       "      <td>1.0</td>\n",
       "      <td>0.0</td>\n",
       "      <td>1.0</td>\n",
       "      <td>0.0</td>\n",
       "      <td>1.0</td>\n",
       "      <td>...</td>\n",
       "      <td>0.0</td>\n",
       "      <td>1.0</td>\n",
       "      <td>0.0</td>\n",
       "      <td>1.0</td>\n",
       "      <td>0.0</td>\n",
       "      <td>1.0</td>\n",
       "      <td>1.0</td>\n",
       "      <td>0.0</td>\n",
       "      <td>1.0</td>\n",
       "      <td>0.0</td>\n",
       "    </tr>\n",
       "    <tr>\n",
       "      <th>4</th>\n",
       "      <td>0.0</td>\n",
       "      <td>1.0</td>\n",
       "      <td>1.0</td>\n",
       "      <td>0.0</td>\n",
       "      <td>0.0</td>\n",
       "      <td>1.0</td>\n",
       "      <td>0.0</td>\n",
       "      <td>1.0</td>\n",
       "      <td>0.0</td>\n",
       "      <td>1.0</td>\n",
       "      <td>...</td>\n",
       "      <td>0.0</td>\n",
       "      <td>1.0</td>\n",
       "      <td>0.0</td>\n",
       "      <td>1.0</td>\n",
       "      <td>0.0</td>\n",
       "      <td>1.0</td>\n",
       "      <td>1.0</td>\n",
       "      <td>0.0</td>\n",
       "      <td>1.0</td>\n",
       "      <td>0.0</td>\n",
       "    </tr>\n",
       "  </tbody>\n",
       "</table>\n",
       "<p>5 rows × 992 columns</p>\n",
       "</div>"
      ],
      "text/plain": [
       "   (BUCV2RGLMME, BUCV2TE)  (BUCV2TE, BUCV2RGLMME)  (BUCV2RGLMME, CBE)  \\\n",
       "0                     0.0                     0.0                 1.0   \n",
       "1                     0.0                     0.0                 1.0   \n",
       "2                     0.0                     0.0                 1.0   \n",
       "3                     0.0                     1.0                 1.0   \n",
       "4                     0.0                     1.0                 1.0   \n",
       "\n",
       "   (CBE, BUCV2RGLMME)  (BUCV2RGLMME, CE)  (CE, BUCV2RGLMME)  \\\n",
       "0                 0.0                0.0                0.0   \n",
       "1                 0.0                0.0                0.0   \n",
       "2                 0.0                0.0                0.0   \n",
       "3                 0.0                0.0                1.0   \n",
       "4                 0.0                0.0                1.0   \n",
       "\n",
       "   (BUCV2RGLMME, CV10RGLMME)  (CV10RGLMME, BUCV2RGLMME)  \\\n",
       "0                        0.0                        0.0   \n",
       "1                        0.0                        0.0   \n",
       "2                        0.0                        0.0   \n",
       "3                        0.0                        1.0   \n",
       "4                        0.0                        1.0   \n",
       "\n",
       "   (BUCV2RGLMME, CV10TE)  (CV10TE, BUCV2RGLMME)  ...  (OHE, TE)  (TE, OHE)  \\\n",
       "0                    0.0                    0.0  ...        0.0        0.0   \n",
       "1                    0.0                    0.0  ...        0.0        0.0   \n",
       "2                    0.0                    0.0  ...        0.0        0.0   \n",
       "3                    0.0                    1.0  ...        0.0        1.0   \n",
       "4                    0.0                    1.0  ...        0.0        1.0   \n",
       "\n",
       "   (OHE, WOEE)  (WOEE, OHE)  (OHE, SE)  (SE, OHE)  (SE, TE)  (TE, SE)  \\\n",
       "0          0.0          0.0        0.0        0.0       0.0       0.0   \n",
       "1          0.0          0.0        0.0        0.0       0.0       0.0   \n",
       "2          0.0          0.0        0.0        0.0       0.0       0.0   \n",
       "3          0.0          1.0        0.0        1.0       1.0       0.0   \n",
       "4          0.0          1.0        0.0        1.0       1.0       0.0   \n",
       "\n",
       "   (SE, WOEE)  (WOEE, SE)  \n",
       "0         0.0         0.0  \n",
       "1         0.0         0.0  \n",
       "2         0.0         0.0  \n",
       "3         1.0         0.0  \n",
       "4         1.0         0.0  \n",
       "\n",
       "[5 rows x 992 columns]"
      ]
     },
     "execution_count": 12,
     "metadata": {},
     "output_type": "execute_result"
    }
   ],
   "source": [
    "y_train = pd.merge(X_train,\n",
    "                   pu.get_pairwise_target(df_train, features=factors, target=\"rank\", column_to_compare=\"encoder\"),\n",
    "                   on=factors, how=\"left\").drop(factors, axis=1).fillna(0)\n",
    "print(y_train.shape)\n",
    "y_train.head()"
   ]
  },
  {
   "cell_type": "markdown",
   "id": "a6df5503",
   "metadata": {},
   "source": [
    "### Preprocessing\n",
    "\n",
    "- Do not preprocess (embed) the encoder features (because it is not present in this task)"
   ]
  },
  {
   "cell_type": "code",
   "execution_count": 13,
   "id": "899919f5",
   "metadata": {},
   "outputs": [],
   "source": [
    "import src.encoding\n",
    "from src.feature_engineering import normalize_train_data, normalize_test_data\n",
    "from src.meta_information import add_dataset_meta_information\n",
    "from src.data_cleaning import drop_pearson_correlated_features"
   ]
  },
  {
   "cell_type": "code",
   "execution_count": 14,
   "id": "2c171cb6",
   "metadata": {},
   "outputs": [],
   "source": [
    "base_df = df_train.copy()\n",
    "base_y = y_train.copy()"
   ]
  },
  {
   "cell_type": "code",
   "execution_count": 15,
   "id": "787434e6",
   "metadata": {},
   "outputs": [
    {
     "name": "stdout",
     "output_type": "stream",
     "text": [
      "One Hot Encoding the features ['model', 'tuning', 'scoring'] of the train data ...\n"
     ]
    }
   ],
   "source": [
    "# OHE encoding \n",
    "X_train, ohe = src.encoding.ohe_encode_train_data(X_train=X_train,\n",
    "                                                  cols_to_encode=[\"model\", \"tuning\", \"scoring\"],\n",
    "                                                  verbosity=2)"
   ]
  },
  {
   "cell_type": "code",
   "execution_count": 16,
   "id": "eee4e92c",
   "metadata": {},
   "outputs": [
    {
     "name": "stdout",
     "output_type": "stream",
     "text": [
      "One Hot Encoding the features ['model', 'tuning', 'scoring'] of the test data ...\n"
     ]
    }
   ],
   "source": [
    "base_df_mod = src.encoding.ohe_encode_test_data(X_test=base_df,\n",
    "                                                cols_to_encode=[\"model\", \"tuning\", \"scoring\"],\n",
    "                                                ohe=ohe, \n",
    "                                                verbosity=2)"
   ]
  },
  {
   "cell_type": "code",
   "execution_count": 17,
   "id": "7e8ac31d",
   "metadata": {},
   "outputs": [],
   "source": [
    "X_train = add_dataset_meta_information(df=X_train,\n",
    "                                       path_to_meta_df=\"../../data/preprocessed/dataset_agg.csv\",\n",
    "                                       nan_threshold=0.5,\n",
    "                                       replacing_strategy=\"median\")"
   ]
  },
  {
   "cell_type": "code",
   "execution_count": 18,
   "id": "f1ae4bf4",
   "metadata": {},
   "outputs": [],
   "source": [
    "#cols = list(base_df_mod.columns)"
   ]
  },
  {
   "cell_type": "code",
   "execution_count": 19,
   "id": "a8a7b7e5",
   "metadata": {},
   "outputs": [],
   "source": [
    "#X_train, scaler = normalize_train_data(X_train=X_train[cols], \n",
    "#                                       method=\"minmax\",\n",
    "#                                       verbosity=2)"
   ]
  },
  {
   "cell_type": "code",
   "execution_count": 20,
   "id": "244d3fab",
   "metadata": {},
   "outputs": [],
   "source": [
    "#x_test_scaled = scaler.transform(base_df_mod)\n",
    "## Transform back to pandas DataFrame\n",
    "#base_df_mod_scaled = pd.DataFrame(x_test_scaled, columns=base_df_mod.columns, index=base_df_mod.index)\n",
    "#base_df_mod_scaled.head()"
   ]
  },
  {
   "cell_type": "code",
   "execution_count": 21,
   "id": "17fa9d02",
   "metadata": {},
   "outputs": [
    {
     "name": "stdout",
     "output_type": "stream",
     "text": [
      "(1161, 131)\n"
     ]
    }
   ],
   "source": [
    "print(X_train.shape)"
   ]
  },
  {
   "cell_type": "code",
   "execution_count": 22,
   "id": "a1368699",
   "metadata": {},
   "outputs": [
    {
     "name": "stdout",
     "output_type": "stream",
     "text": [
      "Drop pearson correlated features with threshold 0.7...\n",
      "Filter correlated features\n"
     ]
    }
   ],
   "source": [
    "X_train, _ = drop_pearson_correlated_features(train_data=X_train, \n",
    "                                              test_data=X_train, \n",
    "                                              threshold=0.7, \n",
    "                                              verbosity=2)"
   ]
  },
  {
   "cell_type": "code",
   "execution_count": 23,
   "id": "893c4151",
   "metadata": {},
   "outputs": [
    {
     "name": "stdout",
     "output_type": "stream",
     "text": [
      "['dataset', 'model_DTC', 'model_KNC', 'model_LGBMC', 'model_LR', 'model_SVC', 'tuning_full', 'tuning_model', 'tuning_no', 'scoring_ACC', 'scoring_AUC', 'scoring_F1', 'Quartile1KurtosisOfNumericAtts', 'J48.001.ErrRate', 'Dimensionality', 'Quartile2MutualInformation', 'MinSkewnessOfNumericAtts', 'Quartile2AttributeEntropy', 'MinorityClassSize', 'MajorityClassPercentage', 'Quartile2StdDevOfNumericAtts', 'NumberOfBinaryFeatures', 'Quartile1MutualInformation', 'Quartile1MeansOfNumericAtts', 'MaxMutualInformation', 'AutoCorrelation', 'PercentageOfBinaryFeatures', 'MinKurtosisOfNumericAtts', 'DecisionStumpErrRate', 'PercentageOfNumericFeatures', 'NumberOfSymbolicFeatures', 'MinMutualInformation', 'PercentageOfInstancesWithMissingValues', 'MinNominalAttDistinctValues', 'NumberOfNumericFeatures', 'rows_with_null_values_count', 'categorical_target_variables_count', 'non_categorical_target_variables_count', 'categorical_target_values_sum', 'min_number_of_categories_per_cat_feature']\n"
     ]
    }
   ],
   "source": [
    "print(list(X_train.columns))"
   ]
  },
  {
   "cell_type": "code",
   "execution_count": 24,
   "id": "0cb56ff5",
   "metadata": {},
   "outputs": [
    {
     "name": "stdout",
     "output_type": "stream",
     "text": [
      "['dataset', 'encoder', 'rank', 'model_DTC', 'model_KNC', 'model_LGBMC', 'model_LR', 'model_SVC', 'tuning_full', 'tuning_model', 'tuning_no', 'scoring_ACC', 'scoring_AUC', 'scoring_F1']\n"
     ]
    }
   ],
   "source": [
    "print(list(base_df_mod.columns))"
   ]
  },
  {
   "cell_type": "code",
   "execution_count": 25,
   "id": "7b0dd149",
   "metadata": {},
   "outputs": [],
   "source": [
    "new_factors = ['dataset', \n",
    "               'model_DTC', \n",
    "               'model_KNC', \n",
    "               'model_LGBMC', \n",
    "               'model_LR', \n",
    "               'model_SVC', \n",
    "               'tuning_full', \n",
    "               'tuning_model', \n",
    "               'tuning_no', \n",
    "               'scoring_ACC', \n",
    "               'scoring_AUC', \n",
    "               'scoring_F1']"
   ]
  },
  {
   "cell_type": "markdown",
   "id": "5c12f167",
   "metadata": {},
   "source": [
    "### Predict with CV"
   ]
  },
  {
   "cell_type": "code",
   "execution_count": 26,
   "id": "9d542cc3",
   "metadata": {},
   "outputs": [],
   "source": [
    "target = list(y_train.columns)\n",
    "factors = list(X_train.columns)\n",
    "cv_indices = src.evaluate_regression.custom_cross_validated_indices(pd.concat([X_train, y_train], axis=1), \n",
    "                                                                    factors, \n",
    "                                                                    target,  #target \n",
    "                                                                    n_splits=5, \n",
    "                                                                    shuffle=True, \n",
    "                                                                    random_state=1444)"
   ]
  },
  {
   "cell_type": "code",
   "execution_count": 27,
   "id": "6fed7980",
   "metadata": {
    "scrolled": true
   },
   "outputs": [
    {
     "name": "stdout",
     "output_type": "stream",
     "text": [
      "0.7357501974376449\n",
      "0.7483778096628703\n",
      "0.7331696643242575\n",
      "0.7534328653883745\n",
      "0.741649525010256\n"
     ]
    }
   ],
   "source": [
    "for fold in cv_indices:\n",
    "    X_tr = X_train.iloc[fold[0]].copy()\n",
    "    X_te = X_train.iloc[fold[1]].copy()\n",
    "    y_tr = y_train.iloc[fold[0]].copy()\n",
    "    y_te = y_train.iloc[fold[1]].copy()\n",
    "    \n",
    "    dummy_pipe = Pipeline([(\"encoder\", eu.NoY(OneHotEncoder())), (\"model\", DecisionTreeClassifier())])\n",
    "    model = DecisionTreeClassifier()\n",
    "    \n",
    "    y_pred = pd.DataFrame(model.fit(X_tr, y_tr).predict(X_te), columns=y_tr.columns, index=X_te.index)\n",
    "    # In contrast to the example use df_train\n",
    "    # It should do the same, since a inner join is used and the other part consists of X_te\n",
    "    \n",
    "    #print(X_te.shape)\n",
    "    #print(y_pred.shape)\n",
    "    #print(X_te.columns)\n",
    "    #print(factors)\n",
    "    #tmp = pu.join_pairwise2rankings(X_te, y_pred, factors)\n",
    "    X_te = X_te[factors]\n",
    "    tmp = pu.join_pairwise2rankings(X_te, y_pred, factors)\n",
    "    \n",
    "    df_pred = pd.merge(base_df_mod,\n",
    "                       tmp,\n",
    "                       #on=factors + [\"encoder\"], how=\"inner\")\n",
    "                       on=new_factors + [\"encoder\"], how=\"inner\")\n",
    "    \n",
    "    rankings_test = er.get_rankings(df_pred, factors=new_factors, new_index=new_index, target=\"rank\")\n",
    "    rankings_pred = er.get_rankings(df_pred, factors=new_factors, new_index=new_index, target=\"rank_pred\")\n",
    "    print(er.average_spearman(rankings_test, rankings_pred))"
   ]
  },
  {
   "cell_type": "markdown",
   "id": "26485eae",
   "metadata": {},
   "source": [
    "# Multiclass classification"
   ]
  },
  {
   "cell_type": "code",
   "execution_count": null,
   "id": "d0108271",
   "metadata": {},
   "outputs": [],
   "source": [
    "from sklearn.metrics import matthews_corrcoef\n",
    "\n",
    "def manual_cv(indices=None, X=None, y=None):\n",
    "    for fold in indices: \n",
    "        X_train = X.loc[fold[0]]\n",
    "        y_train = y.loc[fold[0]]\n",
    "        \n",
    "        X_test = X.loc[fold[1]]\n",
    "        y_test = y.loc[fold[1]]\n",
    "        \n",
    "        model = RandomForestClassifier(random_state=42, n_jobs=-1)\n",
    "        model.fit(X_train, y_train)\n",
    "        \n",
    "        preds = model.predict(X_test)\n",
    "        score = matthews_corrcoef(y_test, preds)\n",
    "        \n",
    "        print(f\"PREDICTIONS : {preds[:10]}\")\n",
    "        print(f\"Ground truth: {list(y_test[:10])}\")\n",
    "        \n",
    "        print(f\"MCC: {round(score, 4)}\")\n",
    "    "
   ]
  },
  {
   "cell_type": "code",
   "execution_count": null,
   "id": "647039e5",
   "metadata": {},
   "outputs": [],
   "source": [
    "%%time\n",
    "\n",
    "# Use the labels as they are\n",
    "from sklearn.ensemble import RandomForestClassifier\n",
    "from sklearn.model_selection import cross_validate\n",
    "\n",
    "model = RandomForestClassifier(random_state=42)\n",
    "\n",
    "cv_results = cross_validate(estimator=model, \n",
    "                            X=X_train, \n",
    "                            y=y_train,\n",
    "                            cv=cv_indices, \n",
    "                            scoring=[\"matthews_corrcoef\", \"accuracy\"],  # , \"f1\"\n",
    "                            n_jobs=-1, \n",
    "                            return_train_score=True)"
   ]
  },
  {
   "cell_type": "code",
   "execution_count": null,
   "id": "9f01d5b2",
   "metadata": {},
   "outputs": [],
   "source": [
    "for scorer in [\"matthews_corrcoef\", \"accuracy\"]:\n",
    "    print(f\"CV Test {scorer}: {round(cv_results[f'test_{scorer}'].mean(), 4)} +/- {round(cv_results[f'test_{scorer}'].std(), 4)}\")"
   ]
  },
  {
   "cell_type": "code",
   "execution_count": null,
   "id": "1f7cbe4b",
   "metadata": {},
   "outputs": [],
   "source": []
  }
 ],
 "metadata": {
  "kernelspec": {
   "display_name": "Python 3 (ipykernel)",
   "language": "python",
   "name": "python3"
  },
  "language_info": {
   "codemirror_mode": {
    "name": "ipython",
    "version": 3
   },
   "file_extension": ".py",
   "mimetype": "text/x-python",
   "name": "python",
   "nbconvert_exporter": "python",
   "pygments_lexer": "ipython3",
   "version": "3.10.0"
  }
 },
 "nbformat": 4,
 "nbformat_minor": 5
}
